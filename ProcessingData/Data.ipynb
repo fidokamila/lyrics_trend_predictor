{
 "cells": [
  {
   "cell_type": "markdown",
   "source": [],
   "metadata": {
    "collapsed": false
   },
   "id": "20abaf2fbeeccffd"
  },
  {
   "cell_type": "markdown",
   "source": [
    "# Get spotify access token"
   ],
   "metadata": {
    "collapsed": false
   },
   "id": "30c84625145d6657"
  },
  {
   "cell_type": "code",
   "outputs": [
    {
     "name": "stdout",
     "output_type": "stream",
     "text": [
      "Access token: BQCowYf0k9YNIBD14htsyZi4G-MmVPJprxghhp7Mj1WGXVja2mdLRJGlBaEoLWK0E9IsA-Rn5ljkhOghsp8lAHAimwfWPtlVAeSMiXnhsr7pdLR4xxw\n"
     ]
    }
   ],
   "source": [
    "import requests\n",
    "\n",
    "client_id = 'd8e19de38acd4404b10166239212609c'\n",
    "client_secret = 'b80f590e6068464ca4271a33f43ddb0d'\n",
    "token_url = 'https://accounts.spotify.com/api/token'\n",
    "\n",
    "\n",
    "data = {\n",
    "    'grant_type': 'client_credentials'\n",
    "}\n",
    "\n",
    "response = requests.post(token_url, data=data, auth=(client_id, client_secret))\n",
    "\n",
    "if response.status_code == 200:\n",
    "    token_info = response.json()\n",
    "    access_token = token_info['access_token']\n",
    "    print(\"Access token:\", access_token)\n",
    "else:\n",
    "    print(\"Failed to retrieve access token. Status code:\", response.status_code)\n",
    "    print(\"Response:\", response.json())"
   ],
   "metadata": {
    "collapsed": true,
    "ExecuteTime": {
     "end_time": "2024-01-25T14:58:53.514635400Z",
     "start_time": "2024-01-25T14:58:53.391605Z"
    }
   },
   "id": "initial_id",
   "execution_count": 7
  },
  {
   "cell_type": "markdown",
   "source": [
    "# GET LIST OF SONGS\n"
   ],
   "metadata": {
    "collapsed": false
   },
   "id": "46229de6f669051d"
  },
  {
   "cell_type": "code",
   "outputs": [
    {
     "ename": "TypeError",
     "evalue": "string indices must be integers",
     "output_type": "error",
     "traceback": [
      "\u001B[1;31m---------------------------------------------------------------------------\u001B[0m",
      "\u001B[1;31mTypeError\u001B[0m                                 Traceback (most recent call last)",
      "Cell \u001B[1;32mIn[8], line 19\u001B[0m\n\u001B[0;32m     17\u001B[0m \u001B[38;5;28;01mwith\u001B[39;00m \u001B[38;5;28mopen\u001B[39m(\u001B[38;5;124m'\u001B[39m\u001B[38;5;124msong_lyrics.txt\u001B[39m\u001B[38;5;124m'\u001B[39m, \u001B[38;5;124m'\u001B[39m\u001B[38;5;124mw\u001B[39m\u001B[38;5;124m'\u001B[39m, encoding\u001B[38;5;241m=\u001B[39m\u001B[38;5;124m'\u001B[39m\u001B[38;5;124mutf-8\u001B[39m\u001B[38;5;124m'\u001B[39m) \u001B[38;5;28;01mas\u001B[39;00m file:\n\u001B[0;32m     18\u001B[0m     \u001B[38;5;28;01mfor\u001B[39;00m song \u001B[38;5;129;01min\u001B[39;00m song_list:\n\u001B[1;32m---> 19\u001B[0m         lyrics \u001B[38;5;241m=\u001B[39m fetch_lyrics(\u001B[43msong\u001B[49m\u001B[43m[\u001B[49m\u001B[38;5;124;43m'\u001B[39;49m\u001B[38;5;124;43martist\u001B[39;49m\u001B[38;5;124;43m'\u001B[39;49m\u001B[43m]\u001B[49m, song[\u001B[38;5;124m'\u001B[39m\u001B[38;5;124mtitle\u001B[39m\u001B[38;5;124m'\u001B[39m], api_key)\n\u001B[0;32m     20\u001B[0m         file\u001B[38;5;241m.\u001B[39mwrite(\u001B[38;5;124mf\u001B[39m\u001B[38;5;124m\"\u001B[39m\u001B[38;5;124mTitle: \u001B[39m\u001B[38;5;132;01m{\u001B[39;00msong[\u001B[38;5;124m'\u001B[39m\u001B[38;5;124mtitle\u001B[39m\u001B[38;5;124m'\u001B[39m]\u001B[38;5;132;01m}\u001B[39;00m\u001B[38;5;130;01m\\n\u001B[39;00m\u001B[38;5;124mArtist: \u001B[39m\u001B[38;5;132;01m{\u001B[39;00msong[\u001B[38;5;124m'\u001B[39m\u001B[38;5;124martist\u001B[39m\u001B[38;5;124m'\u001B[39m]\u001B[38;5;132;01m}\u001B[39;00m\u001B[38;5;130;01m\\n\u001B[39;00m\u001B[38;5;124mLyrics:\u001B[39m\u001B[38;5;130;01m\\n\u001B[39;00m\u001B[38;5;132;01m{\u001B[39;00mlyrics\u001B[38;5;132;01m}\u001B[39;00m\u001B[38;5;130;01m\\n\u001B[39;00m\u001B[38;5;130;01m\\n\u001B[39;00m\u001B[38;5;124m\"\u001B[39m)\n\u001B[0;32m     22\u001B[0m \u001B[38;5;28mprint\u001B[39m(\u001B[38;5;124m\"\u001B[39m\u001B[38;5;124mLyrics have been saved to the list and written to the file.\u001B[39m\u001B[38;5;124m\"\u001B[39m)\n",
      "\u001B[1;31mTypeError\u001B[0m: string indices must be integers"
     ]
    }
   ],
   "source": [
    "import requests\n",
    "\n",
    "def fetch_lyrics(artist, title, api_key):\n",
    "    url = f\"https://zylalabs.com/api/1774/lyrics+by+song+name+api/1410/fetch+song+lyrics?artist={artist}&song={title}\"\n",
    "    headers = {'Authorization': f'Bearer {api_key}'}\n",
    "    response = requests.get(url, headers=headers)\n",
    "    if response.status_code == 200:\n",
    "       return response.json()\n",
    "    else:\n",
    "        return \"Lyrics not found or API error\"\n",
    "\n",
    "api_key = '3152|CsJ5lZp8j7Cy1zvZke5P23t8CJD22jRmnjX1Yb8u'\n",
    "\n",
    "\n",
    "\n",
    "#file to write lyrics\n",
    "with open('song_lyrics.txt', 'w', encoding='utf-8') as file:\n",
    "    for song in song_list:\n",
    "        lyrics = fetch_lyrics(song['artist'], song['title'], api_key)\n",
    "        file.write(f\"Title: {song['title']}\\nArtist: {song['artist']}\\nLyrics:\\n{lyrics}\\n\\n\")\n",
    "\n",
    "print(\"Lyrics have been saved to the list and written to the file.\")"
   ],
   "metadata": {
    "collapsed": false,
    "ExecuteTime": {
     "end_time": "2024-01-25T14:58:53.650809200Z",
     "start_time": "2024-01-25T14:58:53.518849300Z"
    }
   },
   "id": "25bcfbac35b10f93",
   "execution_count": 8
  },
  {
   "cell_type": "code",
   "outputs": [],
   "source": [
    "import pandas as pd\n",
    "\n",
    "song_list = pd.read_csv('song_list.csv')"
   ],
   "metadata": {
    "collapsed": false,
    "ExecuteTime": {
     "end_time": "2024-01-25T14:58:53.691666Z",
     "start_time": "2024-01-25T14:58:53.659680900Z"
    }
   },
   "id": "62ba3333b2d4aba4",
   "execution_count": null
  },
  {
   "cell_type": "code",
   "outputs": [],
   "source": [
    "import requests\n",
    "\n",
    "access_token = 'BQDVyPcgAK3psf5llXBqSl8xPOdV4v9Ul0pxGaGEuYlu6mQBkOBMKfHgF8j4XClJMbyxwEi5XgbC0TYI-xAdpcNNopRD-mL2h2epN025UETA2_F2TLo'  # Replace with your actual access token\n",
    "\n",
    "#spotify API endpoint for getting Top 50 songs\n",
    "playlist_id = '37i9dQZF1DX18jTM2l2fJY'\n",
    "endpoint = f'https://api.spotify.com/v1/playlists/{playlist_id}/tracks'\n",
    "\n",
    "headers = {\n",
    "    'Authorization': f'Bearer {access_token}'\n",
    "}\n",
    "\n",
    "response = requests.get(endpoint, headers=headers)\n",
    "\n",
    "#check if the request was successful\n",
    "if response.status_code == 200:\n",
    "    playlist_tracks = response.json()\n",
    "\n",
    "else:\n",
    "    print(\"Failed to retrieve playlist tracks. Status code:\", response.status_code)\n",
    "    print(\"Response:\", response.json())"
   ],
   "metadata": {
    "collapsed": false,
    "ExecuteTime": {
     "start_time": "2024-01-25T14:58:53.673613500Z"
    }
   },
   "id": "4db74b361bee4805",
   "execution_count": null
  },
  {
   "cell_type": "markdown",
   "source": [],
   "metadata": {
    "collapsed": false
   },
   "id": "a008b450d8d5383b"
  }
 ],
 "metadata": {
  "kernelspec": {
   "display_name": "Python 3",
   "language": "python",
   "name": "python3"
  },
  "language_info": {
   "codemirror_mode": {
    "name": "ipython",
    "version": 2
   },
   "file_extension": ".py",
   "mimetype": "text/x-python",
   "name": "python",
   "nbconvert_exporter": "python",
   "pygments_lexer": "ipython2",
   "version": "2.7.6"
  }
 },
 "nbformat": 4,
 "nbformat_minor": 5
}
