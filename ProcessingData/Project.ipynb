{
 "nbformat": 4,
 "nbformat_minor": 0,
 "metadata": {
  "colab": {
   "provenance": []
  },
  "kernelspec": {
   "name": "python3",
   "language": "python",
   "display_name": "Python 3 (ipykernel)"
  },
  "language_info": {
   "name": "python"
  }
 },
 "cells": [
  {
   "cell_type": "markdown",
   "source": [
    "# RETRIVING SONG LYRICS"
   ],
   "metadata": {
    "id": "Owa76dnZzVlp"
   }
  },
  {
   "cell_type": "code",
   "outputs": [],
   "source": [
    "import pandas as pd\n",
    "import matplotlib.pyplot as plt\n",
    "\n",
    "song_list_df = pd.read_csv('song_list.csv')"
   ],
   "metadata": {
    "collapsed": false,
    "ExecuteTime": {
     "end_time": "2024-01-26T13:17:30.037726700Z",
     "start_time": "2024-01-26T13:17:30.021825900Z"
    }
   },
   "execution_count": 1
  },
  {
   "cell_type": "code",
   "source": [
    "def process_lyrics_file(file_path):\n",
    "    with open(file_path, 'r', encoding='utf-8') as file:\n",
    "        content = file.read()\n",
    "\n",
    "    songs = content.split('Title: ')[1:]\n",
    "    lyrics_list = []\n",
    "    documents = []  #list for MongoDB documents\n",
    "\n",
    "    for song in songs:\n",
    "        lines = song.split('\\n')\n",
    "        title = lines[0]\n",
    "        artist = lines[1].replace('Artist: ', '')\n",
    "        lyrics = '\\n'.join(lines[3:])\n",
    "\n",
    "        lyrics_list.append(lyrics)\n",
    "\n",
    "        documents.append({'title': title, 'artist': artist, 'lyrics': lyrics})\n",
    "\n",
    "        # Optional: Write to a new file\n",
    "        with open('processed_lyrics.txt', 'a', encoding='utf-8') as out_file:\n",
    "            out_file.write(f\"Title: {title}\\nArtist: {artist}\\nLyrics:\\n{lyrics}\\n\\n\")\n",
    "\n",
    "    return lyrics_list, documents\n",
    "\n",
    "\n",
    "# Process the file and get the list of lyrics and the list of documents for MongoDB\n",
    "lyrics_list, documents = process_lyrics_file('song_lyrics.txt')\n",
    "print(lyrics_list)"
   ],
   "metadata": {
    "id": "Sp7jv0vbgzDk",
    "executionInfo": {
     "status": "ok",
     "timestamp": 1705936883912,
     "user_tz": -60,
     "elapsed": 392,
     "user": {
      "displayName": "Kamila Fido",
      "userId": "11048561443493888987"
     }
    },
    "ExecuteTime": {
     "end_time": "2024-01-26T13:17:30.165508600Z",
     "start_time": "2024-01-26T13:17:30.045113900Z"
    }
   },
   "execution_count": 2,
   "outputs": [
    {
     "name": "stdout",
     "output_type": "stream",
     "text": [
      "[\"We were good, we were gold\\nKinda dream that can't be sold\\nWe were right 'til we weren't\\nBuilt a home and watched it burn\\n\\nMm, I didn't wanna leave you\\nI didn't wanna lie\\nStarted to cry, but then remembered I\\n\\nI can buy myself flowers\\nWrite my name in the sand\\nTalk to myself for hours\\nSay things you don't understand\\nI can take myself dancing\\nAnd I can hold my own hand\\nYeah, I can love me better than you can\\n\\nCan love me better\\nI can love me better, baby\\nCan love me better\\nI can love me better, baby\\n\\nPaint my nails cherry red\\nMatch the roses that you left\\nNo remorse, no regret\\nI forgive every word you said\\n\\nOoh, I didn't wanna leave you, baby\\nI didn't wanna fight\\nStarted to cry, but then remembered I\\n\\nI can buy myself flowers\\nWrite my name in the sand\\nTalk to myself for hours, yeah\\nSay things you don't understand\\nI can take myself dancing, yeah\\nI can hold my own hand\\nYeah, I can love me better than you can\\n\\nCan love me better\\nI can love me better, baby\\nCan love me better\\nI can love me better, baby\\nCan love me better\\nI can love me better, baby\\nCan love me better\\nOh, I\\n\\nI didn't wanna leave you\\nI didn't wanna fight\\nStarted to cry, but then remembered I\\n\\nI can buy myself flowers (oh)\\nWrite my name in the sand (mm)\\nTalk to myself for hours (yeah)\\nSay things you don't understand (you never will)\\nI can take myself dancing, yeah\\nI can hold my own hand\\nYeah, I can love me better than\\nYeah, I can love me better than you can\\n\\nCan love me better\\nI can love me better, baby (oh)\\nCan love me better\\nI can love me better (than you can), baby \\nCan love me better\\nI can love me better, baby\\nCan love me better\\nI\\n\\n\", ' I\\\\\\'m still a fan even though I was salty\\nHate to see you with some other broad, know you happy\\nHate to see you happy if I\\\\\\'m not the one drivin\\\\\\'\\nI\\\\\\'m so mature, I\\\\\\'m so mature\\nI\\\\\\'m so mature I got me a therapist to tell me there\\\\\\'s other men\\nI don\\\\\\'t want none, I just want you\\nIf I can\\\\\\'t have you, no one should\\n\\nI might\\nI might kill my ex\\nNot the best idea\\nHis new girlfriend\\\\\\'s next\\nHow\\\\\\'d I get here?\\nI might kill my ex\\nI still love him though\\nRather be in jail than alone\\n\\nI get the sense that it\\\\\\'s a lost cause\\nI get the sense that you might really love her\\nThe text gon\\\\\\' be evidence, this text is evidence\\nI tried to ration with you, no murders or crime of passion\\nBut damn, you was out of reach\\nYou was at the farmers market with your perfect peach\\nNow I\\\\\\'m in the basement plannin\\\\\\' home invasion\\nNow you layin\\\\\\' facedown, got me sayin\\\\\\', \"R-I-P\"\\n\\nI\\\\\\'m so mature, I\\\\\\'m so mature\\nI\\\\\\'m so mature I got me a therapist to tell me there\\\\\\'s other men\\nI don\\\\\\'t want none, I just want you\\nIf I can\\\\\\'t have you, no one will (I might)\\n\\nI might kill my ex\\nNot the best idea\\nHis new girlfriend\\\\\\'s next\\nHow\\\\\\'d I get here?\\nI might kill my ex\\nI still love him though\\nRather be in jail than alone\\n\\nI did it all for love (love)\\nI did it all on no drugs (drugs)\\nI did all of this sober\\nI did it all for us, oh\\nI did it all for love (love)\\nI did all of this on no drugs (drugs)\\nI did all of this sober\\nDon\\\\\\'t you know I did it all for us? (I\\\\\\'m gon\\\\\\' kill your ass tonight)\\n\\nOh\\nI just killed my ex\\nNot the best idea (idea)\\nKilled his girlfriend next\\nHow\\\\\\'d I get here?\\nI just killed my ex\\nI still love him though (I do)\\nRather be in hell than alone\\n        \\n\\n', '\\nHoldin\\\\\\' me back\\nGravity\\\\\\'s holdin\\\\\\' me back\\nI want you to hold out the palm of your hand\\nWhy don\\\\\\'t we leave it at that?\\nNothin\\\\\\' to say\\nWhen everything gets in the way\\nSeems you cannot be replaced\\nAnd I\\\\\\'m the one who will stay, oh\\n\\nIn this world, it\\\\\\'s just us\\nYou know it\\\\\\'s not the same as it was\\nIn this world, it\\\\\\'s just us\\nYou know it\\\\\\'s not the same as it was\\nAs it was, as it was\\nYou know it\\\\\\'s not the same\\n\\nAnswer the phone\\n\"Harry, you\\\\\\'re no good alone\\nWhy are you sittin\\\\\\' at home on the floor?\\nWhat kind of pills are you on?\"\\nRingin\\\\\\' the bell\\nAnd nobody\\\\\\'s comin\\\\\\' to help\\nYour daddy lives by himself\\nHe just wants to know that you\\\\\\'re well, oh\\n\\nIn this world, it\\\\\\'s just us\\nYou know it\\\\\\'s not the same as it was\\nIn this world, it\\\\\\'s just us\\nYou know it\\\\\\'s not the same as it was\\nAs it was, as it was\\nYou know it\\\\\\'s not the same\\n\\nGo home, get ahead, light-speed internet\\nI don\\\\\\'t wanna talk about the way that it was\\nLeave America, two kids follow her\\nI don\\\\\\'t wanna talk about who\\\\\\'s doin\\\\\\' it first\\n\\n(Hey)\\nAs it was\\nYou know it\\\\\\'s not the same as it was\\nAs it was, as it was\\n        \\n\\n', \"David Guetta - I Gotta Feeling (David Guetta FMIF Remix Edit)\\n        I gotta feeling\\nthat tonight's gonna be a good night\\nthat tonight's gonna be a good night\\nthat tonight's gonna be a good, good night\\n\\nA feeling\\nthat tonight's gonna be a good night\\nthat tonight's gonna be a good night\\nthat tonight's gonna be a good, good night\\n\\nA feeling\\nthat tonight's gonna be a good night\\nthat tonight's gonna be a good night\\nthat tonight's gonna be a good, good night\\n\\nA feeling\\nthat tonight's gonna be a good night\\nthat tonight's gonna be a good night\\nthat tonight's gonna be a good, good night\\n\\nA feeling\\nthat tonight's gonna be a good night\\nthat tonight's gonna be a good night\\nthat tonight's gonna be a good, good night\\n\\nI gotta feeling\\nthat tonight's gonna be a good night\\nthat tonight's gonna be a good night\\nthat tonight's gonna be a good, good night\\n\\nA feeling\\nthat tonight's gonna be a good night\\nthat tonight's gonna be a good night\\nthat tonight's gonna be a good, good night\\n\\nA feeling, A feeling, A feeling, feeling, feeling, feeling, feeling, feeling\\n\\nI gotta feeling, A feeling, A feeling\\n\\n\\n\\n\", 'Eslabón Armado and Peso Pluma - Ella Baila Sola\\nCompa, ¿qué le parece esa morra?\\nLa que anda bailando sola me gusta pa\\\\\\' mí\\nBella, ella sabe que está buena\\nQue todos andan mirándola cómo baila\\nMe acerco y le tiro todo un verbo\\nTomamos tragos sin peros, solo tentación\\n\\nLe dije\\n\"Voy a conquistar tu familia, que en unos días vas a ser mía\"\\nMe dijo\\nQue estoy muy loco pero le gusta\\nQue ningún vato como yo actúa\\n\\nY ahí te va, mija\\nY pura doble P, viejo\\nAsí nomas, compa Pedro\\nPuro Eslabón Armado\\nPa\\\\\\' las plebitas\\n¡Cha-chau!\\n\\nNo soy un vato que tiene varo\\nPero hablando del corazón, te cumplo todo\\nMe agarró pegadito de su mano\\nMi compa ni se la creyó, que al pasar fui yo\\n\\nSu cuerpo\\nJuro por Dios que era tan perfecto\\nSu cinturita como modelo\\nSus ojos\\nDesde el principio me enamoraron\\nA ella le gusto y a mí me gusta\\n\\n', 'Fever dream high in the quiet of the night\\nYou know that I caught it (oh yeah, you\\\\\\'re right, I want it)\\nBad, bad boy, shiny toy with a price\\nYou know that I bought it (oh yeah, you\\\\\\'re right, I want it)\\n\\nKilling me slow, out the window\\nI\\\\\\'m always waiting for you to be waiting below\\nDevils roll the dice, angels roll their eyes\\nWhat doesn\\\\\\'t kill me makes me want you more\\n\\nAnd it\\\\\\'s new, the shape of your body\\nIt\\\\\\'s blue, the feeling I\\\\\\'ve got\\nAnd it\\\\\\'s ooh-oh-oh\\nIt\\\\\\'s a cruel summer\\nIt\\\\\\'s cool, that\\\\\\'s what I tell \\\\\\'em\\nNo rules in breakable heaven\\nBut ooh, oh-oh\\nIt\\\\\\'s a cruel summer\\nWith you\\n\\nHang your head low in the glow of the vending machine\\nI\\\\\\'m not dying (oh yeah, you\\\\\\'re right, I want it)\\nWe say that we\\\\\\'ll just screw it up in these trying times\\nWe\\\\\\'re not trying (oh yeah, you\\\\\\'re right, I want it)\\n\\nSo cut the headlights, summer\\\\\\'s a knife\\nI\\\\\\'m always waiting for you just to cut to the bone\\nDevils roll the dice, angels roll their eyes\\nAnd if I bleed, you\\\\\\'ll be the last to know\\n\\nOh, it\\\\\\'s new, the shape of your body\\nIt\\\\\\'s blue, the feeling I\\\\\\'ve got\\nAnd it\\\\\\'s ooh-oh-oh\\nIt\\\\\\'s a cruel summer\\nIt\\\\\\'s cool, that\\\\\\'s what I tell \\\\\\'em\\nNo rules in breakable heaven\\nBut ooh-oh-oh\\nIt\\\\\\'s a cruel summer\\nWith you\\n\\nI\\\\\\'m drunk in the back of the car\\nAnd I cried like a baby coming home from the bar (oh)\\nSaid, \"I\\\\\\'m fine,\" but it wasn\\\\\\'t true\\nI don\\\\\\'t wanna keep secrets just to keep you\\nAnd I snuck in through the garden gate\\nEvery night that summer just to seal my fate (oh)\\nAnd I scream, \"For whatever it\\\\\\'s worth\\nI love you, ain\\\\\\'t that the worst thing you ever heard?\"\\nHe looks up, grinning like a devil\\n\\nIt\\\\\\'s new, the shape of your body\\nIt\\\\\\'s blue, the feeling I\\\\\\'ve got\\nAnd it\\\\\\'s ooh-oh-oh\\nIt\\\\\\'s a cruel summer\\nIt\\\\\\'s cool, that\\\\\\'s what I tell \\\\\\'em\\nNo rules in breakable heaven\\nBut ooh-oh-oh\\nIt\\\\\\'s a cruel summer\\nWith you\\n\\nI\\\\\\'m drunk in the back of the car\\nAnd I cried like a baby coming home from the bar (oh)\\nSaid, \"I\\\\\\'m fine,\" but it wasn\\\\\\'t true\\nI don\\\\\\'t wanna keep secrets just to keep you\\nAnd I snuck in through the garden gate\\nEvery night that summer just to seal my fate (oh)\\nAnd I scream, \"For whatever it\\\\\\'s worth\\nI love you, ain\\\\\\'t that the worst thing you ever heard?\"\\n\\n(Yeah, yeah, yeah, yeah)\\n\\n', \"Metro Boomin, The Weeknd and 21 Savage - Creepin'\\n        (Just can't believe this, man)\\n(Metro Boomin want some more, nigga)\\n\\nSomebody said they saw you\\nThe person you were kissin' wasn't me\\nAnd I would never ask you\\nI just kept it to myself\\n\\nI don't wanna know\\nIf you're playin' me, keep it on the low\\n'Cause my heart can't take it anymore\\nAnd if you're creepin', please, don't let it show\\nOh, baby, I don't wanna know\\n\\nI think about it when I hold you\\nWhen lookin' in your eyes, I can't believe\\nAnd I don't need to know the truth\\nBaby, keep it to yourself\\n\\nI don't wanna know\\nIf you're playin' me, keep it on the low\\n'Cause my heart can't take it anymore\\nAnd if you're creepin', please, don't let it show\\nOh, baby, I don't wanna know\\n\\nDid he touch you better than me? (Touch you better than me)\\nDid he watch you fall asleep? (Watch you fall asleep)\\nDid you show him all those things\\nThat you used to do to me?\\nIf you're better off that way (better off that way)\\nBaby, all that I can say (all that I can say)\\nJust go on and do your thing (hey)\\nAnd don't come back to me (come back to me)\\n\\nWhoa, whoa, whoa, 21\\nHad me crushin', I was cuffin' like the precinct\\nHow you go from housewife to a sneaky link?\\nGot you ridin' 'round in all type of Benzes and Rovers\\nGirl, you used to ride in the rinky dink\\nI'm the one put you in Eliantte (on God)\\nFashion Nova model, I put you on the runway (on God)\\nYou was rockin' Coach bags, got you Chane'-ne'\\nSide bitch in Frisco, I call her my Bay-bae (21)\\nI got a girl, but I still feel alone (on God)\\nIf you playin' me that mean my home ain't home (on God)\\nHavin' nightmares of goin' through your phone (21)\\nCan't even record, you got me out my zone\\n\\nI don't wanna know\\nIf you're playin' me, keep it on the low\\n'Cause my heart can't take it anymore\\nAnd if you're creepin', please, don't let it show\\nOh, baby, I don't wanna know\\nIf you're playin' me, keep it on the low\\n'Cause my heart can't take it anymore\\nAnd if you're creepin', please, don't let it show\\nOh, baby, I don't wanna know\\n\\nIf you creepin', just don't let me find out (on God)\\nGet a hotel, never bring 'em to the house (on God)\\nIf you're better off that way\\nBaby, all that I can say\\nIf you're gonna do your thing\\nThen don't come back to me\\n        \\n\\n\\n\", '\\nBaby, calm down, calm down\\nGirl, this your body e put my heart for lockdown\\nFor lockdown, oh, lockdown\\nGirl, you sweet like Fanta o\\nFanta o\\nIf I tell you say, \"I love you\" \\nNo dey form yanga o, oh, yanga o\\nNo tell me no, no, no, no\\nWhoa, whoa, whoa, whoa\\nOh-oh-oh-oh-oh-oh-oh-oh-oh-oh-oh\\n\\nBaby, come gimme your lo-lo-lo-lo-lo-lo-lo-lo-lo-lo-lo-lo-love\\nYou got me like whoa-whoa-whoa-whoa-whoa-whoa-whoa-whoa-whoa\\nShawty, come gimme your lo-lo-lo-lo-lo-lo-lo-lo-lo-lo-lo-lo-love, hmm\\n\\nI see this fine girl, for my party, she wear yellow\\nEvery other girl they dey do too much, but this girl mellow\\nNaim I dey find situation I go use take tell am, \"Hello\"\\nFinally, I find way to talk to the girl but she no wan\\\\\\' follow\\n\\nWho you come dey form for? (Mm-hmm)\\nWhy you no wan\\\\\\' conform? (Mm-hmm)\\nThen I start to feel her bum-bum, whoa (mm-hmm)\\nBut she dey gimme small-small, whoa\\nI know say she sabi pass that one (mm-hmm)\\nBut she feeling insecure\\n\\\\\\'Cause her friends go dey gum her like chewing gum (mm-hmm)\\nGo dey gum her like chewing gum\\n\\nYeah, I know I look shy but for you I get down, oh, woah\\nAnd my hips make you cry when I\\\\\\'m moving around you (yeah)\\nDo it once, do it twice (do it twice)\\nI push back, you hold me tight\\nGet a taste for a night\\n\\nBaby, show me you can calm down, calm down\\nDance with me and take the lead now, lead now (lead now)\\nGot you so high that you can\\\\\\'t come down, come down\\nDon\\\\\\'t you ask, you know you\\\\\\'re allowed, allowed (oh no)\\nWhen it\\\\\\'s you I can\\\\\\'t say no-oh-oh-oh-oh-oh-oh-oh-oh-oh-oh\\n\\nBaby, gimme lo-lo-lo-lo-lo-lo-lo-lo-lo-lo-lo-lo-love\\nYou got me like whoa-whoa-whoa-whoa-whoa-whoa-whoa-whoa-whoa\\nShawty, come gimme your lo-lo-lo-lo-lo-lo-lo-lo-lo-lo-lo-lo-love, hmm\\n\\nAs I reach my house I say make I rest small (make I rest small)\\nAs me I wake up na she dey my mind o (na she dey my mind o)\\nDay one, day two, I no fit focus (I no fit focus)\\nNa so me I call am, say, \"Make we link up\" (say make we link up)\\nGot my hand on your heart now, I can feel it race\\nIf I leave then you say you can never love again\\nWanna give you it all but can\\\\\\'t promise that I\\\\\\'ll stay\\nAnd that\\\\\\'s the risk you take (you take)\\n\\nBaby, calm down, calm down\\nGirl, this your body e put my heart for lockdown\\nFor lockdown, oh, lockdown\\nGirl, you sweet like Fanta o\\nFanta o\\nIf I tell you say, \"I love you\" \\nNo dey form yanga o, oh, yanga o\\nNo tell me no, no, no, no\\nWhoa, whoa, whoa, whoa\\nOh-oh-oh-oh-oh-oh-oh-oh-oh-oh-oh (your love, your love)\\n\\nBaby, come gimme your lo-lo-lo-lo-lo-lo-lo-lo-lo-lo-lo-lo-love\\nYou got me like whoa-whoa-whoa-whoa-whoa-whoa-whoa-whoa-whoa\\nShawty, come gimme your lo-lo-lo-lo-lo-lo-lo-lo-lo-lo-lo-lo-love, hmm (oh, whoa)\\n\\nYour love\\n\\n\\n', \"(Uh-uh-uh-uh-uh)\\n(Pa' tipos como tú-uh-uh-uh-uh)\\nOh, oh \\n(Pa' tipos como tú-uh-uh-uh-uh)\\n\\nPerdón, ya cogí otro avión\\nAquí no vuelvo, no quiero otra decepción\\nTanto que te la das de campeón\\nY cuando te necesitaba diste tu peor versión\\n\\nSorry, baby, hace rato\\nQue yo debí botar ese gato\\nUna loba como yo no está pa' novato'\\n\\nUna loba como yo no está pa' tipos como tú-uh-uh-uh-uh\\nPa' tipos como tú-uh-uh-uh-uh\\nA ti te quedé grande y por eso estás \\nCon una igualita que tú-uh-uh-uh-uh\\nOh-oh, oh-oh\\n\\nEsto es pa' que te mortifique'\\nMastique' y trague', trague' y mastique'\\nYo contigo ya no regreso\\nNi que me llores, ni me suplique'\\nEntendí que no es culpa mía que te critiquen\\nYo solo hago música, perdón que te salpique\\n\\nMe dejaste de vecina a la suegra\\nCon la prensa en la puerta y la deuda en Hacienda\\nTe creíste que me heriste y me volviste más dura\\nLas mujeres ya no lloran, las mujeres facturan\\n\\nTiene nombre de persona buena\\nClaramente no es como suena\\nTiene nombre de persona buena\\nClaramente\\n\\nEs igualita que tú-uh-uh-uh-uh\\nPa' tipos como tú-uh-uh-uh-uh\\nA ti te quedé grande y por eso estás \\nCon una igualita que tú-uh-uh-uh-uh\\nOh-oh, oh-oh\\n\\nDel amor al odio hay un paso\\nPor acá no vuelva', hazme caso\\nCero rencor, bebé, yo te deseo que \\nTe vaya bien con mi supuesto reemplazo\\nNo sé ni qué es lo que te pasó\\n'Tás tan raro que ni te distingo\\nYo valgo por dos de 22\\nCambiaste un Ferrari por un Twingo\\nCambiaste un Rolex por un Casio\\nVas acelerao', dale despacio\\nAh, mucho gimnasio\\nPero trabaja el cerebro un poquito también\\nFotos por donde me ven\\nAquí me siento un rehén, por mí todo bien\\nYo te desocupo mañana y si quieres traértela a ella, que venga también\\n\\nTiene nombre de persona buena (uh-uh-uh-uh-uh)\\nClaramente no es como suena (uh-uh-uh-uh-uh)\\nTiene nombre de persona buena (uh-uh-uh-uh-uh)\\n\\nY una loba como yo no está pa' tipos como tú-uh-uh-uh-uh\\nPa' tipos como tú, uh-uh-uh-uh\\nA ti te quedé grande y por eso estás \\nCon una igualita que tú-uh-uh-uh-uh\\nOh-oh, oh-oh\\n\\n(Uh-uh-uh-uh-uh)\\n(Pa' tipos como tú-uh-uh-uh-uh)\\nA ti te quedé grande y por eso estás \\nCon una igualita que tú, uh-uh-uh-uh (it's a wrap)\\nOh-oh, oh-oh\\nYa está, chao\\n        \\n\\n\", 'I have this thing where I get older but just never wiser\\nMidnights become my afternoons\\nWhen my depression works the graveyard shift\\nAll of the people I\\\\\\'ve ghosted stand there in the room\\n\\nI should not be left to my own devices\\nThey come with prices and vices\\nI end up in crisis (tale as old as time)\\nI wake up screaming from dreaming\\nOne day I\\\\\\'ll watch as you\\\\\\'re leaving\\n\\\\\\'Cause you got tired of my scheming\\n(For the last time)\\n\\nIt\\\\\\'s me, hi, I\\\\\\'m the problem, it\\\\\\'s me\\nAt tea time, everybody agrees\\nI\\\\\\'ll stare directly at the sun but never in the mirror\\nIt must be exhausting always rooting for the anti-hero\\n\\nSometimes I feel like everybody is a sexy baby\\nAnd I\\\\\\'m a monster on the hill\\nToo big to hang out, slowly lurching toward your favorite city\\nPierced through the heart, but never killed\\n\\nDid you hear my covert narcissism I disguise as altruism\\nLike some kind of congressman? (Tale as old as time)\\nI wake up screaming from dreaming\\nOne day I\\\\\\'ll watch as you\\\\\\'re leaving\\nAnd life will lose all its meaning\\n(For the last time)\\n\\nIt\\\\\\'s me, hi, I\\\\\\'m the problem, it\\\\\\'s me (I\\\\\\'m the problem, it\\\\\\'s me)\\nAt tea time, everybody agrees\\nI\\\\\\'ll stare directly at the sun but never in the mirror\\nIt must be exhausting always rooting for the anti-hero\\n\\nI have this dream my daughter in-law kills me for the money\\nShe thinks I left them in the will\\nThe family gathers \\\\\\'round and reads it and then someone screams out\\n\"She\\\\\\'s laughing up at us from hell\"\\n\\nIt\\\\\\'s me, hi, I\\\\\\'m the problem, it\\\\\\'s me\\nIt\\\\\\'s me, hi, I\\\\\\'m the problem, it\\\\\\'s me\\nIt\\\\\\'s me, hi, everybody agrees, everybody agrees\\n\\nIt\\\\\\'s me, hi (hi), I\\\\\\'m the problem, it\\\\\\'s me (I\\\\\\'m the problem, it\\\\\\'s me)\\nAt tea (tea) time (time), everybody agrees (everybody agrees)\\nI\\\\\\'ll stare directly at the sun but never in the mirror\\nIt must be exhausting always rooting for the anti-hero\\n        \\n\\n', \"Arctic Monkeys - I Wanna Be Yours\\nI wanna be your vacuum cleaner\\nBreathin' in your dust\\nI wanna be your Ford Cortina\\nI will never rust\\nIf you like your coffee hot\\nLet me be your coffee pot\\nYou call the shots, babe\\nI just wanna be yours\\n\\nSecrets I have held in my heart\\nAre harder to hide than I thought\\nMaybe I just wanna be yours\\nI wanna be yours\\n\\nI wanna be yours\\nWanna be yours\\nWanna be yours\\nWanna be yours\\n\\nLet me be your 'leccy meter\\nAnd I'll never run out\\nLet me be the portable heater\\nThat you'll get cold without\\nI wanna be your setting lotion (wanna be)\\nHold your hair in deep devotion (how deep?)\\nAt least as deep as the Pacific Ocean\\nI wanna be yours\\n\\nSecrets I have held in my heart\\nAre harder to hide than I thought\\nMaybe I just wanna be yours\\nI wanna be yours\\n\\nI wanna be yours\\nWanna be yours\\nWanna be yours\\nWanna be yours\\nWanna be yours\\nWanna be yours\\nWanna be yours\\nWanna be yours\\n\\n(Wanna be yours)\\nWanna be your vacuum cleaner (wanna be yours)\\nBreathin' in your dust (wanna be yours)\\nI wanna be your Ford Cortina (wanna be yours)\\nI will never rust (wanna be yours)\\nI just wanna be yours (wanna be yours)\\nI just wanna be yours (wanna be yours)\\nI just wanna be yours (wanna be yours)\\n        \\n\", \"\\nLa que te dijo que un vacío se llena \\nCon otra persona te miente\\nEs como tapar una herida con maquillaje\\nNo se ve, pero se siente\\n\\nTe fuiste diciendo que me superaste (ey) \\nY te conseguiste nueva novia (novia)\\nLo que ella no sabe es que tú todavía (oh)\\nMe está' viendo toa' la' historia' (papi)\\n\\nBebé, ¿qué fue?\\n¿No pues que muy tragadito?\\n¿Qué haces buscándome el la'o \\nSi sabes que yo errores no repito? (Eh, papi)\\nDile a tu nueva bebé \\nQue por hombres no compito\\nQue deje de estar tirando\\nQue al meno' yo te tenía bonito\\n\\nVerte con la nueva me dolió (dolió)\\nPero ya estoy puesta pa' lo mío\\nLo que vivimos se me olvidó\\nY eso e' lo que te tiene ofendido\\nQue hasta la vida me mejoró\\nPor acá ya no eres bienvenido\\nVi lo que tu novia me tiró\\nEso no da ni rabia, yo me río, yo me río\\n\\nNo tengo tiempo pa' lo que no aporte, ya cambié mi norte\\nHaciendo dinero como deporte (ah)\\nLlenando la cuenta, los show', el parking y el pasaporte (ey)\\n'Toy más dura dicen los reporte'\\nAhora tú quieres volver, se te nota, mmm, sí\\n'Pérame ahí, que yo soy idiota (ah)\\nSe te olvidó que estoy en otra\\nY que te quedó grande La Bichota\\n\\nBebé, ¿qué fue? (Fue)\\n¿No pues que muy tragadito? (Ah)\\n¿Qué haces buscándome el la'o (ey)\\nSi sabes que yo errores no repito?\\nDile a tu nueva bebé \\nQue por hombres no compito\\nQue deje de estar tirando\\nQue al meno' yo te tenía bonito (Shakira, Shakira)\\n\\nTú te fuiste y yo me puse triple M\\nMás buena, más dura, más level\\nVolver contigo never, tú eres la mala suerte\\nPorque ahora la' bendicione' me llueven\\nY quiere' volver, ya lo suponía\\nDándole like a la foto mía\\nTú buscando por fuera la comida\\nYo diciendo que era monotonía\\nY ahora quieres volver, ya lo suponía\\nDándole like a la foto mía (a la mía)\\nTe ves feliz con tu nueva vida pero\\nSi ella supiera que me busca' todavía\\n\\nBebé, ¿qué fue? (Fue)\\n¿No pues que muy tragadito? (Ah)\\n¿Qué haces buscándome el la'o (ey) \\nSi sabes que yo errores no repito?\\nDile a tu nueva bebé \\nQue por hombres no compito (mueve el culito)\\nQue no tiene buena mano\\nY al menos yo te tenía bonito \\n\\n(O-O-Ovy On The Drums)\\n(Mi amor, es que usted se alejó mucho)\\n(Y yo de lejos no veo, bebé)\\n(TQM pero TQG)\\n\\n(Barranquilla, Medallo)\\n        \\n\\n\", \" Hoy es noche de estar soltera\\nLe gusta el perreo, y bailar de cerca\\nMe encanta cuando bellaquea\\nQuiere que la toque\\nPero sabes tú, que esta noche estás pa' mí\\nVen trépate encima 'e mí, manda la ubi paso por ti\\n\\nQuiere que le ponga música\\nPa' que baile hasta abajo la bebé\\nBebimos par de botellas\\nAun así recuerda que lo hicimo' ayer\\nQuiere que le ponga música\\nPa' que baile hasta abajo la bebé\\nBebimos par de botellas\\nY aun así recuerda que lo hicimo' ayer\\n\\nNo se le ha olvidado, cómo la pasamos\\nFuimos a la disco y los dos bailamos pegados\\nComo perros pega'os, besos y par de tragos\\nSe quedó a mi lado, dijo creo que me he enamorao'\\nElla fuma, ella toma\\nEs diablita y chiquita pero picosa\\nMe encanta cuando el pantalón me lo rosa\\nA ella le encanta, se ve en su cara lo goza\\n\\nTiene novio y no se comporta\\nMe dice tranqui que la relación 'tá rota\\nNuestros cuerpos chocan y chocan\\nSe juntan las bocas\\nLos leggings le ahorcan\\n\\nQuiere que le ponga música\\nPa' que baile hasta abajo la bebé\\nBebimos par de botellas\\nY aun así recuerda que lo hicimo' ayer\\nQuiere que le ponga música\\nPa' que baile hasta abajo la bebé\\nBebimos par de botellas\\nY aun así recuerda que lo hicimo' ayer, ayer ayer\\n\\nY te movías muy bien muy bien\\nY se impregnó el olor de Chanel\\n'Tamos mil grados Fahrenheit\\nEstá buena y de cara bonita\\nLe pones música y solita se excita\\nPa' la fiesta nunca se limita\\nPar de amigas, completa la cuadrilla\\nPero tú mamá, sabes me mamas\\nLoca ven pa' acá, pégate hasta atrás\\nNos vamos tú y yo en un viaje fugaz\\nInterestelar, comerte toda\\nFumaremos los dos mariguana\\nEn el cuarto la azotea y en mi cama\\nNena creo te llaman, contesta mañana\\nQue no se apague la llama\\nLlama a los bomberos que el cuarto se va a incendiar\\nDe tanto calor creo que nos vamos a desmayar\\nChica ven pa' acá, que te vo'a a bellaquear\\nOjitos chinitos como dice Don Omar\\n\\nAh\\nLa bebé, la bebé\\nY hasta abajo la bebé\\nY hasta abajo la bebé\\nY hasta abajo la bebé\\nY hasta abajo la bebé, bebé, uy\\n\\nQuiere que le ponga música\\nPa' que baile hasta abajo la bebé\\nBebimos par de botellas\\nY aun así recuerda que lo hicimo' ayer\\nQuiere que le ponga música\\nPa' que baile hasta abajo la bebé\\nBebimos par de botellas\\nY aun así recuerda que lo hicimo' ayer\\n        \\n\\n\", \"I'm good, yeah, I'm feelin' alright\\nBaby, I'ma have the best fuckin' night of my life\\nAnd wherever it takes me, I'm down for the ride\\nBaby, don't you know I'm good, yeah, I'm feelin' alright\\n\\n'Cause I'm good, yeah, I'm feelin' alright\\nBaby, I'ma have the best fuckin' night of my life\\nAnd wherever it takes me, I'm down for the ride\\nBaby, don't you know I'm good, yeah, I'm feelin' alright\\n\\nDon't you know I'm good, yeah, I'm feelin' alright\\n\\nYou know I'm down for whatever tonight\\nI don't need the finer things in life\\nNo matter where I go, it's a good time, yeah\\nAnd I, I don't need to sit in VIP\\nMiddle of the floor, that's where I'll be\\nDon't got a lot but that's enough for me, yeah\\n\\n'Cause I'm good, yeah, I'm feelin' alright\\nBaby, I'ma have the best fuckin' night of my life\\nAnd wherever it takes me, I'm down for the ride\\nBaby, don't you know I'm good, yeah, I'm feelin' alright\\n\\nI'm good, good\\nI'm good\\nDon't you know I'm good, yeah, I'm feelin' alright\\n\\nSo I just let it go, let it go\\nOh-na-na-na-na-na\\nNo, I don't care no more, care no more\\nOh-na-na-na-na-na\\nSo come on let me know, let me know\\nPut your hands up, na-na-na\\nNo, baby, nothing's gonna stop us tonight\\n\\n'Cause I'm good, yeah, I'm feelin' alright\\nBaby, I'ma have the best fuckin' night of my life\\nAnd wherever it takes me, I'm down for the ride\\nBaby, don't you know I'm good, yeah, I'm feelin' alright\\n        \\n\\n\", \"I'm findin' ways to articulate the feelin' I'm goin' through\\nI just can't say I don't love you\\n'Cause I love you, yeah\\nIt's hard for me to communicate the thoughts that I hold\\nBut tonight, I'm gon' let you know\\nLet me tell the truth\\nBaby, let me tell the truth, yeah\\n\\nYou know what I'm thinkin', see it in your eyes\\nYou hate that you want me, hate it when you cry\\nYou're scared to be lonely, 'specially in the night\\nI'm scared that I'll miss you, happens every time\\nI don't want this feelin', I can't afford love\\nI try to find a reason to pull us apart\\nIt ain't workin', 'cause you're perfect, and I know that you're worth it\\nI can't walk away, oh\\n\\nEven though we're goin' through it\\nAnd it makes you feel alone\\nJust know that I would die for you\\nBaby, I would die for you, yeah\\nThe distance and the time between us\\nIt'll never change my mind\\n'Cause, baby, I would die for you\\nBaby, I would die for you, yeah\\n\\nI'm findin' ways to manipulate the feelin' you're goin' through\\nBut, baby girl, I'm not blamin' you\\nJust don't blame me, too, yeah\\n'Cause I can't take this pain forever\\nAnd you won't find no one that's better\\n'Cause I'm right for you, babe\\nI think I'm right for you, babe\\n\\nYou know what I'm thinkin', see it in your eyes\\nYou hate that you want me, hate it when you cry\\nIt ain't workin' 'cause you're perfect, and I know that you're worth it\\nI can't walk away, oh\\n\\nEven though we're goin' through it\\nAnd it makes you feel alone\\nJust know that I would die for you\\nBaby, I would die for you, yeah\\nThe distance and the time between us\\nIt'll never change my mind\\n'Cause, baby, I would die for you, uh\\nBaby, I would die for you, yeah\\n\\nI would die for you, I would lie for you\\nKeep it real with you, I would kill for you\\nMy baby\\nI'm just sayin', yeah\\nI would die for you, I would lie for you\\nKeep it real with you, I would kill for you\\nMy baby\\nNa-na-na, na-na-na, na-na, ooh\\n\\nEven though we're goin' through it\\nAnd it makes you feel alone\\nJust know that I would die for you\\nBaby, I would die for you, yeah\\nThe distance and the time between us\\nIt'll never change my mind\\n'Cause, baby, I would die for you\\nBaby, I would die for you, yeah (oh, babe)\\n\\n(Die for you)\\n        \\n\\n\", \"Grupo Frontera and Bad Bunny - Un x100to\\n        Me queda 1%\\nY lo usaré sólo para decirte lo mucho que lo siento\\nQue si me ven con otra en una disco, sólo es perdiendo el tiempo\\nBaby, ¿pa' qué te miento?\\nEso de que me vieron feliz, no, no es cierto\\n\\nYa nada me hace reír\\nSolo cuando veo las fotos y los vídeos que tengo de ti\\nSalí con otra para olvidarte y tenía el perfume que te gusta a ti\\nPrendo para irme a dormir\\nPorque duermo mejor si sueño que estás aquí\\nSi supieras que te escribí\\nNo he mandado los mensajes, siguen todos ahí\\nWow, qué mucho me ha costao\\nQuizás te hice un favor cuando me fui de tu lado\\nBorracho viendo tus fotos, me duele ver que tú sí has mejorado\\nNo tienes días grises, ya no te duelen las cicatrices\\nY yo pensando si decirte que\\n\\nMe queda 1%\\nY lo usaré solo para decirte lo mucho que lo siento\\nQue si me ven con otra en una disco, sólo es perdiendo el tiempo\\nBaby, ¿pa' qué te miento?\\nEso de que me vieron feliz, no, no es cierto (ey)\\n\\nHace tiempo no pensaba en ti\\nBorracho a tu Insta me metí\\nBaby, ya yo sé que a ti te va bien\\nQue de mí tú no quieres saber, ey, ey\\nViviendo en un infierno que yo mismo incendié\\nJugando contigo como si fuese el die'\\nSiento que ya no estoy en tu corazón, ahora estoy en tus pie'\\nRogándote, en el tequila ahogándome\\nLos muchacho' están invitándome a salir\\nLa paso bien, pero siempre termino extrañándote\\nEn el tequila ahogándome, ey\\nLas morritas texteándome, ey\\nQue dónde es la peda hoy, pero\\n\\nMe queda 1%\\nY lo usaré solo para decirte lo mucho que lo siento\\nQue si me ven con otra en una disco, sólo es perdiendo el tiempo\\nBaby, ¿pa' qué te miento?\\nEso de que me vieron feliz no es cierto, ey\\n\\nY esto es Grupo Frontera\\nY el compa Bad Bunny\\n\\n\", \"Mummy don't know daddy's getting hot\\nAt the Body Shop\\nDoing something unholy\\nHe like it, like it, yeah (ooh)\\nHe like it, like it, yeah (yeah, yeah)\\nHe like it, like it, yeah (uh)\\nHe like it, like it, yeah\\n\\nA lucky, lucky girl\\nShe got married to a boy like you\\nShe'd kick you out if she ever, ever knew\\n'Bout all the- you tell me that you do\\nDirty, dirty boy\\nYou know everyone is talkin' on the scene\\nI hear them whisperin' 'bout the places that you've been\\nAnd how you don't know how to keep your business clean\\n\\nMummy don't know daddy's getting hot\\nAt the Body Shop\\nDoin' somethin' unholy\\nHe's sat back while she's droppin' it\\nShe be poppin' it\\nYeah, she put it down slowly\\nOh-ee-oh-ee-oh, he left his kids at\\nHo-ee-oh-ee-ome so he can get that\\nMummy don't know daddy's getting hot\\nAt the Body Shop\\nDoin' somethin' unholy (woo)\\n\\nMmm, daddy, daddy, if you want it, drop the addy (yeah, yeah)\\nGive me love, give me Fendi, my Balenciaga daddy\\nYou gon' need to bag it up 'cause I'm spendin' on Rodeo (woo)\\nYou can watch me back it up, I'll be gone in the A.M. (yeah)\\nAnd he, he get me Prada, get me Miu Miu like Rihanna (ah)\\nHe always call me 'cause I never cause no drama\\nAnd when you want it, baby, I know I got you covered (yeah-yeah-yeah)\\nAnd when you need it, baby, just jump under the covers (yeah)\\n\\nMummy don't know daddy's getting hot (hot)\\nAt the Body Shop (Shop)\\nDoin' somethin' unholy\\nHe's sat back while she's droppin' it (she)\\nShe be poppin' it (she)\\nYeah, she put it down slowly\\nOh-ee-oh-ee-oh, he left his kids at\\nHo-ee-oh-ee-ome so he can get that\\nMummy don't know daddy's getting hot\\nAt the Body Shop\\nDoin' somethin' unholy\\n\\nOh-oh-oh-ee-oh-ee-ee-oh (unholy)\\nOh-oh-oh-ee-oh-ee-ee-oh (unholy)\\nOh-oh-oh-ee-oh-ee-ee-oh (yeah, yeah)\\nOh-oh-oh-ee-oh-ee-ee-oh\\n        \\n\\n\\n\", \"Te bloqueé de Insta\\nPero por otra cuenta veo tus historias (oh, oh, oh)\\nTu número lo borré\\nNo sé pa' qué si me lo sé de memoria\\n\\nMe hiciste daño \\nY así te extraño\\nY aunque sé que un día te voy a olvidar\\nAún no lo hago\\nEs complicado\\nTodo lo que hicimo', me gusta recordar\\n\\nAndo manejando por las calles que me besaste\\nOyendo las canciones que un día me dedicaste\\nTe diría que volvieras pero eso no se pide\\nMejor le pido a Dios que me cuide\\n\\nPorque ando manejando por las calles que me besaste\\nOyendo las canciones que un día me dedicaste\\nTe diría que volvieras pero eso no se pide\\nMejor le pido a Dios que me cuide, eh\\n\\nQue me cuide de otra que se parezca a ti\\nNo quiero caer como hice por ti\\nOjalá te enamore'\\nTe hagan lo mismo que me hiciste a mí\\nTú me enseñaste a no amar a cualquiera\\nY también como no quiero que me quieran\\n\\nNo\\nÉramos tres en una relación de dos\\nNo te perdono, pídele perdón a Dios\\nDije que te olvidé y la verdad e' que yo\\nYo\\n\\nAndo manejando por las calles que me besaste\\nOyendo las canciones que un día me dedicaste\\nTe diría que volvieras pero eso no se pide\\nMejor le pido a Dios que me cuide\\n\\nPorque ando manejando por las calles que me besaste\\nOyendo las canciones que un día me dedicaste\\nTe diría que volvieras pero eso no se pide\\nMejor le pido a Dios que me cuide, eh\\n\\n\\n\", 'Take a look inside your heart\\nIs there any room for me?\\nI won\\\\\\'t have to hold my breath\\n\\\\\\'Til you get down on one knee\\nBecause you only want to hold me\\nWhen I\\\\\\'m looking good enough\\nDid you ever feel me?\\nWould you ever picture us?\\nEvery time I pull my hair\\nWas only out of fear\\nThat you\\\\\\'ll find me ugly\\nAnd one day you\\\\\\'ll disappear because\\nWhat\\\\\\'s the point of crying?\\nIt was never even love\\nDid you ever want me?\\nWas I ever good enough?\\n\\nThe, the boy\\\\\\'s a liar\\nThe boy\\\\\\'s a liar\\nHe doesn\\\\\\'t see ya\\nYou\\\\\\'re not lookin\\\\\\' at me, boy\\nThe boy\\\\\\'s a liar\\nThe boy\\\\\\'s a liar\\nHe doesn\\\\\\'t see ya\\nYou\\\\\\'re not lookin\\\\\\' at me, boy\\n\\nGood eno-o-ough\\nGood eno-o-ough\\nGood eno-o-ough\\nGood eno-o-ough\\nGood eno-o-ough\\nGood eno-o-ough\\nGood eno-o-ough\\nGood eno-o-ough\\n\\nHe say that I\\\\\\'m good enough, grabbin\\\\\\' my duh-duh-duh\\nThink about shit that I shouldn\\\\\\'t have (huh)\\nSo I tell him it\\\\\\'s one of me, he makin\\\\\\' fun of me (ha-ha)\\nHis girl is a bum to me (grrah)\\nLike that boy is a cap\\nSayin\\\\\\' he home, but I know where he at, like\\nBet he blowin\\\\\\' her back\\nThinkin\\\\\\' \\\\\\'bout me \\\\\\'cause he know that ass fat (damn)\\nAnd it been what it been (huh)\\nCallin\\\\\\' his phone like, \"Yo, send me your pin\"\\nDuckin\\\\\\' my shit, \\\\\\'cause he know what I\\\\\\'m on (grrah)\\nBut when he hit me, I\\\\\\'m not gon\\\\\\' respond (grrah)\\nBut I don\\\\\\'t sleep enough without you\\nAnd I can\\\\\\'t eat enough without you (huh)\\nIf you don\\\\\\'t speak, does that mean we\\\\\\'re through? (Huh)\\nDon\\\\\\'t like sneaky shit that you do (grrah)\\n\\nThe, the boy\\\\\\'s a liar\\nThe boy\\\\\\'s a liar\\nHe doesn\\\\\\'t see ya\\nYou\\\\\\'re not lookin\\\\\\' at me, boy\\nThe boy\\\\\\'s a liar\\nThe boy\\\\\\'s a liar\\nHe doesn\\\\\\'t see ya\\nYou\\\\\\'re not lookin\\\\\\' at me, boy\\n\\nGood eno-o-ough\\nGood eno-o-ough\\nGood eno-o-ough\\nGood eno-o-ough\\nGood eno-o-ough\\nGood eno-o-ough\\nGood eno-o-ough\\nGood eno-o-ough\\n        \\n\\n\\n', \"Telling myself I won't go there\\nOh, but I know that I won't care\\nTryna wash away all the blood I've spilt\\nThis lust is a burden that we both share\\nTwo sinners can't atone from a lone prayer\\nSouls tied, intertwined by our pride and guilt\\n\\n(Ooh)\\nThere's darkness in the distance\\nFrom the way that I've been livin'\\nBut I know I can't resist it\\n\\nOh, I love it and I hate it at the same time\\nYou and I drink the poison from the same vine\\nOh, I love it and I hate it at the same time\\nHidin' all of our sins from the daylight\\nFrom the daylight, runnin' from the daylight\\nFrom the daylight, runnin' from the daylight\\nOh, I love it and I hate it at the same time\\n\\nTellin' myself it's the last time\\nCan you spare any mercy that you might find\\nIf I'm down on my knees again?\\nDeep down, way down, Lord, I try\\nTry to follow your light, but it's night time\\nPlease, don't leave me in the end\\n\\n(Ooh)\\nThere's darkness in the distance\\nI'm beggin' for forgiveness (ooh)\\nBut I know I might resist it, oh\\n\\nOh, I love it and I hate it at the same time\\nYou and I drink the poison from the same vine\\nOh, I love it and I hate it at the same time\\nHidin' all of our sins from the daylight\\nFrom the daylight, runnin' from the daylight\\nFrom the daylight, runnin' from the daylight\\nOh, I love it and I hate it at the same time\\n\\nOh, I love it and I hate it at the same time\\nYou and I drink the poison from the same vine\\nOh, I love it and I hate it at the same time\\nHidin' all of our sins from the daylight\\nFrom the daylight, runnin' from the daylight\\nFrom the daylight, runnin' from the daylight\\nOh, I love it and I hate it at the same time\\n\\n\\n\", \"I wanna take you somewhere so you know I care\\nBut it's so cold and I don't know where\\nI brought you daffodils in a pretty string\\nBut they won't flower like they did last spring\\n\\nAnd I wanna kiss you, make you feel alright\\nI'm just so tired to share my nights\\nI wanna cry and I wanna love\\nBut all my tears have been used up\\n\\nOn another love, another love\\nAll my tears have been used up\\nOn another love, another love\\nAll my tears have been used up\\nOn another love, another love\\nAll my tears have been used up, up\\n\\nAnd if somebody hurts you, I wanna fight\\nBut my hand's been broken one too many times\\nSo I'll use my voice, I'll be so fucking rude\\nWords, they always win, but I know I'll lose\\n\\nAnd I'd sing a song that'd be just ours\\nBut I sang 'em all to another heart\\nAnd I wanna cry, I wanna learn to love\\nBut all my tears have been used up\\n\\nOn another love, another love\\nAll my tears have been used up\\nOn another love, another love\\nAll my tears have been used up\\nOn another love, another love\\nAll my tears have been used up, up\\n\\nOh, need a love, now\\nMy heart is thinking of\\n\\nI wanna sing a song that'd be just ours\\nBut I sang 'em all to another heart\\nAnd I wanna cry, I wanna fall in love\\nBut all my tears have been used up\\n\\nOn another love, another love\\nAll my tears have been used up\\nOn another love, another love\\nAll my tears have been used up\\nOn another love, another love\\nAll my tears have been used up, up\\n\\n\\n\", \"P1 cleaner than your church shoes, ah\\nMilli point two just to hurt you, ah\\nAll red Lamb' just to tease you, ah\\nNone of these toys on lease too, ah\\nMade your whole year in a week too, yeah\\nMain bitch outta your league too, ah\\nSide bitch out of your league too, ah\\n\\nHouse so empty, need a centerpiece\\nTwenty racks a table cut from ebony\\nCut that ivory into skinny pieces\\nThen she clean it with her face, man, I love my baby, ah\\nYou talkin' money, need a hearing aid\\nYou talkin' 'bout me, I don't see the shade\\nSwitch up my style, I take any lane\\nI switch up my cup, I kill any pain\\n\\nLook what you've done\\nI'm a motherfuckin' starboy\\nLook what you've done\\nI'm a motherfuckin' starboy\\n\\nEvery day a nigga try to test me, ah\\nEvery day a nigga try to end me, ah\\nPull off in that Roadster SV, ah\\nPockets overweight, gettin' hefty, ah\\nComing for the king, that's a far cry, ah\\nI come alive in the fall time, I\\nThe competition, I don't really listen\\nI'm in the blue Mulsanne bumping New Edition\\n\\nHouse so empty, need a centerpiece\\nTwenty racks a table cut from ebony\\nCut that ivory into skinny pieces\\nThen she clean it with her face, man, I love my baby, ah\\nYou talkin' money, need a hearing aid\\nYou talkin' 'bout me, I don't see the shade\\nSwitch up my style, I take any lane\\nI switch up my cup, I kill any pain\\n\\nLook what you've done\\nI'm a motherfuckin' starboy\\nLook what you've done\\nI'm a motherfuckin' starboy\\n\\nLet a nigga brag Pitt\\nLegend of the fall, took the year like a bandit\\nBought mama a crib and a brand new wagon\\nNow she hit the grocery shop looking lavish\\nStar Trek roof in that Wraith of Khan\\nGirls get loose when they hear this song\\nA hundred on the dash get me close to God\\nWe don't pray for love, we just pray for cars\\n\\nHouse so empty, need a centerpiece\\nTwenty racks a table cut from ebony\\nCut that ivory into skinny pieces\\nThen she clean it with her face, man, I love my baby, ah\\nYou talkin' money, need a hearing aid\\nYou talkin' 'bout me, I don't see the shade\\nSwitch up my style, I take any lane\\nI switch up my cup, I kill any pain\\n\\nLook what you've done\\nI'm a motherfuckin' starboy\\nLook what you've done\\nI'm a motherfuckin' starboy\\nLook what you've done\\nI'm a motherfuckin' starboy\\nLook what you've done\\nI'm a motherfuckin' starboy\\n\\n\", 'Déjate ver, dime si hoy vas pa\\\\\\' la calle, bebé\\n\\\\\\'Toy en el case pensándote otra vez\\nQuiero pichear, pero me salió al revés (bum-bum)\\nMi amor, a las dos paso por ti ve arreglándote\\nHoy to\\\\\\' corre por la mía, relájate\\nPrometí que no iba a hacerte daño\\nAsí me sienta\\\\\\' extraño, soy el que se quedó en tu piel\\n\\nY mientras me calientas\\nVeo todo lo que nunca me cuentas\\nEl party es más cabrón si tú te sueltas\\n\\nDale hasta abajo que ese culo responde\\nBebé, no te haga\\\\\\', tú eres under\\nYo sé to\\\\\\' lo que tú esconde\\\\\\'\\nTú y yo vamo\\\\\\' a hacer más de una noche, eh-eh\\nY mientras me calientas\\nVeo todo lo que nunca me cuentas\\nEl party es más cabrón si tú te sueltas\\nEl party es más cabrón si tú te sueltas\\n\\nFluya, fluya, sabe\\\\\\' lo que quiero, baby, fluya\\nA ti mucha\\\\\\' te envidian, pero tú estás en la tuya\\nMamá, un baile privado pa\\\\\\'l que no sepa na\\\\\\'\\nY ya bajamo\\\\\\' tensión\\nVine a buscarte, tú sabes la intención\\nPerreamo\\\\\\' esta canción\\nDespués me dice\\\\\\', ma\\\\\\', qué te pareció\\nY yo no sé, pero me dio contigo\\nEstaba ruteando, pensándote y salí del caserío\\nQuiero probarte, que sea esta noche\\nBebé, me trae\\\\\\' la corta por si me meto en un lío\\n\\nDale hasta abajo que ese culo responde\\nBebé, no te haga\\\\\\', tú eres under\\nYo sé to\\\\\\' lo que tú esconde\\\\\\'\\nTú y yo vamo\\\\\\' a hacer más de una noche\\nY mientras me calientas\\nVeo todo lo que nunca me cuentas\\nEl party es más cabrón si tú te sueltas\\nEl party es más cabrón si tú te sueltas\\n\\n\\\\\\'Toy en el punto, bebé, pero estoy pendiente de ti\\nLos peine\\\\\\' están full, la moto full de gasoli\\nGafitas Oakley, machea con la white tee\\nMe dice \"FERXXO\", qué rico se lo metí\\nEsa noche \\\\\\'e jangueo, de fumeteo\\nContigo to\\\\\\' los partie\\\\\\' son de perreo\\nBebé, cuando te veo, yo te leo\\nTú te pierde\\\\\\', mami, yo te rastreo, oh\\nBaby, me la paso joseando, no tengo de otra\\nHagamo\\\\\\' que esta noche sea larga, bebé\\nPorque la vida e\\\\\\' muy corta\\n\\nDale hasta abajo, que ese culo responde\\nBebé, no te haga\\\\\\', tú eres under\\nYo sé to\\\\\\' lo que tú esconde\\\\\\'\\nTú y yo vamo\\\\\\' a hacer más de una noche\\nY mientras me calientas \\nVeo todo lo que nunca me cuentas\\nEl party es más cabrón si tú te sueltas\\nEl party es más cabrón si tú te sueltas\\n\\nResistencia\\nSquare Houze\\nJajajajaja\\n        \\n\\n', \"(La-la-la, la-la-la)\\n(La-la-la-la, la-la-la-la)\\n\\nA hopeless romantic all my life\\nSurrounded by couples all the time\\nI guess I should take it as a sign \\n(Oh, why? Oh, why?)\\n(Oh, why? Oh, why?)\\n\\nI'm feeling lonely (lonely)\\nOh, I wish I'd find a lover that could hold me (hold me)\\nNow I'm crying in my room\\nSo skeptical of love (say what you say, but I want it more)\\nBut still I want it more, more, more\\n\\nI gave a second chance to Cupid\\nBut now I'm left here feeling stupid\\nOh, the way he makes me feel that love isn't real\\nCupid is so dumb\\n\\nI look for his arrows every day\\nI guess he got lost or flew away\\nWaiting around is a waste (waste)\\nBeen counting the days since November\\nIs loving as good as they say?\\n\\nNow I'm so lonely (lonely)\\nOh, I wish I'd find a lover that could hold me (hold me)\\nNow I'm crying in my room\\nSo skeptical of love (say what you say, but I want it more)\\nBut still I want it more, more, more\\n\\nI gave a second chance to Cupid\\nBut now I'm left here feeling stupid\\nOh, the way he makes me feel that love isn't real\\nCupid is so dumb\\n\\n(Cupid is so dumb)\\n\\nHopeless girl is seeking\\nSomeone who will share this feeling\\nI'm a fool, a fool for love\\nA fool for love\\n\\nI gave a second chance to Cupid\\nBut now I'm left here feeling stupid\\nOh, the way he makes me feel that love isn't real\\nCupid is so dumb\\n\\nI gave a second chance to Cupid\\nBut now I'm left here feeling stupid\\nOh, the way he makes me feel that love isn't real\\nCupid is so dumb\\n\\n\", \"I don't know what you've been told\\nBut time is running out, no need to take it slow\\nI'm stepping to you toe-to-toe\\nI should be scared, honey, maybe so\\n\\nBut I ain't worried 'bout it right now\\nKeeping dreams alive, 1999, heroes\\nI ain't worried 'bout it right now\\nSwimmin' in the floods, dancing on the clouds below\\n\\nI ain't worried 'bout it\\nI ain't worried 'bout it, hey\\n(Yeah-yeah-yeah, Becky)\\n\\n'Tamo chillin', relajao', ya seteamo' el ambiente\\nNo se escucha lo que dicen los demás\\nMúsica en alta y living el presente\\nPorque sé que el tiempo no va a regresar\\nHoy conmigo te puedes soltar (ey)\\nDicen que el mundo se va a acabar\\nPues antes que se acabe, vamo' a perrear\\nVamos a perrear\\n\\nI ain't worried 'bout it right now\\nChill relajá' (hey), contigo debajo 'el sol\\nI ain't worried 'bout it right now\\nNo estoy preocupá', en las nubes tú y yo\\n\\nI ain't worried 'bout it\\nI ain't worried 'bout it\\nI ain't worried 'bout it right now\\n\\nI ain't worried\\nOh, no, no\\n\\nI ain't worried 'bout it right now\\nKeeping dreams alive, 1999, heroes\\nI ain't worried 'bout it right now\\nSwimmin' in the floods, dancing on the clouds below\\n\\nI ain't worried 'bout it\\nI ain't worried 'bout it\\n(Hey)\\n        \\n\\nOneRepublic and Becky G - I Ain't Worried\\n        I don't know what you've been told\\nBut time is running out, no need to take it slow\\nI'm stepping to you toe-to-toe\\nI should be scared, honey, maybe so\\n\\nBut I ain't worried 'bout it right now\\nKeeping dreams alive, 1999, heroes\\nI ain't worried 'bout it right now\\nSwimmin' in the floods, dancing on the clouds below\\n\\nI ain't worried 'bout it\\nI ain't worried 'bout it, hey\\n(Yeah-yeah-yeah, Becky)\\n\\n'Tamo chillin', relajao', ya seteamo' el ambiente\\nNo se escucha lo que dicen los demás\\nMúsica en alta y living el presente\\nPorque sé que el tiempo no va a regresar\\nHoy conmigo te puedes soltar (ey)\\nDicen que el mundo se va a acabar\\nPues antes que se acabe, vamo' a perrear\\nVamos a perrear\\n\\nI ain't worried 'bout it right now\\nChill relajá' (hey), contigo debajo 'el sol\\nI ain't worried 'bout it right now\\nNo estoy preocupá', en las nubes tú y yo\\n\\nI ain't worried 'bout it\\nI ain't worried 'bout it\\nI ain't worried 'bout it right now\\n\\nI ain't worried\\nOh, no, no\\n\\nI ain't worried 'bout it right now\\nKeeping dreams alive, 1999, heroes\\nI ain't worried 'bout it right now\\nSwimmin' in the floods, dancing on the clouds below\\n\\nI ain't worried 'bout it\\nI ain't worried 'bout it\\n(Hey)\\n\\n\", \"Watch the sun rise along the coast\\nAs we're both getting old\\nI can't describe what I'm feeling\\nAnd all I know is we're going home\\nSo please don't let me go\\nDon't let me go\\n\\nAnd if it's right, I don't care how long it takes\\nAs long as I'm with you, I've got a smile on my face\\nSave your tears, it'll be okay\\nAll I know is you're here with me\\n\\nOh, oh, oh, oh, oh\\n\\nWatch the sun rise as we're getting old, oh, oh\\nI can't describe, oh, oh\\nI wish I could live through every memory again\\nJust one more time before we float off in the wind\\nAnd all the time we've spent waiting for the light to take us in\\nHave been the greatest moments of my life\\n\\nI don't care how long it takes\\nAs long as I'm with you, I've got a smile on my face\\nSave your tears, it'll be okay\\nYou're here with me\\n\\nOh, oh, oh, oh, oh\\nI can't describe, oh, oh\\n        \\n\\n\\n\", \"Last night we let the liquor talk\\nI can't remember everything we said but we said it all\\nYou told me that you wish I was somebody you never met\\nBut baby, baby, somethin's tellin' me this ain't over yet\\nNo way it was our last night\\n\\nI kiss your lips\\nMake you grip the sheets with your fingertips\\nLast bottle of Jack, we split a fifth\\nJust talkin' 'bout life goin' sip for sip\\nYeah, you, you know you love to fight\\nAnd I say shit I don't mean\\nBut I'm still gon' wake up wantin' you and me\\n\\nI know that last night we let the liquor talk\\nI can't remember everything we said but we said it all\\nYou told me that you wish I was somebody you never met\\nBut baby, baby somethin's tellin' me this ain't over yet\\nNo way it was our last night (last night)\\nNo way it was our last night (last night)\\n\\nNo way it was the last night that we break up\\nI see your tail lights in the dust\\nYou call your mama, I call your bluff\\nIn the middle of the night, pull it right back up\\nYeah, my, my friends say let her go\\nYour friends say what the hell\\nI wouldn't trade your kind of love for nothin' else\\n\\nOh baby, last night we let the liquor talk\\nI can't remember everything we said but we said it all\\nYou told me that you wish I was somebody you never met\\nBut baby, baby, somethin's tellin' me this ain't over yet\\n\\nNo way it was our last night, we said we'd had enough\\nI can't remember everything we said but we said too much\\nI know you packed your shit and slammed the door right before you left\\nBut baby, baby, somethin's tellin' me this ain't over yet\\nNo way it was our last night (last night)\\nNo way it was our last night (last night)\\n\\nI know you said this time you really weren't coming back again\\nBut baby, baby, somethin's tellin' me this ain't over yet\\nNo way it was our last night (last night)\\nNo way it was our last night (last night)\\n        \\n\\n\", 'It was just two lovers \\nSittin\\\\\\' in the car, listening to Blonde\\nFallin\\\\\\' for each other\\nPink and orange skies, feelin\\\\\\' super childish\\nNo Donald Glover\\nMissed call from my mother\\nLike, \"Where you at tonight?\" Got no alibi\\nI was all alone with the love of my life\\nShe\\\\\\'s got glitter for skin\\nMy radiant beam in the night\\nI don\\\\\\'t need no light to see you\\n\\nShine\\nIt\\\\\\'s your golden hour (oh)\\nYou slow down time\\nIn your golden hour (oh)\\n\\nWe were just two lovers\\nFeet up on the dash, drivin\\\\\\' nowhere fast\\nBurnin\\\\\\' through the summer\\nRadio on blast, make the moment last\\nShe got solar power\\nMinutes feel like hours\\nShe knew she was the baddest, can you even imagine\\nFallin\\\\\\' like I did?\\n\\nFor the love of my life\\nShe\\\\\\'s got glow on her face\\nA glorious look in her eyes\\nMy angel of light\\n\\nI was all alone with the love of my life\\nShe\\\\\\'s got glitter for skin\\nMy radiant beam in the night\\nI don\\\\\\'t need no light to see you\\n\\nShine\\nIt\\\\\\'s your golden hour (oh)\\nYou slow down time\\nIn your golden hour (oh)\\n        \\nWritten by: Jake Lawson, Zac Lawson\\nPublisher: Lyrics © Kobalt Music Publishing Ltd.\\n\\n\\', \\'song\\': \\'golden hour\\', \\'artist\\': \\'JVKE\\'}, {\\'lyrics\\': \\'\\nJVKE and A7S - golden hour [Remix]\\n        It was just two lovers \\nSittin\\\\\\' in the car, listening to Blonde\\nFallin\\\\\\' for each other\\nPink and orange skies, feelin\\\\\\' super childish\\nNo Donald Glover\\nMissed call from my mother\\nLike, \"Where you at tonight?\" Got no alibi\\n\\nI was all alone with the love of my life\\nShe\\\\\\'s got glitter for skin\\nMy radiant beam in the night\\nI don\\\\\\'t need no light to see you\\n\\nShine\\nIt\\\\\\'s your golden hour (oh)\\nYou slow down time\\nIn your golden hour (oh)\\n\\nYeah, yeah\\nLookin\\\\\\' at the moon\\nDrivin\\\\\\' through the city, lovin\\\\\\' every minute\\nWhen I\\\\\\'m there with you\\nIt\\\\\\'s a kind of day I don\\\\\\'t wanna change\\nI won\\\\\\'t lie\\nIt\\\\\\'s true\\nI\\\\\\'m falling again for the love of my life\\nShe\\\\\\'s got glow on her face\\nA glorious look in her eyes\\nMy angel of light\\n\\nI was all alone with the love of my life\\nShe\\\\\\'s got glitter for skin\\nMy radiant beam in the night\\nI don\\\\\\'t need no light to see you\\n\\nShine\\nIt\\\\\\'s your golden hour (oh)\\nYou slow down time\\nIn your golden hour (oh)\\nYeah, yeah        \\n\\n', 'Georgia, wrap me up in all your\\nI want you in my arms\\nOh, let me hold you\\nI\\\\\\'ll never let you go again like I did\\nOh, I used to say\\n\\nI would never fall in love again until I found her\\nI said, \"I would never fall unless it\\\\\\'s you I fall into\"\\nI was lost within the darkness, but then I found her\\nI found you\\n\\nGeorgia, pulled me in, I asked to\\nLove her once again\\nYou fell, I caught you\\nI\\\\\\'ll never let you go again like I did\\nOh, I used to say\\n\\nI would never fall in love again until I found her\\nI said, \"I would never fall unless it\\\\\\'s you I fall into\"\\nI was lost within the darkness, but then I found her\\nI found you\\n\\nI would never fall in love again until I found her\\nI said, \"I would never fall unless it\\\\\\'s you I fall into\"\\nI was lost within the darkness, but then I found her\\nI found you\\n\\n', 'La-la-la-la-la-la (Full Harmony)\\nLa-la-la-la-la-la\\nLa-la-la-la-la-la\\nLa-la-la-la\\n\\nTodo está bien, no te tienes que estresar\\nA ti yo sola no te dejaré\\nMe enchulé la primera vez que la vi\\nMe enamoré cuando con ella bailé\\nDesde hace rato se quería pegar\\nPuso la espalda contra la pared\\nY si yo bajo sabe qué le haré\\n\\nLa-la-la-la-la-la\\nTú quieres mami (la-la-la-la-la-la)\\nSe le viran los ojo\\\\\\' (la-la-la-la-la-la)\\nLa miro y se relambe (la-la-la-la-la-la)\\nEl pintalabio\\\\\\' rojo (la-la-la-la-la-la)\\nEsa cintura suelta (la-la-la-la-la-la)\\nBaby, si yo te cojo (la-la-la-la-la-la)\\nTe subo a la altura (la-la-la-la-la-la)\\nTú dime y te recojo (la-la-la-la-la-la)\\n\\nElla a manejar me dejó\\nSiempre se va a sentir cuando a un lugar llegue yo\\nYo estaba coronando desde que era menor\\nPor foto\\\\\\' se ve bien pero de frente mejor\\nSe dio un par de copas de má\\\\\\'\\nDel vino tinto me pidió pausa \\nCuando iba por el quinto\\nLe di una vuelta por el barrio con la KYMCO\\nEllas cuando me ven de frente quedan trinco\\\\\\'\\n\\nSola la hace, sola la paga\\nPrende otro a la que este se apaga\\nEstá llamando mi atención porque quiere que le haga\\n\\nLa-la-la-la-la-la\\nTú quieres mami (la-la-la-la-la-la)\\nSe le viran los ojo\\\\\\' (la-la-la-la-la-la)\\nLa miro y se relambe (la-la-la-la-la-la)\\nEl pintalabio\\\\\\' rojo (la-la-la-la-la-la)\\nEsa cintura suelta (la-la-la-la-la-la)\\nBaby, si yo te cojo (la-la-la-la-la-la)\\nTe subo a la altura (la-la-la-la-la-la)\\nTú dime y te recojo (la-la-la-la-la-la)\\n\\nCuando algo está pa\\\\\\' ti es inevitable\\nBebé tus ganas son notables\\nVamos a hacerlo como si no hubiese ni televisor ni cable\\nEsa mirada es la culpable\\nNos están mirando, vámonos\\nMe dijo \"No lo pienses mucho y dámelo\"\\nPor su cara se ve que se lo saboreo\\nLos vecinos mirando y el balcón abrió\\n\\nA mí me encanta cuando pone cara \\\\\\'e mala\\nMe rellena los peines de bala\\nY hasta dejé la corta en la sala\\nEstaba enfocao\\\\\\' en\\n\\nLa-la-la-la-la-la\\nYo tu Carmelo y tú mi (la-la-la-la-la-la)\\nCuando yo bajo (la-la-la-la-la-la)\\nSiempre me pide (la-la-la-la-la-la)\\nYo nunca paro (la-la-la-la-la-la)\\nY a ella le gusta el (la-la-la-la-la-la)\\nLa tengo loca con el (la-la-la-la-la-la)\\nSola se toca cuando (la-la-la-la-la-la)\\nMirándola y yo le hago (la-la-la-la-la-la)\\n\\n(Yo tu Carmelo y tú mi\\nCuando yo bajo\\nSiempre me pide\\nYo nunca paro\\nY a ella le gusta el\\nLa tengo loca con el\\nSola se toca cuando\\nMirándola y yo le hago)\\n        \\n\\n', 'Llegué al club con el combo\\nRápido la vi lejos\\nSe pintaba los labios \\nY la copa como espejo\\nSe acercó poco a poco \\nY yo queriendo que me baile\\nLuego me dijo\\n\"Vamos, que te enseño Buenos Aire\\\\\\'\"\\n\\nY nos fuimos en una\\nEmpezamo\\\\\\' a la una\\nY con la nota rápido \\nNos dieron las tre\\\\\\'\\nPerreamos toda la noche \\nY nos dormimo\\\\\\' a las die\\\\\\'\\nAndo rezándole a Dios \\nPa\\\\\\' repetirlo otra ve\\\\\\'\\nY nos fuimos en una\\nEmpezamo\\\\\\' a la una\\nY con la nota rápido \\nNos dieron las tre\\\\\\'\\nPerreamos toda la noche \\nY nos dormimo\\\\\\' a las diez\\nAndo rezándole a Dios \\nPa\\\\\\' repetirlo otra ve\\\\\\'\\n\\nDime, beba\\nFecha y hora y te paso a buscar\\nYo le llego adonde los demás \\nTú sabes que no le llegan\\nRuido de botellas de champán \\nDe las copas al brindar\\nPero solo escucho cómo late\\nMi corazón cuando veo ese cuerpo \\\\\\'e escaparate\\nEl traje combina con la Mercede\\\\\\' Granate\\nNo hay otro por más que ellos traten (yeah)\\n\\nQuédate\\nQue las noches sin ti duelen\\nTengo en la mente las pose\\\\\\' \\nY todos los gemido\\\\\\'\\nQue ya no quiero nada \\nQue no sea contigo\\nQuédate\\nQue las noches sin ti due-e-e-e-len\\nTengo en la mente las pose\\\\\\' \\nY todo lo que hicimo\\\\\\'\\nQue ya no quiero nada \\nQue no sea contigo\\n\\nDale, guacha, suelta (suelta)\\nVente pa\\\\\\' Canaria\\\\\\' sin el equipaje \\nY sin viaje de vuelta\\nPor la isla te vo\\\\\\'a dar una vuelta\\nBebé, solo avisa\\nEl sábado teteo, el domingo misa\\nEstoy a ver si me garantiza\\\\\\'\\nQue te me pegas como quien graba con Biza\\nY vi salir a las amigas del party \\nY ella se quedó\\nMirándonos a los ojo\\\\\\'\\nNo al reloj\\nY nos fuimos en Uber al apartamento\\nEn privado me pedía que le diera un concierto\\nLe dije que por meno\\\\\\' de un beso no canto\\n\\nY nos fuimos en una\\nEmpezamo\\\\\\' a la una\\nY con la nota rápido \\nNos dieron las tre\\\\\\'\\nPerreamos toda la noche \\nY nos dormimo\\\\\\' a las die\\\\\\'\\nAndo rezándole a Dios \\nPa\\\\\\' repetirlo otra ve\\\\\\'\\n\\nQuédate\\nQue las noches sin ti duelen\\nTengo en la mente las pose\\\\\\' \\nY todos los gemido\\\\\\'\\nQue ya no quiero nada \\nQue no sea contigo\\nQuédate\\nQue las noches sin ti due-e-e-e-len\\nTengo en la mente las pose\\\\\\' \\nY todo lo que hicimo\\\\\\'\\nQue ya no quiero nada \\nQue no sea contigo\\n\\nBizarrap\\nQuevedo con el Biza, yeah-yeah-yeah\\nLPGC, you know\\n\\n\\n', \"Dime, ¿qué carajo fue lo que me hiciste?\\nSon las 6 A.M. y quiero dormirme ya\\nPero no he podido desde que te fuiste\\n¿Qué tú me hiciste?\\n\\nHey, ma', ¿cómo te saco de aquí?\\nLlego a la disco y solo pienso en ti\\nLo que hicimo' yo lo quiero olvidar\\nCon otra, pero no sabe igual (no)\\n¿Pa' qué te voy a mentir? (te voy a mentir)\\nAndo con culo', pero pienso en ti\\nLo que hicimo' no lo quiero olvidar, lo quiero repetir, baby\\n\\nEstás perdida, ¿qué vas a hacer hoy?\\nTe vi puesta pa'l gym, no para el vacilón\\nBaby, tú eras real, las otras plástico\\nPusiste a esta liendra a hablar romántico\\nTe pienso todo' los día'\\nUno no cambia un Mercede' por un Kia\\nSé que cagué la relación, mala mía\\nBaby, no sé pa' qué peleamo'\\nSi podemo' estar haciendo groserías\\nCondado, vista al mar amanecimos ese día\\nNos fuimo' 'e Fifty Eight pa' la playa\\nPero nunca pensé que iba a ser el último día\\nBaby, ¿dónde estás? que yo paso por ti\\nAndo activo con los títeres en las motoras\\nA ver si te veo por ahí\\n\\nHey, ma', ¿cómo te saco de aquí?\\nSi llego a la disco y pienso en ti\\nLo que hicimo' lo he querido borrar\\nCon otra, chimba, pero no sabe igual (no)\\nNo te voy a mentir (no te voy a mentir)\\nSi no hay trago' solo pienso en ti\\nLo que hicimo' no lo quiero olvidar, lo quiero repetir, baby\\n\\nUn culo como el tuyo\\nCualquiera peca\\nTú solo dime cuándo quiere' que te meta\\nQue hoy ando con el combo, los rompediscoteca'\\nEs que, bebé, tú ere' la neta, pero\\nSolo quiero que te decida' pa' irte a buscar (pa' irte a buscar)\\nUn perreíto lento y adentro terminar\\nSolo falta que te decidas pa' irte a buscar (pa' irte a buscar) (yeah)\\nUn perreíto lento y adentro terminar\\nHmm, dame lu', que no sé\\nDame agua, que tengo sed\\nHoy quiero invertir lo que me gasté (me gasté)\\nCon toa' las sustancia' son más de las tre' (eh, eh)\\n\\nDime, ¿qué puta' fue lo que me hiciste? (oh, no)\\nSon las 6 A.M. y no puedo dormirme ya\\nPero no he podido desde que te fuiste\\n¿Qué tú me hiciste?\\n\\nHey, ma', ¿cómo te saco de aquí? (¿cómo te saco de aquí?)\\nSi llego a la disco y pienso en ti\\nLo que hicimo' lo he querido borrar\\nCon otra, pero no sabe igual (no)\\n¿Pa' qué te voy a mentir? (te voy a mentir)\\nAndo con culo', pero pienso en ti\\nLo que hicimo' no lo quiero olvidar, lo quiero repetir, baby\\n\\nWoh\\n\\n(Nos fuimo' 'e Fifty Eight pa' la playa\\nPero nunca pensé que iba a ser el último día)\\nWoh\\n\\n\", 'To\\\\\\' los día\\\\\\' te imagino\\nCómo te debes ver sin ese Valentino\\nCon ese cuerpo asesino\\nDivino, ma\\n\\nQue yo esté pensándote para mí es normal\\nTo\\\\\\' lo que tienes a mí me gusta\\nVamos a comernos, baby, aunque no sea formal\\nY si nos envolvemos no me asusta\\n\\nTú tienes cara de que te gusta freaky y nasty\\nNada de lo romantic\\nTú te ves cara, bitchy, classy, en cuatro fantastic\\nMás que problematic\\nTú tocándote, yo loca por entrar\\nTú sabes lo que me gusta\\nSigue cucándome que yo no vo\\\\\\' a fantasmear\\nTe voy a cobrar la multa\\n\\nYeah\\nBaby, bienvenida al party\\nTú eres una bandi con cuerpo de Barbie, yeah\\nRumbea desde que no tiene ID, se pone mis Oakley\\\\\\'s\\nSe sube la faldi, yeah\\nEs otra cosa\\nPero mi corillo dice que es peligrosa\\nUna experta, es una chimba\\nA la disco que llega ella la destroza\\n\\nNo le pongo frenos\\nEsas nalgas me las baja hasta el suelo\\nShe said, \"Fuck that\"\\nNo le gusta lo normal, to\\\\\\' es extremo\\n\\nDéjame ver to\\\\\\'\\nYo sé que no es nada formal pero dame el OK though\\nVery welcome\\nEsta noche vo\\\\\\' a hacerte todo lo que dije por texto, yeah\\n\\nTú tienes cara de que te gusta freaky y nasty\\nNada de lo romantic\\nTú te ves cara, bitchy, classy, en cuatro fantastic\\nDizque problematic\\nTú tocándote, yo loco por entrar\\nTú sabes lo que me gusta\\nSigue cucándome que yo no vo\\\\\\' a fantasmear\\nTe voy cobrar la multa\\nWhoa\\n\\nMami, esto es un arresto\\nTe voy a cobrar esa miradita con impuestos\\nSaca las esposas, baby, yo me presto\\nY ponme en house arrest que no me molesto, yeah\\n\\nTú tienes cara de que eres una nasty doll debajo de los cobeles, yeah\\nOh, ninguna se compara, mami, ese culo es game over\\n\\nOh Papa, oh my God\\nTú te mueves así, mami, you got me stuck, hey\\nPeligrosa pero I\\\\\\'m falling in love\\nEs que no es normal, baby, what the fuck?\\n\\nNo la freno si esas nalgas me las baja hasta el suelo\\nI said, \"Fuck that\", yeah\\nSi se me trepa encima, me mata sin balas\\n\\nCon esa cara de que le gusta freaky y nasty\\nNada de lo romantic\\nTú te ves cara, bitchy, classy, en cuatro fantastic\\nMás que problematic\\nTú tocándote, yo loca por entrar\\nTú sabes lo que me gusta\\nSigue cucándome que yo no vo\\\\\\' a fantasmear\\nTe voy cobrar la multa\\nWhoa\\n\\nEh, eh, oh-oh\\nFerxxo, Ferxxo\\nCaleb, Caleb, Calloway, uh-uh\\nJULiA, ey\\nIt\\\\\\'s Baby Miko\\nBrr, ey, yo, Mauro\\n\\n', \"        (By)\\n(Walk on by)\\n(Walk on by)\\n(Walk on by)\\n(Walk on by)\\n\\nYeah, bitch, I said what I said\\nI'd rather be famous instead\\nI let all that get to my head\\nI don't care, I paint the town red\\nBitch, I said what I said\\nI'd rather be famous instead\\nI let all that get to my head\\nI don't care, I paint the town red\\n\\nMm, she the devil\\nShe a bad lil' bitch, she a rebel\\nShe put her foot to the pedal\\nIt'll take a whole lot for me to settle\\nMm, she the devil\\nShe a bad lil' bitch, she a rebel\\nShe put her foot to the pedal\\nIt'll take a whole lot for me to settle (yeah, yeah)\\n\\nSaid, my happiness is all of your misery\\nI put good dick all in my kidneys\\nThis Margiel' don't come with no jealousy\\nMy illness don't come with no remedy\\nI am so much fun without Hennessy\\nThey just want my love and my energy\\nYou can't talk no shit without penalties\\nBitch, I'm in yo' shit if you send for me\\nI'm going to glow up one more time\\nTrust me, I have magical foresight\\nYou gon' see me sleepin' in courtside\\nYou gon' see me eatin' ten more times\\nUgh, you can't take that bitch nowhere\\nUgh, I look better with no hair\\nUgh, ain't no sign I can't smoke here\\nUgh (yeah), gimme the chance and I'll go there\\n\\nYeah, bitch, I said what I said\\nI'd rather be famous instead\\nI let all that get to my head\\nI don't care, I paint the town red\\nBitch, I said what I said\\nI'd rather be famous instead\\nI let all that get to my head\\nI don't care, I paint the town red\\n\\nMm, she the devil\\nShe a bad lil' bitch, she a rebel\\nShe put her foot to the pedal\\nIt'll take a whole lot for me to settle\\nMm, she the devil\\nShe a bad lil' bitch, she a rebel\\nShe put her foot to the pedal\\nIt'll take a whole lot (yeah) for me to settle (yeah)\\n\\nSaid pop make money, now you try, bitch\\nYou could use a revamp with a new vibe, sis\\nI don't need a big feature or a new sidekick\\nI don't need a new fan 'cause my boo like it\\nI don't need to wear a wig to make you like it\\nI'm a two-time bitch, you ain't knew I'd win?\\nThrow a shot like you tryna have a food fight then\\nAll my opps waitin' for me to be you, I bet\\nSaid I got drive, I don't need a car\\nMoney really all that we fiendin' for\\nI'm doin' things they ain't seen before\\nFans ain't dumb, but extremists are\\nI'm a demon lord\\nFall off what? I ain't seen the horse\\nCalled your bluff, better cite the source\\nFame ain't somethin' that I need no more\\n\\n'Cause, bitch, I said what I said\\nI'd rather be famous instead\\nI let all that get to my head\\nI don't care, I paint the town red\\nBitch, I said what I said\\nI'd rather be famous instead\\nI let all that get to my head\\nI don't care, I paint the town red\\n\\nMm, she the devil\\nShe a bad lil' bitch, she a rebel\\nShe put her foot to the pedal\\nIt'll take a whole lot for me to settle\\nMm, she the devil\\nShe a bad lil' bitch, she a rebel\\nShe put her foot to the pedal\\nIt'll take a whole lot for me to settle\\n\\n(Walk on by)\\n(Walk on by)\\n(Walk on by)\\n(Walk on by)\\n(Walk on by)\\n        \\n\\n\", \"And all I am is a man\\nI want the world in my hands\\nI hate the beach\\nBut I stand in California with my toes in the sand\\nUse the sleeves of my sweater\\nLet's have an adventure\\nHead in the clouds but my gravity centered\\nTouch my neck and I'll touch yours\\nYou in those little high waisted shorts, oh\\n\\nOh, she knows what I think about\\nAnd what I think about\\nOne love, two mouths\\nOne love, one house\\nNo shirt, no blouse\\nJust us, you find out\\nNothing that I wouldn't wanna tell you about, no\\n'Cause it's too cold\\nFor you here\\nAnd now, so let me hold\\nBoth your hands in the holes of my sweater\\n\\nAnd if I may just take your breath away\\nI don't mind if there's not much to say\\nSometimes the silence guides a mind\\nTo move to a place so far away\\nThe goosebumps start to raise\\nThe minute that my left hand meets your waist\\nAnd then I watch your face\\nPut my finger on your tongue 'cause you love to taste, yeah\\nThese hearts adore, everyone the other beats hardest for\\nInside this place is warm\\nOutside it starts to pour\\n\\nComing down\\nOne love, two mouths\\nOne love, one house\\nNo shirt, no blouse\\nJust us, you find out\\nNothing that I wouldn't wanna tell you about, no, no, no\\n'Cause it's too cold\\nFor you here\\nAnd now, so let me hold\\nBoth your hands in the holes of my sweater\\n\\n'Cause it's too cold\\nFor you here\\nAnd now, so let me hold\\nBoth your hands in the holes of my sweater\\n\\nWhoa, whoa, whoa\\n\\nWhoa, whoa, whoa\\nWhoa, whoa, whoa, whoa\\nWhoa, whoa\\nWhoa, whoa, whoa, whoa\\nWhoa, whoa\\n\\n'Cause it's too cold\\nFor you here\\nAnd now, so let me hold\\nBoth your hands in the holes of my sweater\\n\\nIt's too cold\\nFor you here\\nAnd now, let me hold\\nBoth your hands in the holes of my sweater\\n\\nAnd it's too cold, it's too cold\\nThe holes of my sweater\\n        \\nWritten by: Jeremy Freedman, Jesse Rutherford, Zachary Abels\\nPublisher: Lyrics © Sony/ATV Music Publishing LLC\\n\\n\\n\\n\", \"(Ooh, ooh-oh, oh)\\n(I think I know, whoa-oh)\\n\\nI'll touch that fire for you\\nI do that three, four times again, I testify for you\\nI told that lie, I'd kill that bitch\\nI do what all of them around you scared to do, I'm not\\nLong as you juggin' out here for me, I got it\\nMobbin', schemin', lootin', hide your bodies\\nLong as you dreamin' 'bout me, ain't no problem\\nI don't got nobody, just with you right now\\nTell the truth, I look better under you\\n\\nI can't lose when I'm with you\\nHow can I snooze and miss the moment?\\nYou just too important\\nNobody do body like you do\\nI can't lose when I'm with you\\nI can't just snooze and miss the moment\\nYou just too important\\nNobody do body like you do, you do\\n\\nIn the droptop ride with you, I feel like Scarface (Scarface)\\nLike that white bitch with the bob, I'll be your main one (main one)\\nLet's take this argument back up to my place\\nSex remind you, I'm nonviolent, I'm your day one\\nWe ain't had shit, yeah, it was magic, yeah\\nSmash and grab shit, yeah\\nNasty habits take a hold when you not here\\nAin't a home when you not here\\nHard to grow when you not here, I'm sayin'\\n\\nI can't lose when I'm with you\\nHow can I snooze and miss the moment?\\nYou just too important\\nNobody do body like you do\\nI can't lose when I'm with you\\nHow can I snooze and miss the moment?\\nYou just too important\\nNobody do body like you do, you do\\n\\nMain one ridin'\\nHow you frontin' on me and I'm the main one tryin'?\\nHow you blame it on me and you the main one lyin'?\\nHow you threatenin' to leave and I'm the main one cryin'?\\nJust tryna be your everything\\nMain one ridin'\\nHow you frontin' on me and I'm the main one tryin'?\\nHow you blame it on me and you the main one lyin'?\\nHow you threatenin' to leave and I'm the main one cryin'?\\n\\nI can't lose when I'm with you, ooh\\nHow can I snooze and miss the moment?\\nYou just too important\\nNobody do body like you do\\nI can't lose when I'm with you\\nHow can I snooze and miss the moment?\\nYou just too important\\nNobody do body like you do, you do\\n\\nNah, nah, nah, nah\\nI think I know, whoa-oh\\nSee, no, I can't lose\\nI think I know, ooh-whoa, ooh-whoa-oh\\n\\n\", 'Nice to meet you, where you been?\\nI could show you incredible things\\nMagic, madness, heaven, sin\\nSaw you there and I thought\\nOh my God, look at that face\\nYou look like my next mistake\\nLove\\\\\\'s a game, wanna play? Ayy\\nNew money, suit and tie\\nI can read you like a magazine\\nAin\\\\\\'t it funny, rumors fly\\nAnd I know you heard about me\\nSo hey, let\\\\\\'s be friends\\nI\\\\\\'m dyin\\\\\\' to see how this one ends\\nGrab your passport and my hand\\nI can make the bad guys good for a weekend\\n\\nSo it\\\\\\'s gonna be forever\\nOr it\\\\\\'s gonna go down in flames\\nYou can tell me when it\\\\\\'s over, mm\\nIf the high was worth the pain\\nGot a long list of ex lovers\\nThey\\\\\\'ll tell you I\\\\\\'m insane\\n\\\\\\'Cause you know I love the players\\nAnd you love the game\\n\\\\\\'Cause we\\\\\\'re young and we\\\\\\'re reckless\\nWe\\\\\\'ll take this way too far\\nIt\\\\\\'ll leave you breathless, mm\\nOr with a nasty scar\\nGot a long list of ex lovers\\nThey\\\\\\'ll tell you I\\\\\\'m insane\\nBut I\\\\\\'ve got a blank space, baby\\nAnd I\\\\\\'ll write your name\\n\\nCherry lips, crystal skies\\nI could show you incredible things\\nStolen kisses, pretty lies\\nYou\\\\\\'re the king, baby, I\\\\\\'m your queen\\nFind out what you want\\nBe that girl for a month\\nWait, the worst is yet to come, oh no\\nScreaming, crying, perfect storms\\nI can make all the tables turn\\nRose garden filled with thorns\\nKeep you second guessin\\\\\\' like\\n\"Oh my God, who is she?\"\\nI get drunk on jealousy\\nBut you\\\\\\'ll come back each time you leave\\n\\\\\\'Cause darling, I\\\\\\'m a nightmare dressed like a daydream\\n\\nSo it\\\\\\'s gonna be forever\\nOr it\\\\\\'s gonna go down in flames\\nYou can tell me when it\\\\\\'s over, mm\\nIf the high was worth the pain\\nGot a long list of ex lovers\\nThey\\\\\\'ll tell you I\\\\\\'m insane\\n\\\\\\'Cause you know I love the players\\nAnd you love the game\\n\\\\\\'Cause we\\\\\\'re young and we\\\\\\'re reckless (oh)\\nWe\\\\\\'ll take this way too far\\nIt\\\\\\'ll leave you breathless, mm\\nOr with a nasty scar\\nGot a long list of ex lovers\\nThey\\\\\\'ll tell you I\\\\\\'m insane (insane)\\nBut I\\\\\\'ve got a blank space, baby\\nAnd I\\\\\\'ll write your name\\n\\nBoys only want love if it\\\\\\'s torture\\nDon\\\\\\'t say I didn\\\\\\'t, say I didn\\\\\\'t warn ya\\nBoys only want love if it\\\\\\'s torture\\nDon\\\\\\'t say I didn\\\\\\'t, say I didn\\\\\\'t warn ya\\n\\nSo it\\\\\\'s gonna be forever\\nOr it\\\\\\'s gonna go down in flames\\nYou can tell me when it\\\\\\'s over (over), mm\\nIf the high was worth the pain\\nGot a long list of ex lovers\\nThey\\\\\\'ll tell you I\\\\\\'m insane\\n\\\\\\'Cause you know I love the players\\nAnd you love the game\\n\\\\\\'Cause we\\\\\\'re young and we\\\\\\'re reckless (yeah)\\nWe\\\\\\'ll take this way too far\\nIt\\\\\\'ll leave you breathless, mm\\nOr with a nasty scar\\nGot a long list of ex lovers\\nThey\\\\\\'ll tell you I\\\\\\'m insane\\nBut I\\\\\\'ve got a blank space, baby\\nAnd I\\\\\\'ll write your name\\n\\n', \"        Yeah\\n\\nI've been tryna call\\nI've been on my own for long enough\\nMaybe you can show me how to love, maybe\\nI'm going through withdrawals\\nYou don't even have to do too much\\nYou can turn me on with just a touch, baby\\n\\nI look around and Sin City's cold and empty (oh)\\nNo one's around to judge me (oh)\\nI can't see clearly when you're gone\\n\\nI said, ooh, I'm blinded by the lights\\nNo, I can't sleep until I feel your touch\\nI said, ooh, I'm drowning in the night\\nOh, when I'm like this, you're the one I trust\\nHey, hey, hey\\n\\nI'm running out of time\\n'Cause I can see the sun light up the sky\\nSo I hit the road in overdrive, baby\\n\\nOh, the city's cold and empty (oh)\\nNo one's around to judge me (oh)\\nI can't see clearly when you're gone\\n\\nI said, ooh, I'm blinded by the lights\\nNo, I can't sleep until I feel your touch\\nI said, ooh, I'm drowning in the night\\nOh, when I'm like this, you're the one I trust\\n\\nI'm just walking by to let you know (by to let you know)\\nI could never say it on the phone (say it on the phone)\\nWill never let you go this time (ooh)\\n\\nI said, ooh, I'm blinded by the lights\\nNo, I can't sleep until I feel your touch\\nHey, hey, hey\\n\\nHey, hey, hey\\n\\nI said, ooh, I'm blinded by the lights\\nNo, I can't sleep until I feel your touch\\n\\n\", \"Baby, dime la verdad\\nSi te olvidaste de mí\\nYo sé que fue una noche na' má'\\nQue no se vuelve a repetir\\nTal ve' en ti quise encontrar\\nLo que en otra perdí\\nTu orgullo no me quiere hablar\\nEntonce' vamo' a competir, a ver, ey\\n\\nNo me gusta perder \\nDime qué vamo' a hacer\\nMe paso mirando el cel \\nWow, no puede ser\\nAunque me tarde un poco, juro que vo'a responder\\nQuisiera volverte a ver\\nQuisiera volverte a ver encima de mí brincando, uh, uh, uh\\nLo rica que te ves chingando, uh, uh, uh\\nNo sé qué estamo' esperando\\nEl orgullo nos está ganando, ey\\n\\nBaby, dime la verdad\\nSi te olvidaste de mí\\nYo sé que fue una noche na' má'\\nQue no se vuelve a repetir\\nTal ve' en ti quise encontrar, ey\\nLo que en otra perdí\\nTu orgullo no me quiere hablar\\nEntonce' vamo' a competir, a ver, ey\\n\\nUh, desde que nos vimo' pienso en \\nCómo nos comimo', ey\\nDespués dividimo', cada cual por su camino\\nEn la alfombra aún están las mancha' de vino\\n¿Dónde está ese totito? Que lleva tiempo perdido\\n\\nSi te digo que me gusta', que estás buena\\nNo lo tome' por cumplido\\nEs que yo soy un bellaco\\nEs que yo soy un atrevido, ey\\nY hace tiempo que quiero chingar contigo\\n\\nMami, te vo'a dar \\nHasta que te duela la popola como a Glo (Glo)\\nMe gusta tu flow (flow)\\nTranquilita tú siempre te roba' el show (ey)\\nUna perversa, le vo'a dar dembow (mami)\\nSi se pone en cuatro, I go where she goes\\nSo, mami, dime a ver \\nI wanna feel that pussy again \\nTú tiene' piquete y yo también (yo también)\\nPor poco pierdo y te envío un DM, ey\\n\\nPa' decirte la verdad\\nQue no me he olvida'o de ti\\nYo sé que fue una noche na' má'\\nQue no se vuelve a repetir\\nTal vez en ti quise encontrar\\nLo que en otra perdí\\nTu orgullo no me quiere hablar\\nEntonce' vamo' a competir, a ver, ey\\n\\n\\n\", 'She\\'s saying, \"Baby, 생각하지 마\"\\nShe\\'s saying, \"Baby, saeng-gaghaji ma\"\\n\\nThere\\'s not a bad thing here tonight\\nThere\\'s not a bad thing here tonight\\n\\nBaby, 떠나도 좋아\\nBaby, tteonado joh-a\\n\\n있어 줘 오늘까지만\\niss-eo jwo oneulkkajiman\\nWatch me go, 날 적셔 밤새도록, away\\nWatch me go, nal jeogsyeo bamsaedolog, away\\n\\n아침도 취해서 오지 않게 (않게)\\nachimdo chwihaeseo oji anhge (anhge)\\n시끄러운 음악 속에 희미해진 나\\nsikkeuleoun eum-ag sog-e huimihaejin na\\n\\n드라마같은 뻔한 story 익숙해져 가\\ndeulamagat-eun ppeonhan story igsughaejyeo ga\\n\\n네가 알던 나를 찾기엔 멀리 온 걸까?\\nnega aldeon naleul chajgien meolli on geolkka?\\n\\nYeah, I know, you know, I know (ooh)\\nYeah, I know, you know, I know (ooh)\\nI\\'d rather be lost in the lights, lost in the lights\\nI\\'d rather be lost in the lights, lost in the lights\\n\\nI\\'m out of my mind, 이 밤의 끝을 잡아줘\\nI\\'m out of my mind, i bam-ui kkeut-eul jab-ajwo\\n\\n매일 밤, you spin me up high\\nmaeil bam, you spin me up high\\n\\n너를 품은 달, let me have a taste\\nneoleul pum-eun dal, let me have a taste\\nGive me a good ride\\nGive me a good ride\\n\\n(Oh, I\\'m fallin\\', I\\'m fallin\\', I\\'m fallin\\')\\n(Oh, I\\'m fallin\\', I\\'m fallin\\', I\\'m fallin\\')\\n\\nOh, it\\'s gon\\' be a good night\\nOh, it\\'s gon\\' be a good night\\n\\n(Oh, I\\'m fallin\\') forever, you and I\\n(Oh, I\\'m fallin\\') forever, you and I\\nHmm-hmm, yeah, yeah\\nHmm-hmm, yeah, yeah\\n\\nHmm-hmm, yeah, yeah\\nHmm-hmm, yeah, yeah\\n\\nHmm-hmm, yeah, yeah\\nHmm-hmm, yeah, yeah\\n\\nHmm-hmm (forever, you and I)\\nHmm-hmm (forever, you and I)\\n거울 속에 비친 나 하염없이 미쳐가\\ngeoul sog-e bichin na hayeom-eobs-i michyeoga\\n\\nI\\'m feelin\\' so alive, wasting time\\nI\\'m feelin\\' so alive, wasting time\\nI\\'d rather be lost in the lights, lost in the lights\\nI\\'d rather be lost in the lights, lost in the lights\\n\\nI\\'m out of my mind, 이 밤의 끝을 잡아줘\\nI\\'m out of my mind, i bam-ui kkeut-eul jab-ajwo\\n\\n매일 밤, you spin me up high\\nmaeil bam, you spin me up high\\n\\n너를 품은 달, let me have a taste\\nneoleul pum-eun dal, let me have a taste\\nGive me a good ride\\nGive me a good ride\\n\\n(Oh, I\\'m fallin\\', I\\'m fallin\\', I\\'m fallin\\')\\n(Oh, I\\'m fallin\\', I\\'m fallin\\', I\\'m fallin\\')\\n\\nOh, it\\'s gon\\' be a good night\\nOh, it\\'s gon\\' be a good night\\n\\n(Oh, I\\'m fallin\\') forever, you and I\\n(Oh, I\\'m fallin\\') forever, you and I\\nThis will break me, this is gonna break me (break me)\\nThis will break me, this is gonna break me (break me)\\n\\nNo, don\\'t you wake me (wake me)\\nNo, don\\'t you wake me (wake me)\\n\\nI wanna stay in this dream\\nI wanna stay in this dream\\n\\nDon\\'t save me, don\\'t you try to save me (save me)\\nDon\\'t save me, don\\'t you try to save me (save me)\\n\\nI need a way we (way we)\\nI need a way we (way we)\\n\\nI need a way we can dream on (dream on)\\nI need a way we can dream on (dream on)\\n\\n', \"Yeah\\nI know sometimes\\nThings may not always make sense to you right now\\nBut hey\\nWhat Daddy always tell you?\\nStraighten up, little soldier\\nStiffen up that upper lip\\nWhat you cryin' about?\\nYou got me\\n\\n[Verse 1]\\nHailie, I know you miss your Mom, and I know you miss your Dad\\nWhen I'm gone, but I'm tryin' to give you the life that I never had\\nI can see you're sad, even when you smile, even when you laugh\\nI can see it in your eyes, deep inside you wanna cry\\n'Cause you're scared, I ain't there, Daddy's wit' you in your prayers\\nNo more cryin', wipe them tears, Daddy's here, no more nightmares\\nWe gon' pull together through it, we gon' do it\\nLainie, Uncle's crazy, ain't he? Yeah, but he loves you, girl, and you better know it\\nWe're all we got in this world when it spins, when it swirls\\nWhen it whirls, when it twirls, two little beautiful girls\\nLookin' puzzled, in a daze, I know it's confusin' you\\nDaddy's always on the move, Mama's always on the news\\nI try to keep you sheltered from it, but somehow it seems\\nThe harder that I try to do that, the more it backfires on me\\nAll the things growin' up as Daddy that he had to see\\nDaddy don't want you to see, but you see just as much as he did\\nWe did not plan it to be this way, your mother and me\\nBut things have got so bad between us, I don't see us ever bein'\\nTogether ever again, like we used to be when we was teenagers\\nBut then, of course, everything always happens for a reason\\nI guess it was never meant to be\\nBut it's just somethin' we have no control over, and that's what destiny is\\nBut no more worries, rest your head and go to sleep\\nMaybe one day we'll wake up and this'll all just be a dream\\n\\n[Chorus]\\nNow hush, little baby, don't you cry\\nEverything's gonna be alright\\nStiffen that upper lip up, little lady, I told ya\\nDaddy's here to hold ya through the night\\nI know Mommy's not here right now and we don't know why\\nWe feel how we feel inside\\nIt may seem a little crazy, pretty baby\\nBut I promise Mama's gon' be alright\\n\\n[Verse 2]\\nHeh, it's funny\\nI remember back one year when Daddy had no money\\nMommy wrapped the Christmas presents up and stuck 'em under the tree\\nAnd said some of 'em were from me 'cause Daddy couldn't buy 'em\\nI'll never forget that Christmas, I sat up the whole night crying\\n'Cause Daddy felt like a bum—see, Daddy had a job\\nBut his job was to keep the food on the table for you and Mom\\nAnd at the time, every house that we lived in\\nEither kept gettin' broken into and robbed or shot up on the block\\nAnd your Mom was savin' money for you in a jar\\nTryin' to start a piggy bank for you so you could go to college\\nAlmost had a thousand dollars 'til someone broke in and stole it\\nAnd I know it hurt so bad it broke your Mama's heart\\nAnd it seemed like everything was just startin' to fall apart\\nMom and Dad was arguin' a lot\\nSo Mama moved back on to Chalmers in the flat, one-bedroom apartment\\nAnd Dad moved back to the other side of 8 Mile on Novara\\nAnd that's when Daddy went to California with his CD\\nAnd met Dr. Dre, and flew you and Mama out to see me\\nBut Daddy had to work, you and Mama had to leave me\\nThen you started seein' Daddy on the TV\\nAnd Mama didn't like it\\nAnd you and Lainie were too young to understand it\\nPapa was a rolling stone, Mama developed a habit\\nAnd it all happened too fast for either one of us to grab it\\nI'm just sorry you were there and had to witness it firsthand\\n'Cause all I ever wanted to do was just make you proud\\nNow I'm sittin' in this empty house just reminiscin'\\nLookin' at your baby pictures, it just trips me out\\nTo see how much you both have grown, it's almost like you're sisters now\\nWow, guess you pretty much are, and Daddy's still here\\nLainie, I'm talkin' to you too, Daddy's still here\\nI like the sound of that, yeah, it's got a ring to it, don't it?\\nShh! Mama's only gone for the moment\\n\\n[Chorus]\\nNow hush, little baby, don't you cry\\nEverything's gonna be alright\\nStiffen that upper lip up, little lady, I told ya\\nDaddy's here to hold ya through the night\\nI know Mommy's not here right now and we don't know why\\nWe feel how we feel inside\\nIt may seem a little crazy, pretty baby\\nBut I promise Mama's gon' be alright\\n\\n[Outro]\\nAnd if you ask me to, Daddy's gonna buy you a mockingbird\\nI'ma give you the world\\nI'ma buy a diamond ring for you, I'ma sing for you\\nI'll do anything for you to see you smile\\nAnd if that mockingbird don't sing and that ring don't shine\\nI'ma break that birdie's neck\\nI'll go back to the jeweler who sold it to ya\\nAnd make him eat every karat, don't fuck with Dad! (Haha)\\n\\n\\n\", \"RAYE and 070 Shake - Escapism.\\nSleazin' and teasin', I'm sittin' on him\\nAll of my diamonds are drippin' on him\\nI met him at the bar, it was twelve or somethin'\\nI ordered two more wines, 'cause tonight I want him\\n\\nA little context if you care to listen\\nI find myself in a shit position\\nThe man that I love sat me down last night\\nAnd he told me that it's over, dumb decision\\nAnd I don't wanna feel how my heart is rippin'\\nFact, I don't wanna feel, so I stick to sippin'\\nAnd I'm out on the town with a simple mission\\nIn my little black dress and that shit is sittin'\\n\\nJust a heart broke bitch\\nHigh heels six inch\\nIn the back of the nightclub, sippin' champagne\\nI don't trust any of these bitches I'm with\\nIn the back of the taxi sniffin' cocaine\\nDrunk calls, drunk texts, drunk tears, drunk sex\\nI was lookin' for a man who was on the same page\\nNow it's back to the intro, back to the bar\\nTo the Bentley, to the hotel, to my old ways\\n\\n'Cause I don't wanna feel how I did last night\\nI don't wanna feel how I did last night\\nDoctor, doctor, anything, please\\nDoctor, doctor, have mercy on me\\nTake this pain away\\nYou're askin' me my symptoms, doctor\\nI don't wanna feel\\n\\nToke this joint how I'm blowin' this steam\\nBack to my ways like 2019\\nNot 24 hours since my ex did dead it\\nI got a new man on me, it's about to get sweaty\\nLast night really was the cherry on the cake\\nBeen some dark days lately and I'm findin' it cripplin'\\nExcuse my state\\nI'm as high as your hopes that you'll make it to my bed\\nGet me hot and sizzlin'\\nIf I take a step back to see the glass half full\\nAt least it's the Prada two-piece that I'm trippin' in\\nAnd I'm already actin' like a dick\\nKnow what I mean?\\nSo you might as well stick it in\\n\\nJust a heart broke bitch\\nHigh heels six inch\\nIn the back of the nightclub, sippin' champagne\\nI don't trust any of these bitches I'm with\\nIn the back of the taxi sniffin' cocaine\\nDrunk calls, drunk texts, drunk tears, drunk sex\\nI was lookin' for a man who was on the same page\\nNow it's back to the intro, back to the bar\\nTo the Bentley, to the hotel, to my old ways\\n\\n'Cause I don't wanna feel how I did last night\\nI don't wanna feel how I did last night\\nDoctor, doctor, anythin', please\\nDoctor, doctor, have mercy on me\\nTake this pain away\\nYou're askin' me my symptoms, doctor\\nI don't wanna feel (what?)\\n\\n'Cause I don't wanna feel like I felt last night\\nI don't wanna feel like I felt last night\\nBe at peace with the things you can't change\\nI'll be naked when I leave and I was naked when I came, yeah\\nOut of reach, out of touch, too numb, I don't feel no way\\nToast up, so what, street small but it go both ways\\nSo, you'll run, bitch, you'll never escape\\nSunset in the maze\\n(You're askin' me my symptoms, doctor, I don't wanna feel)\\n\\nI don't wanna feel how I did last night\\nI don't wanna feel how I did last night, oh\\nDoctor, doctor, anything, please\\nDoctor, doctor, have mercy on me\\nYou're askin' me my symptoms, doctor\\nI don't wanna feel\\n\\nI don't wanna feel how I did last night\\nI don't wanna feel how I did last night\\nHidin', hidin', how I feel last night\\n\\n(Go)\\n\\nLipstick smudged like modern art\\nI don't know where the fuck I am\\nOr who's drivin' the fuckin' car\\nSpeedin' down the highway sippin'\\nMixin' pills with the liquor\\n'Cause fuck these feelings\\nI left everyone I love on read (uh-huh)\\nSpillin' secrets to the stranger in my bed (uh-huh)\\nI remember nothin' so there's nothin' to regret (uh-huh)\\nOther than this 4/4 kick drum poundin' in my head (hmm)\\n\\n\", \"Hate to give the satisfaction asking how you're doing now\\nHow's the castle built off people you pretend to care about?\\nJust what you wanted\\nLook at you, cool guy, you got it\\nI see the parties and the diamonds sometimes when I close my eyes\\nSix months of torture you sold as some forbidden paradise\\nI loved you truly\\nYou gotta laugh at the stupidity\\n\\n'Cause I've made some real big mistakes\\nBut you make the worst one look fine\\nI should've known it was strange\\nYou only come out at night\\nI used to think I was smart\\nBut you made me look so naïve\\nThe way you sold me for parts\\nAs you sunk your teeth into me, oh\\nBloodsucker, famefucker\\nBleeding me dry like a goddamn vampire\\n\\nAnd every girl I ever talked to told me you were bad, bad news\\nYou called them crazy, God, I hate the way I called them crazy too\\nYou're so convincing\\nHow do you lie without flinching? \\n(How do you lie? How do you lie? How do you lie?)\\nOh, what a mesmerizing, paralyzing, fucked up little thrill\\nCan't figure out just how you do it and God knows I never will\\nWent for me and not her\\n'Cause girls your age know better\\n\\nI've made some real big mistakes\\nBut you make the worst one look fine\\nI should've known it was strange\\nYou only come out at night\\nI used to think I was smart\\nBut you made me look so naïve\\nThe way you sold me for parts\\nAs you sunk your teeth into me, oh\\nBloodsucker, famefucker\\nBleeding me dry like a goddamn vampire\\n\\nYou said it was true love, but wouldn't that be hard?\\nYou can't love anyone, 'cause that would mean you had a heart\\nI tried to help you out, now I know that I can't\\n'Cause how you think's the kind of thing I'll never understand\\n\\nI've made some real big mistakes\\nBut you make the worst one look fine\\nI should've known it was strange\\nYou only come out at night\\nI used to think I was smart\\nBut you made me look so naïve\\nThe way you sold me for parts\\nAs you sunk your teeth into me, oh\\nBloodsucker, famefucker\\nBleeding me dry like a goddamn vampire\\n        \\n\\n\", \"Me levanto, un baño y luego me pongo a forjar\\nEs veneno, da pa' arriba, de muy buena calidad\\nLos teléfonos no paran nunca de sonar\\nSi no es alguna plebita\\nEs porque un cliente quiere más\\n\\nY bien forrados los paquetes van\\nNo hay pendiente, no puedo fallar\\nSiempre estoy listo para cruzar\\nPolvo, ruedas y también cristal\\nAquí el papelito viene y va\\nLas morritas bien locas se van\\nDisfrutamos esté bien o mal\\nDe esta vida no me vo'a quejar\\n\\nEah\\nY bien jalados con la doble P\\nLos corridos tumbados\\nAsí nomas viejo\\n\\nFino con las Balenciaga\\nCorridos bien vergas sonaba\\nLas morritas muy bien bailaban \\nY yo ando Silver LV\\nSiento que ando volando ya carnal\\nY aquí nunca nos vamos a quejar\\n¿Para qué vamos a voltear pa'tras?\\nPedo yo le voy a atorar\\n\\nBien forrados los paquetes van\\nNo hay pendiente, no puedo fallar\\nSiempre estoy listo para cruzar\\nPolvo, ruedas y también cristal\\nY bien forrados los paquetes van\\nNo hay pendiente, no puedo fallar\\nSiempre estoy listo para cruzar\\nPolvo, ruedas y también cristal\\n        \\nWritten by: Hassan Emilio Kabande Laija, Jesus Roberto Garcia Laijia, Nathanahel Ruben Cano Monge\\nPublisher: Lyrics © Downtown Music Publishing, Warner Chappell Music, Inc.\\n\\n\\n\", \"Tyler, The Creator and Kali Uchis - See You Again\\n Okay, okay, okay, okay\\nOkay, okay, oh\\n\\nYou live in my dream state\\nRelocate my fantasy\\nI stay in reality\\nYou live in my dream state\\nAny time I count sheep\\nThat's the only time we make up, make up\\nYou exist behind my eyelids, my eyelids\\nNow I don't wanna wake up\\n\\n20/20, 20/20 vision\\nCupid hit me, Cupid hit me with precision\\nI wonder if you look both ways\\nWhen you cross my mind\\nI said, I said\\nI'm sick of, sick of, sick of, sick of chasing\\nYou're the one that's always running through my daydream, I\\nI can only see your face when I close my eyes\\n\\nCan I get a kiss?\\nAnd can you make it last forever?\\nI said, I'm 'bout to go to war\\nI don't know if I'ma see you again\\nCan I get a kiss? (Can I?)\\nAnd can you make it last forever? (Can you)\\nI said I'm 'bout to go to war ('bout to)\\nI don't know if I'ma see you again\\n(Ayy, switch it up)\\n\\nI said, okay, okay, okay, okie-dokie, my infatuation\\nIs translatin' to another form of what you call it? (Love)\\nOh yeah, oh yeah, oh yeah, I ain't met you, I've been lookin'\\nStop the waitin' 'fore I stop the chasin' like a alcoholic\\nYou don't understand me, what the fuck do you mean?\\nIt's them rose-tinted cheeks, yeah, it's them dirt-colored eyes\\nSugar-honey iced tea, bumblebee on the scene\\nYeah, I'd give up my bakery to have a piece of your pie\\nUgh\\n\\n20/20, 20/20 vision\\nCupid hit me, Cupid hit me with precision\\nI wonder if you look both ways\\nWhen you cross my mind\\nI said, I said\\nI'm sick of, sick of, sick of, sick of chasing\\nYou're the one that's always running through my daydream, I\\nI can only see your face when I close my eyes (so)\\n\\nCan I get a kiss? (Can I get a kiss?)\\nAnd can you make it last forever? (Make it last forever)\\nI said I'm 'bout to go to war\\nI don't know if I'ma see you again (see you again)\\nCan I get a kiss? (Can I?)\\nAnd can you make it last forever? (Can you?)\\nI said I'm 'bout to go to war ('bout to)\\nI don't know if I'ma see you again\\n\\nOkay, okay, okay, okay\\nOkay, okay, okay, oh\\nOkay, okay, okay, okay\\nOkay, okay, okay, oh\\nOkay, okay, okay, okay\\nOkay, okay, okay, oh\\nOkay, okay, okay, okay\\nOne more time?\\n        \\n\\n\", \"\\nBad Bunny and Chencho Corleone - Me Porto Bonito\\n Yeah-yeah-yeah-yeah-yeah-yeah, ey\\n\\nEn la guagua se quedó el olor \\nDe tu perfume\\nTú ere' una bellaca, yo soy un bellaco\\nEso e' lo que no' une\\nElla sabe que está buenota \\nY no la presumen\\nSi yo fuera tu gato\\nSubiera una foto los vierne' y los lune' (so)\\n\\nPa' que to' el mundo vea \\nLo rica que tú está', que tú está'\\nContigo tengo que apretar\\nY en la calle ando suelto\\nPero por ti me quito\\nSi tú me lo pides\\nYo me porto bonito\\nY subo un selfie pa' que vean \\nLo rica que tú está', que tú está'\\nLas otras tienen que apretar\\nEn la calle ando suelto\\nPero por ti me quito\\nSi tú me lo pide'\\nYo me porto bonito\\n\\nEy, ey\\nTú no ere' bebecita\\nTú ere' bebesota\\nFrikitona, ma', se te nota\\nLe gustan los trío' \\nCuando está en la nota\\nSi el novio no sirve\\nDe una lo bota\\nY waoh, mami\\nDime dónde dejo el resume\\nSé que te dejaste hace un me'\\nY de una de pecho me zumbé\\nSi quiere' te hago un bebé \\nO te traigo la' Plan B\\nUff, mami, qué rica tú te ve'\\nPa' los 2000 escuchaba RBD\\nY ahora quiere perreo\\nToa' la noche en la pared\\nTHC, no CBD\\n\\nMami, tú ere' élite\\nNo te me limite'\\nDéjame hacerte \\nLo que amerite y te levite\\nDale pa'l escondite\\nNo te me arisque'\\nQue aquí no van a poder llegar lo' satélite'\\n\\nMami, sube algo\\nDame contenido\\nEse culo súbelo má' seguido\\nMe paso jangueando \\nA ver si coincido, ey\\nY por fin doy contigo\\nMai, nuestra' bellaquera' \\nNunca la' olvido\\nNinguna como tú \\nA mí me ha complacido\\nTú cree' que a toda' \\nSiempre les digo lo mismo\\nQuiere chingar\\nPero no quiere na' fijo, ey\\n\\nPero en confianza me confiesa\\nDice que nadie le interesa\\nPero cuando sale, se pone traviesa (ey)\\n\\nPa' que to' el mundo vea \\nLo rica que tú está', que tú está', ey\\nContigo tengo que apretar\\nY en la calle ando suelto\\nPero por ti me quito\\nSi tú me lo pide'\\nYo me porto bonito\\n\\n\\n\", 'NewJeans - OMG\\n        이 노래는 it\\\\\\'s about you, baby\\nOnly you\\nYou, you, you\\nYou, you, you, you\\n\\n내가 힘들 때, 울 것 같을 때\\n기운도 이젠 나지 않을 때\\nIt\\\\\\'s you 날 걱정하네\\nIt\\\\\\'s you 날 웃게하네\\n말 안 해도 돼\\nBoy, what do you say?\\n\\n(They keep on asking me, \"Who is he?\")\\n멀리든 언제든지 달려와\\n(They keep on asking me, \"Who is he?\")\\n바쁜 척도 없이 넌 나타나\\n(They keep on asking me, \"Who is he?\")\\n이게 말이 되니? 난 물어봐\\n(They keep on asking me, \"Who is he?\")\\n너는 말야\\nHe\\\\\\'s the one that\\\\\\'s living in my system, baby\\n\\nOh my, oh my God 예상했어 나\\nI was really hoping that he will come through\\nOh my, oh my God 단 너뿐이야\\nAsking all the time about what I should do\\n\\nNo, I can never let him go\\n너만 생각나 twenty-four\\n난 행운아야 정말로 I know, I know\\n널 알기 전까지는 나 의미 없었어 전부 다\\n내 맘이 끝이 없는 걸 I know, I know\\nI\\\\\\'m going crazy, right?\\n\\n어디서든, 몇 번이든\\nThere ain\\\\\\'t nothing else that I would hold on to\\nI hear his voice through all the noise\\n잠시라도 내 손 놓지 마 no, no\\n걱정 없잖아 \\\\\\'cause I got someone\\n혼자라도 괜찮아 \\\\\\'cause I love someone\\n\\n(They keep on asking me, \"Who is he?\")\\n멀리든 언제든지 달려와\\n(They keep on asking me, \"Who is he?\")\\n바쁜 척도 없이 넌 나타나\\n(They keep on asking me, \"Who is he?\")\\n이게 말이 되니? 난 물어봐\\n(They keep on asking me, \"Who is he?\")\\n너는 말야\\nHe\\\\\\'s the one that\\\\\\'s living in my system, baby\\n\\nOh my, oh my God 예상했어 나\\nI was really hoping that he will come through\\nOh my, oh my God 단 너뿐이야\\nAsking all the time about what I should do\\n\\nNo, I can never let him go\\n너만 생각나 twenty-four\\n난 행운아야 정말로 I know, I know\\n널 알기 전까지는 나 의미 없었어 전부 다\\n내 맘이 끝이 없는 걸 I know, I know\\nHe\\\\\\'s the one that\\\\\\'s living in my system, baby\\n\\nBaby\\nBaby\\nBabe, baby\\nI\\\\\\'m going crazy, right?\\n\\nBaby\\nBaby, I\\\\\\'m going crazy, right?\\nBabe, baby\\n\\n너와 나\\nMy heart is glowing, it\\\\\\'s glowing up (glow, glow)\\n너랑만 있으면 무서울 게 없어 (no, no)\\n가득 메워진, 다 메워진 (붉어진)\\nMy heart is glowing, it\\\\\\'d be glowing\\n\\\\\\'Cause he\\n\\nOh my, oh my God 예상했어 나\\nI was really hoping that he will come through\\nOh my, oh my God 단 너뿐이야\\nAsking all the time about what I should do (너와 나)\\n\\nNo, I can never let him go\\nHe\\\\\\'s right there for me twenty-four\\n난 행운아야 정말로 I know, I know (너와 나)\\n널 알기 전까지는 나 의미 없었어 전부 다\\n어떡해?\\n\\nMy heart is glowing, it\\\\\\'s glowing\\nMy heart is glowing up\\nSo I can\\\\\\'t sleep at night\\n        \\n\\n', \"De todo ya pasé, claro que le batallé\\nLo saben dos o tres, no soy el mismo que era ayer\\nMercedes AMG, Clase G-63\\nLo que un día soñé, todo ya me lo compré\\n\\nMuy bueno para las cuentas, todo apunto en la libreta\\nAhí traigo la lista negra pa'l que se pase de verga\\nPura morrita bien buena, montada en mi camioneta\\nLos radios suenan y suenan, pero yo siempre ando alerta, eah\\n\\n¡Ea!\\nY bien jalados, compa Gabito\\nY arriba la bandera, viejo\\nPura doble P\\n¡Yayay!\\nAsí nomás, compa Nata\\nAsí nomás\\nCompa Gabito, ¡chau!\\nPura doble P, viejo\\nAyay\\n\\nUn GT-R pa' rolar\\nLos baby a mí me gustan más\\nPuerto de Mazatlán, divisando la ciudad\\nEn jet particular, me pongo en cualquier lugar\\nDestapando las champagne, hay billetes pa' gastar\\nMoviendo bien el ice, everywhere me han de mirar\\nCon unos tenis Nike, soy maleante y es lo que hay\\n\\nMuy bueno para las cuentas, todo apunto en mi libreta\\nAhí traigo la lista negra, pa'l que se pase de verga\\nPura morrita bien buena, montada en mi camioneta\\nLos radios suenan y suenan, pero yo siempre ando alerta\\n\\n\\n\", \"I'm scared, it feels like you don't care\\nEnlighten me, my dear\\nWhy am I still here? Oh\\nI don't mean to be complacent with the decisions you made\\nBut why? Oh\\n\\nIn the back of my mind you died\\nAnd I didn't even cry\\nNo, not a single tear\\n\\nAnd I'm sick of waiting patiently\\nFor someone that won't even arrive\\nWhoa\\n\\nIn the back of my mind I killed you\\nAnd I did not even regret it\\nI can't believe I said it\\nBut it's true, I hate you\\n        \\n\\n\\n\"]\n"
     ]
    }
   ]
  },
  {
   "cell_type": "markdown",
   "source": [
    "#Translate songs"
   ],
   "metadata": {
    "id": "BQEH5awuDPNq"
   }
  },
  {
   "cell_type": "code",
   "source": [
    "from googletrans import Translator, LANGUAGES\n",
    "\n",
    "translator = Translator()\n",
    "\n",
    "\n",
    "def translate_to_english(text):\n",
    "    # Detect the language of the text\n",
    "    detected_language = translator.detect(text).lang\n",
    "\n",
    "    # If the text is already in English, return as is\n",
    "    if detected_language == 'en':\n",
    "        return text\n",
    "\n",
    "    # Translate the text to English\n",
    "    translated_text = translator.translate(text, dest='en').text\n",
    "    return translated_text\n",
    "\n",
    "\n",
    "# Translate non-English lyrics to English\n",
    "translated_lyrics = [translate_to_english(lyric) for lyric in lyrics_list]\n",
    "\n",
    "# Result\n",
    "print(translated_lyrics[4])\n"
   ],
   "metadata": {
    "id": "s2rZ71dGqeRW",
    "colab": {
     "base_uri": "https://localhost:8080/"
    },
    "executionInfo": {
     "status": "ok",
     "timestamp": 1705937647608,
     "user_tz": -60,
     "elapsed": 25239,
     "user": {
      "displayName": "Kamila Fido",
      "userId": "11048561443493888987"
     }
    },
    "outputId": "5f6ce16e-d655-4b4b-82cb-b9af04d5d733",
    "ExecuteTime": {
     "end_time": "2024-01-26T13:17:43.468894600Z",
     "start_time": "2024-01-26T13:17:30.165508600Z"
    }
   },
   "execution_count": 3,
   "outputs": [
    {
     "name": "stdout",
     "output_type": "stream",
     "text": [
      "Armed link and pen weight - she dances alone\n",
      "Compa, what do you think that morra?\n",
      "The one who is dancing alone I like pa \\ 'me\n",
      "Bella, she knows that she is good\n",
      "That everyone is looking at her\n",
      "I approach and throw a whole verb\n",
      "We take drinks without peros, only temptation\n",
      "\n",
      "I told\n",
      "\"I'm going to conquer your family, which in a few days you will be mine\"\n",
      "Told me\n",
      "I'm very crazy but he likes it\n",
      "That no vato like me acts\n",
      "\n",
      "And there you go, mikha\n",
      "And pure double P, old\n",
      "Thus Nomas, Compa Pedro\n",
      "Pure armed link\n",
      "Pa \\ 'the plebit\n",
      "Cha-Chau!\n",
      "\n",
      "I am not a vato that has Varo\n",
      "But speaking of the heart, I fulfill everything\n",
      "He grabbed me catchy from his hand\n",
      "My company did not even believe it, that when I passed it was me\n",
      "\n",
      "Her body\n",
      "I swear for God who was so perfect\n",
      "Your belt as a model\n",
      "His eyes\n",
      "From the beginning they fell in love\n",
      "She liked her and I like it\n"
     ]
    }
   ]
  },
  {
   "cell_type": "code",
   "source": [
    "import nltk\n",
    "from nltk.corpus import stopwords\n",
    "\n",
    "# Download stopwords\n",
    "nltk.download('punkt')\n",
    "nltk.download('stopwords')\n",
    "nltk.download('wordnet')\n",
    "nltk.download('omw-1.4')\n",
    "\n",
    "# Set of English stopwords\n",
    "stop_words = set(stopwords.words('english'))\n"
   ],
   "metadata": {
    "colab": {
     "base_uri": "https://localhost:8080/"
    },
    "id": "OXU4q5LJnXhb",
    "executionInfo": {
     "status": "ok",
     "timestamp": 1705937676869,
     "user_tz": -60,
     "elapsed": 3287,
     "user": {
      "displayName": "Kamila Fido",
      "userId": "11048561443493888987"
     }
    },
    "outputId": "72ad8e26-b721-4653-bec1-9f108a9a8180",
    "ExecuteTime": {
     "end_time": "2024-01-26T13:17:44.433995400Z",
     "start_time": "2024-01-26T13:17:43.472485400Z"
    }
   },
   "execution_count": 4,
   "outputs": [
    {
     "name": "stderr",
     "output_type": "stream",
     "text": [
      "[nltk_data] Downloading package punkt to\n",
      "[nltk_data]     C:\\Users\\eljas\\AppData\\Roaming\\nltk_data...\n",
      "[nltk_data]   Package punkt is already up-to-date!\n",
      "[nltk_data] Downloading package stopwords to\n",
      "[nltk_data]     C:\\Users\\eljas\\AppData\\Roaming\\nltk_data...\n",
      "[nltk_data]   Package stopwords is already up-to-date!\n",
      "[nltk_data] Downloading package wordnet to\n",
      "[nltk_data]     C:\\Users\\eljas\\AppData\\Roaming\\nltk_data...\n",
      "[nltk_data]   Package wordnet is already up-to-date!\n",
      "[nltk_data] Downloading package omw-1.4 to\n",
      "[nltk_data]     C:\\Users\\eljas\\AppData\\Roaming\\nltk_data...\n",
      "[nltk_data]   Package omw-1.4 is already up-to-date!\n"
     ]
    }
   ]
  },
  {
   "cell_type": "code",
   "source": [
    "from nltk.stem import WordNetLemmatizer\n",
    "from nltk.tokenize import word_tokenize\n",
    "\n",
    "\n",
    "def preprocess_and_remove_stopwords(text):\n",
    "    # Initialize the lemmatizer\n",
    "    lemmatizer = WordNetLemmatizer()\n",
    "\n",
    "    # Convert to lowercase\n",
    "    text = text.lower()\n",
    "\n",
    "    # Tokenize the text\n",
    "    words = word_tokenize(text)\n",
    "\n",
    "    # Remove punctuation, stopwords and apply lemmatization\n",
    "    filtered_words = [\n",
    "        lemmatizer.lemmatize(word) for word in words\n",
    "        if word not in stop_words and word.isalpha()\n",
    "    ]\n",
    "\n",
    "    return filtered_words\n"
   ],
   "metadata": {
    "id": "ARGxK58MndLd",
    "executionInfo": {
     "status": "ok",
     "timestamp": 1705937686826,
     "user_tz": -60,
     "elapsed": 307,
     "user": {
      "displayName": "Kamila Fido",
      "userId": "11048561443493888987"
     }
    },
    "ExecuteTime": {
     "end_time": "2024-01-26T13:17:44.485001Z",
     "start_time": "2024-01-26T13:17:44.437393500Z"
    }
   },
   "execution_count": 5,
   "outputs": []
  },
  {
   "cell_type": "code",
   "source": [
    "from collections import Counter\n",
    "\n",
    "# Flatten the list of lists and preprocess each lyric\n",
    "all_words = []\n",
    "for lyric in translated_lyrics:\n",
    "    all_words.extend(preprocess_and_remove_stopwords(lyric))\n",
    "\n",
    "# Count the frequency of each word\n",
    "word_freq = Counter(all_words)\n",
    "\n",
    "# Get the most common words\n",
    "most_common_words = word_freq.most_common()\n",
    "\n",
    "# Display the most common words\n",
    "print(most_common_words)\n"
   ],
   "metadata": {
    "colab": {
     "base_uri": "https://localhost:8080/"
    },
    "id": "jO3XYU6AoDrH",
    "executionInfo": {
     "status": "ok",
     "timestamp": 1705937694673,
     "user_tz": -60,
     "elapsed": 4649,
     "user": {
      "displayName": "Kamila Fido",
      "userId": "11048561443493888987"
     }
    },
    "outputId": "61708416-7899-4f8a-a245-1bced941ffbc",
    "ExecuteTime": {
     "end_time": "2024-01-26T13:17:45.614440200Z",
     "start_time": "2024-01-26T13:17:44.461814500Z"
    }
   },
   "execution_count": 6,
   "outputs": [
    {
     "name": "stdout",
     "output_type": "stream",
     "text": [
      "[('oh', 163), ('know', 150), ('baby', 143), ('love', 134), ('na', 132), ('like', 115), ('yeah', 106), ('night', 102), ('good', 92), ('wan', 89), ('see', 83), ('want', 77), ('one', 74), ('time', 67), ('take', 60), ('got', 60), ('get', 60), ('tell', 58), ('let', 57), ('said', 56), ('go', 53), ('feel', 53), ('never', 52), ('ai', 49), ('ca', 48), ('gon', 47), ('make', 47), ('last', 45), ('way', 44), ('back', 43), ('look', 42), ('say', 41), ('come', 41), ('another', 40), ('better', 39), ('would', 37), ('okay', 37), ('pa', 36), ('whoa', 35), ('tonight', 34), ('right', 32), ('hey', 31), ('feeling', 31), ('heart', 30), ('worried', 30), ('think', 29), ('give', 29), ('daddy', 28), ('god', 28), ('hold', 27), ('going', 27), ('need', 27), ('u', 26), ('keep', 26), ('bitch', 26), ('everything', 25), ('day', 25), ('always', 25), ('put', 25), ('left', 24), ('cry', 22), ('body', 22), ('face', 22), ('light', 22), ('thing', 21), ('life', 21), ('bad', 21), ('used', 21), ('girl', 21), ('ah', 21), ('lie', 20), ('hate', 20), ('care', 20), ('leave', 19), ('hand', 19), ('even', 19), ('alone', 19), ('mind', 19), ('ooh', 18), ('new', 18), ('lost', 18), ('fall', 18), ('die', 18), ('tear', 18), ('dream', 17), ('looking', 17), ('without', 17), ('crazy', 17), ('find', 17), ('little', 17), ('every', 16), ('two', 16), ('told', 16), ('eye', 16), ('away', 16), ('fallin', 16), ('doctor', 16), ('hour', 15), ('still', 15), ('well', 15), ('feelin', 15), ('alright', 15), ('forever', 15), ('daylight', 15), ('loose', 15), ('mommy', 15), ('long', 15), ('mm', 14), ('kill', 14), ('show', 14), ('call', 14), ('much', 14), ('walk', 14), ('talk', 13), ('ex', 13), ('rather', 13), ('high', 13), ('drunk', 13), ('ask', 13), ('music', 13), ('hurt', 13), ('ey', 13), ('mama', 13), ('real', 13), ('ya', 13), ('cupid', 13), ('red', 12), ('boy', 12), ('ever', 12), ('touch', 12), ('party', 12), ('already', 12), ('lose', 12), ('asking', 12), ('home', 11), ('as', 11), ('dance', 11), ('fine', 11), ('lot', 11), ('cold', 11), ('yet', 11), ('try', 11), ('sleep', 11), ('somethin', 11), ('shit', 11), ('main', 11), ('lover', 11), ('could', 11), ('name', 10), ('might', 10), ('stay', 10), ('devil', 10), ('head', 10), ('cut', 10), ('saw', 10), ('please', 10), ('watch', 10), ('ride', 10), ('house', 10), ('dey', 10), ('wake', 10), ('money', 10), ('remember', 10), ('kiss', 10), ('miss', 10), ('fuck', 10), ('world', 9), ('whole', 9), ('old', 9), ('slow', 9), ('summer', 9), ('man', 9), ('anymore', 9), ('gave', 9), ('end', 9), ('maybe', 9), ('knew', 9), ('pain', 9), ('uh', 9), ('talkin', 9), ('street', 9), ('song', 9), ('hit', 9), ('moment', 9), ('golden', 9), ('found', 9), ('sick', 9), ('dancing', 8), ('though', 8), ('men', 8), ('really', 8), ('true', 8), ('worth', 8), ('truth', 8), ('e', 8), ('gim', 8), ('start', 8), ('around', 8), ('problem', 8), ('hot', 8), ('stop', 8), ('pretty', 8), ('today', 8), ('couple', 8), ('bottle', 8), ('went', 8), ('album', 8), ('enough', 8), ('nothing', 8), ('foot', 8), ('liar', 8), ('made', 8), ('done', 8), ('motherfuckin', 8), ('starboy', 8), ('el', 8), ('que', 8), ('save', 8), ('break', 8), ('wanted', 8), ('nasty', 8), ('nobody', 8), ('paint', 7), ('best', 7), ('drink', 7), ('low', 7), ('car', 7), ('worst', 7), ('mean', 7), ('goin', 7), ('calm', 7), ('use', 7), ('sound', 7), ('wish', 7), ('photo', 7), ('room', 7), ('hi', 7), ('everybody', 7), ('hide', 7), ('play', 7), ('scared', 7), ('forget', 7), ('pedal', 7), ('getting', 7), ('shop', 7), ('unholy', 7), ('hearing', 7), ('huh', 7), ('inside', 7), ('switch', 7), ('far', 7), ('alive', 7), ('bastard', 7), ('dumb', 7), ('since', 7), ('anything', 7), ('town', 7), ('sweater', 7), ('insane', 7), ('glowing', 7), ('sold', 6), ('buy', 6), ('write', 6), ('understand', 6), ('happy', 6), ('mature', 6), ('mine', 6), ('pure', 6), ('fell', 6), ('waiting', 6), ('cruel', 6), ('glow', 6), ('person', 6), ('lockdown', 6), ('friend', 6), ('taste', 6), ('agrees', 6), ('sun', 6), ('dust', 6), ('babe', 6), ('thought', 6), ('repeat', 6), ('compete', 6), ('laugh', 6), ('drank', 6), ('beautiful', 6), ('mom', 6), ('change', 6), ('turn', 6), ('sin', 6), ('runnin', 6), ('tellin', 6), ('empty', 6), ('vamo', 6), ('rich', 6), ('se', 6), ('live', 6), ('met', 6), ('lip', 6), ('fast', 6), ('glass', 6), ('fantastic', 6), ('famous', 6), ('instead', 6), ('lil', 6), ('rebel', 6), ('settle', 6), ('hole', 6), ('snooze', 6), ('important', 6), ('list', 6), ('fight', 5), ('sense', 5), ('text', 5), ('perfect', 5), ('killed', 5), ('phone', 5), ('kind', 5), ('ta', 5), ('link', 5), ('compa', 5), ('believe', 5), ('coming', 5), ('bar', 5), ('secret', 5), ('somebody', 5), ('playin', 5), ('creepin', 5), ('lookin', 5), ('asleep', 5), ('side', 5), ('bring', 5), ('hmm', 5), ('pas', 5), ('great', 5), ('tea', 5), ('mirror', 5), ('big', 5), ('city', 5), ('someone', 5), ('run', 5), ('deep', 5), ('forgot', 5), ('remembers', 5), ('vo', 5), ('fuckin', 5), ('wherever', 5), ('lonely', 5), ('pull', 5), ('distance', 5), ('wo', 5), ('wasting', 5), ('spend', 5), ('mummy', 5), ('lucky', 5), ('place', 5), ('doin', 5), ('gone', 5), ('point', 5), ('pride', 5), ('darkness', 5), ('hidin', 5), ('sing', 5), ('table', 5), ('skin', 5), ('flow', 5), ('romantic', 5), ('second', 5), ('chance', 5), ('running', 5), ('cloud', 5), ('shine', 5), ('ere', 5), ('four', 5), ('game', 5), ('dad', 5), ('trust', 5), ('ugh', 5), ('spin', 5), ('cross', 5), ('started', 4), ('flower', 4), ('sand', 4), ('none', 4), ('idea', 4), ('next', 4), ('drug', 4), ('girlfriend', 4), ('hell', 4), ('everyone', 4), ('double', 4), ('p', 4), ('thus', 4), ('roll', 4), ('angel', 4), ('blue', 4), ('cool', 4), ('heaven', 4), ('nigga', 4), ('fanta', 4), ('form', 4), ('yanga', 4), ('gum', 4), ('small', 4), ('equal', 4), ('mother', 4), ('clearly', 4), ('slowly', 4), ('work', 4), ('must', 4), ('sometimes', 4), ('hear', 4), ('read', 4), ('filled', 4), ('move', 4), ('send', 4), ('stayed', 4), ('eat', 4), ('flame', 4), ('fire', 4), ('hard', 4), ('scar', 4), ('praying', 4), ('drowning', 4), ('something', 4), ('clean', 4), ('sat', 4), ('driving', 4), ('kissed', 4), ('dedicated', 4), ('requested', 4), ('also', 4), ('grrah', 4), ('yo', 4), ('tryna', 4), ('poison', 4), ('mercy', 4), ('thinking', 4), ('piece', 4), ('cup', 4), ('close', 4), ('shut', 4), ('full', 4), ('guess', 4), ('stupid', 4), ('keeping', 4), ('hero', 4), ('swimmin', 4), ('flood', 4), ('dicen', 4), ('en', 4), ('va', 4), ('perrear', 4), ('smile', 4), ('liquor', 4), ('sky', 4), ('glitter', 4), ('radiant', 4), ('beam', 4), ('upload', 4), ('seen', 4), ('note', 4), ('tre', 4), ('champagne', 4), ('posse', 4), ('may', 4), ('tryin', 4), ('cryin', 4), ('nah', 4), ('mistake', 4), ('young', 4), ('blinded', 4), ('broke', 4), ('askin', 4), ('symptom', 4), ('war', 4), ('remembered', 3), ('cherry', 3), ('regret', 3), ('fan', 3), ('reach', 3), ('answer', 3), ('kid', 3), ('follow', 3), ('throw', 3), ('swear', 3), ('bought', 3), ('shape', 3), ('rule', 3), ('breakable', 3), ('hang', 3), ('garden', 3), ('scream', 3), ('whatever', 3), ('heard', 3), ('nightmare', 3), ('hotel', 3), ('shawty', 3), ('lead', 3), ('rest', 3), ('promise', 3), ('sorry', 3), ('wolf', 3), ('return', 3), ('forgiveness', 3), ('supposed', 3), ('changed', 3), ('screaming', 3), ('stare', 3), ('directly', 3), ('exhausting', 3), ('rooting', 3), ('cleaner', 3), ('shot', 3), ('harder', 3), ('hair', 3), ('least', 3), ('saying', 3), ('toa', 3), ('swallowed', 3), ('error', 3), ('eh', 3), ('welcome', 3), ('account', 3), ('food', 3), ('perreo', 3), ('danced', 3), ('smoke', 3), ('pink', 3), ('broken', 3), ('mouth', 3), ('together', 3), ('moved', 3), ('trip', 3), ('bed', 3), ('findin', 3), ('blame', 3), ('bunny', 3), ('wow', 3), ('living', 3), ('morritas', 3), ('story', 3), ('three', 3), ('share', 3), ('vine', 3), ('year', 3), ('centerpiece', 3), ('twenty', 3), ('rack', 3), ('ebony', 3), ('ivory', 3), ('skinny', 3), ('aid', 3), ('shade', 3), ('style', 3), ('lane', 3), ('listen', 3), ('came', 3), ('responds', 3), ('ferxxo', 3), ('ha', 3), ('fool', 3), ('becky', 3), ('la', 3), ('describe', 3), ('spent', 3), ('nothin', 3), ('radio', 3), ('minute', 3), ('written', 3), ('publisher', 3), ('lyric', 3), ('publishing', 3), ('moon', 3), ('unless', 3), ('within', 3), ('pulled', 3), ('asked', 3), ('waist', 3), ('wine', 3), ('perire', 3), ('warn', 3), ('l', 3), ('beach', 3), ('normal', 3), ('freaky', 3), ('bitchy', 3), ('classy', 3), ('touching', 3), ('entering', 3), ('cucano', 3), ('charge', 3), ('dick', 3), ('called', 3), ('sex', 3), ('grab', 3), ('player', 3), ('reckless', 3), ('breathless', 3), ('blank', 3), ('space', 3), ('daydream', 3), ('torture', 3), ('repeated', 3), ('stiffen', 3), ('upper', 3), ('lainie', 3), ('felt', 3), ('ring', 3), ('diamond', 3), ('six', 3), ('state', 3), ('known', 3), ('strange', 3), ('smart', 3), ('naïve', 3), ('part', 3), ('sunk', 3), ('teeth', 3), ('bloodsucker', 3), ('famefucker', 3), ('bleeding', 3), ('dry', 3), ('goddamn', 3), ('vampire', 3), ('lined', 3), ('package', 3), ('van', 3), ('slope', 3), ('fail', 3), ('ready', 3), ('wheel', 3), ('ported', 3), ('system', 3), ('expected', 3), ('hoping', 3), ('meaningful', 3), ('built', 2), ('rose', 2), ('forgive', 2), ('word', 2), ('therapist', 2), ('jail', 2), ('cause', 2), ('evidence', 2), ('tried', 2), ('damn', 2), ('sober', 2), ('seems', 2), ('floor', 2), ('pill', 2), ('help', 2), ('first', 2), ('david', 2), ('guetta', 2), ('remix', 2), ('armed', 2), ('family', 2), ('vato', 2), ('noma', 2), ('plebit', 2), ('company', 2), ('passed', 2), ('model', 2), ('caught', 2), ('toy', 2), ('price', 2), ('dice', 2), ('trying', 2), ('cried', 2), ('snuck', 2), ('gate', 2), ('seal', 2), ('fate', 2), ('metro', 2), ('boomin', 2), ('kept', 2), ('sneaky', 2), ('bag', 2), ('record', 2), ('sweet', 2), ('wear', 2), ('finally', 2), ('chewing', 2), ('moving', 2), ('twice', 2), ('allowed', 2), ('fit', 2), ('focus', 2), ('took', 2), ('cat', 2), ('swallow', 2), ('neighbor', 2), ('door', 2), ('tougher', 2), ('woman', 2), ('longer', 2), ('step', 2), ('pay', 2), ('attention', 2), ('happened', 2), ('gym', 2), ('tomorrow', 2), ('wrap', 2), ('people', 2), ('stand', 2), ('tale', 2), ('dreaming', 2), ('leaving', 2), ('tired', 2), ('vacuum', 2), ('breathin', 2), ('ford', 2), ('cortina', 2), ('rust', 2), ('coffee', 2), ('held', 2), ('pulling', 2), ('watching', 2), ('lived', 2), ('improved', 2), ('filling', 2), ('passport', 2), ('mmm', 2), ('shakira', 2), ('outside', 2), ('drum', 2), ('single', 2), ('forgotten', 2), ('boyfriend', 2), ('relationship', 2), ('collide', 2), ('yesterday', 2), ('smell', 2), ('thousand', 2), ('roof', 2), ('set', 2), ('middle', 2), ('thinkin', 2), ('happens', 2), ('reason', 2), ('apart', 2), ('workin', 2), ('perfume', 2), ('telling', 2), ('insta', 2), ('tequila', 2), ('kick', 2), ('dirty', 2), ('scene', 2), ('business', 2), ('droppin', 2), ('poppin', 2), ('woo', 2), ('balenciaga', 2), ('prada', 2), ('miu', 2), ('drama', 2), ('hope', 2), ('anyone', 2), ('breath', 2), ('knee', 2), ('picture', 2), ('fun', 2), ('bet', 2), ('speak', 2), ('prayer', 2), ('resist', 2), ('lord', 2), ('many', 2), ('voice', 2), ('win', 2), ('sang', 2), ('league', 2), ('gettin', 2), ('king', 2), ('dash', 2), ('pray', 2), ('case', 2), ('private', 2), ('comb', 2), ('oakley', 2), ('white', 2), ('short', 2), ('hopeless', 2), ('sign', 2), ('skeptical', 2), ('flew', 2), ('waste', 2), ('stepping', 2), ('honey', 2), ('chillin', 2), ('relajao', 2), ('seteamo', 2), ('ambiente', 2), ('escucha', 2), ('lo', 2), ('los', 2), ('demás', 2), ('música', 2), ('alta', 2), ('presente', 2), ('porque', 2), ('sé', 2), ('tiempo', 2), ('regresar', 2), ('hoy', 2), ('conmigo', 2), ('te', 2), ('puedes', 2), ('soltar', 2), ('mundo', 2), ('acabar', 2), ('pues', 2), ('ante', 2), ('acabe', 2), ('vamos', 2), ('chill', 2), ('relajá', 2), ('contigo', 2), ('debajo', 2), ('sol', 2), ('estoy', 2), ('preocupá', 2), ('nubes', 2), ('tú', 2), ('rise', 2), ('fifth', 2), ('sip', 2), ('bluff', 2), ('else', 2), ('listening', 2), ('blonde', 2), ('orange', 2), ('super', 2), ('childish', 2), ('donald', 2), ('glover', 2), ('missed', 2), ('alibi', 2), ('nowhere', 2), ('imagine', 2), ('glorious', 2), ('lawson', 2), ('falling', 2), ('georgia', 2), ('wall', 2), ('relat', 2), ('height', 2), ('pick', 2), ('drive', 2), ('tv', 2), ('bullet', 2), ('carmelo', 2), ('asks', 2), ('touched', 2), ('combo', 2), ('ten', 2), ('others', 2), ('noise', 2), ('beat', 2), ('suit', 2), ('mercede', 2), ('groan', 2), ('byza', 2), ('apartment', 2), ('fifty', 2), ('eight', 2), ('erase', 2), ('chimba', 2), ('decide', 2), ('woh', 2), ('formal', 2), ('wrapped', 2), ('problematic', 2), ('dangerous', 2), ('brake', 2), ('buttock', 2), ('ground', 2), ('arrest', 2), ('stuck', 2), ('caleb', 2), ('jealousy', 2), ('energy', 2), ('waitin', 2), ('california', 2), ('neck', 2), ('shirt', 2), ('blouse', 2), ('meet', 2), ('scarface', 2), ('magic', 2), ('habit', 2), ('frontin', 2), ('lyin', 2), ('threatenin', 2), ('incredible', 2), ('ayy', 2), ('funny', 2), ('guy', 2), ('month', 2), ('judge', 2), ('bellaco', 2), ('glo', 2), ('anhge', 2), ('maeil', 2), ('bam', 2), ('neoleul', 2), ('dal', 2), ('verse', 2), ('news', 2), ('course', 2), ('worry', 2), ('chorus', 2), ('hush', 2), ('lady', 2), ('seem', 2), ('christmas', 2), ('job', 2), ('either', 2), ('almost', 2), ('sittin', 2), ('mockingbird', 2), ('decision', 2), ('stick', 2), ('heel', 2), ('inch', 2), ('nightclub', 2), ('sippin', 2), ('taxi', 2), ('sniffin', 2), ('cocaine', 2), ('page', 2), ('intro', 2), ('bentley', 2), ('naked', 2), ('complain', 2), ('eah', 2), ('eyelid', 2), ('vision', 2), ('precision', 2), ('wonder', 2), ('chasing', 2), ('squeeze', 2), ('appear', 2), ('busy', 2), ('measure', 2), ('endless', 2), ('notebook', 2), ('blacklist', 2), ('pass', 2), ('cock', 2), ('morrita', 2), ('mounted', 2), ('truck', 2), ('alert', 2), ('gabito', 2), ('gold', 1), ('kinda', 1), ('watched', 1), ('burn', 1), ('nail', 1), ('match', 1), ('remorse', 1), ('salty', 1), ('broad', 1), ('ration', 1), ('murder', 1), ('crime', 1), ('passion', 1), ('farmer', 1), ('market', 1), ('peach', 1), ('basement', 1), ('invasion', 1), ('facedown', 1), ('palm', 1), ('replaced', 1), ('harry', 1), ('bell', 1), ('ahead', 1), ('internet', 1), ('america', 1), ('fmif', 1), ('edit', 1), ('pen', 1), ('weight', 1), ('morra', 1), ('bella', 1), ('approach', 1), ('verb', 1), ('peros', 1), ('temptation', 1), ('conquer', 1), ('act', 1), ('mikha', 1), ('pedro', 1), ('varo', 1), ('speaking', 1), ('fulfill', 1), ('grabbed', 1), ('catchy', 1), ('belt', 1), ('beginning', 1), ('liked', 1), ('fever', 1), ('quiet', 1), ('shiny', 1), ('killing', 1), ('window', 1), ('vending', 1), ('machine', 1), ('dying', 1), ('screw', 1), ('headlight', 1), ('knife', 1), ('bone', 1), ('bleed', 1), ('grinning', 1), ('weeknd', 1), ('savage', 1), ('kissin', 1), ('crushin', 1), ('cuffin', 1), ('precinct', 1), ('housewife', 1), ('ridin', 1), ('type', 1), ('benzes', 1), ('rover', 1), ('rinky', 1), ('dink', 1), ('eliantte', 1), ('fashion', 1), ('nova', 1), ('runway', 1), ('rockin', 1), ('coach', 1), ('frisco', 1), ('havin', 1), ('zone', 1), ('yellow', 1), ('mellow', 1), ('naim', 1), ('situation', 1), ('hello', 1), ('conform', 1), ('sabi', 1), ('insecure', 1), ('shy', 1), ('woah', 1), ('hip', 1), ('push', 1), ('tight', 1), ('race', 1), ('risk', 1), ('plane', 1), ('disappointment', 1), ('needed', 1), ('version', 1), ('ago', 1), ('mortify', 1), ('mastique', 1), ('supply', 1), ('understood', 1), ('fault', 1), ('criticize', 1), ('splashed', 1), ('press', 1), ('debt', 1), ('treasury', 1), ('believed', 1), ('became', 1), ('invoice', 1), ('zero', 1), ('grudge', 1), ('replacement', 1), ('weird', 1), ('distinguish', 1), ('ferrari', 1), ('twingo', 1), ('rolex', 1), ('casio', 1), ('accelerated', 1), ('brain', 1), ('hostage', 1), ('vacate', 1), ('chao', 1), ('older', 1), ('wiser', 1), ('midnight', 1), ('become', 1), ('afternoon', 1), ('depression', 1), ('graveyard', 1), ('shift', 1), ('ghosted', 1), ('device', 1), ('vice', 1), ('crisis', 1), ('scheming', 1), ('sexy', 1), ('monster', 1), ('hill', 1), ('lurching', 1), ('toward', 1), ('favorite', 1), ('pierced', 1), ('covert', 1), ('narcissism', 1), ('disguise', 1), ('altruism', 1), ('congressman', 1), ('meaning', 1), ('daughter', 1), ('gather', 1), ('laughing', 1), ('arctic', 1), ('monkey', 1), ('pot', 1), ('meter', 1), ('portable', 1), ('heater', 1), ('setting', 1), ('lotion', 1), ('devotion', 1), ('pacific', 1), ('ocean', 1), ('void', 1), ('covering', 1), ('makeup', 1), ('wound', 1), ('overcame', 1), ('papi', 1), ('offended', 1), ('threw', 1), ('anger', 1), ('contribute', 1), ('north', 1), ('making', 1), ('sport', 1), ('parking', 1), ('toughest', 1), ('yes', 1), ('idiot', 1), ('bichota', 1), ('triple', 1), ('bost', 1), ('louder', 1), ('luck', 1), ('rain', 1), ('monotony', 1), ('walked', 1), ('tqm', 1), ('tqg', 1), ('barranquilla', 1), ('medallo', 1), ('closely', 1), ('bellaquea', 1), ('clip', 1), ('ubi', 1), ('paste', 1), ('dog', 1), ('par', 1), ('fallen', 1), ('picosa', 1), ('pant', 1), ('behave', 1), ('legging', 1), ('chanel', 1), ('impregnated', 1), ('degree', 1), ('fahrenheit', 1), ('solita', 1), ('excites', 1), ('limited', 1), ('pair', 1), ('complete', 1), ('gang', 1), ('fleeting', 1), ('interstellar', 1), ('smoking', 1), ('marijuana', 1), ('heat', 1), ('chinitos', 1), ('ojitos', 1), ('omar', 1), ('finer', 1), ('matter', 1), ('sit', 1), ('vip', 1), ('articulate', 1), ('communicate', 1), ('afford', 1), ('manipulate', 1), ('blamin', 1), ('sayin', 1), ('grupo', 1), ('frontera', 1), ('video', 1), ('wrote', 1), ('sent', 1), ('message', 1), ('costao', 1), ('favor', 1), ('gray', 1), ('playing', 1), ('inviting', 1), ('missing', 1), ('texting', 1), ('border', 1), ('group', 1), ('married', 1), ('whisperin', 1), ('drop', 1), ('addy', 1), ('fendi', 1), ('spendin', 1), ('rodeo', 1), ('rihanna', 1), ('covered', 1), ('jump', 1), ('cover', 1), ('blocked', 1), ('number', 1), ('deleted', 1), ('although', 1), ('complicated', 1), ('taught', 1), ('fear', 1), ('ugly', 1), ('disappear', 1), ('bum', 1), ('cap', 1), ('fat', 1), ('pin', 1), ('respond', 1), ('wash', 1), ('blood', 1), ('spilt', 1), ('lust', 1), ('burden', 1), ('sinner', 1), ('atone', 1), ('lone', 1), ('soul', 1), ('tied', 1), ('intertwined', 1), ('guilt', 1), ('spare', 1), ('beggin', 1), ('somewhere', 1), ('brought', 1), ('daffodil', 1), ('string', 1), ('spring', 1), ('fucking', 1), ('rude', 1), ('learn', 1), ('church', 1), ('shoe', 1), ('milli', 1), ('lamb', 1), ('tease', 1), ('lease', 1), ('week', 1), ('outta', 1), ('test', 1), ('roadster', 1), ('sv', 1), ('pocket', 1), ('overweight', 1), ('hefty', 1), ('competition', 1), ('mulsanne', 1), ('bumping', 1), ('edition', 1), ('brag', 1), ('pitt', 1), ('legend', 1), ('bandit', 1), ('crib', 1), ('brand', 1), ('wagon', 1), ('grocery', 1), ('lavish', 1), ('star', 1), ('trek', 1), ('wraith', 1), ('khan', 1), ('hundred', 1), ('pichear', 1), ('upside', 1), ('seeing', 1), ('relax', 1), ('promised', 1), ('knowing', 1), ('intention', 1), ('perreamo', 1), ('routing', 1), ('hamlet', 1), ('brings', 1), ('mess', 1), ('aware', 1), ('gasoli', 1), ('motorcycle', 1), ('gafitas', 1), ('machea', 1), ('tee', 1), ('jangueo', 1), ('partie', 1), ('track', 1), ('joseando', 1), ('hagamo', 1), ('endurance', 1), ('square', 1), ('houze', 1), ('surrounded', 1), ('arrow', 1), ('counting', 1), ('november', 1), ('loving', 1), ('seeking', 1), ('onerepublic', 1), ('g', 1), ('along', 1), ('coast', 1), ('memory', 1), ('float', 1), ('wind', 1), ('greatest', 1), ('grip', 1), ('sheet', 1), ('fingertip', 1), ('jack', 1), ('split', 1), ('wantin', 1), ('tail', 1), ('trade', 1), ('packed', 1), ('slammed', 1), ('blast', 1), ('solar', 1), ('power', 1), ('baddest', 1), ('jake', 1), ('zac', 1), ('kobalt', 1), ('jvke', 1), ('arm', 1), ('harmony', 1), ('stress', 1), ('crowning', 1), ('minor', 1), ('front', 1), ('má', 1), ('pause', 1), ('turned', 1), ('neighborhood', 1), ('kymco', 1), ('straight', 1), ('hazard', 1), ('calling', 1), ('inevitable', 1), ('desire', 1), ('notable', 1), ('neither', 1), ('cable', 1), ('culprit', 1), ('tasting', 1), ('balcony', 1), ('opened', 1), ('focusing', 1), ('mi', 1), ('bass', 1), ('arrived', 1), ('club', 1), ('painted', 1), ('approached', 1), ('air', 1), ('date', 1), ('provide', 1), ('showcase', 1), ('combine', 1), ('deal', 1), ('guacha', 1), ('vente', 1), ('luggage', 1), ('island', 1), ('saturday', 1), ('teteo', 1), ('sunday', 1), ('mass', 1), ('guarantee', 1), ('clock', 1), ('uber', 1), ('concert', 1), ('bizarrap', 1), ('quevedo', 1), ('lpgc', 1), ('hesitation', 1), ('plastic', 1), ('log', 1), ('kia', 1), ('screwed', 1), ('fought', 1), ('rudeness', 1), ('county', 1), ('sea', 1), ('woke', 1), ('active', 1), ('puppet', 1), ('motor', 1), ('breaking', 1), ('net', 1), ('lu', 1), ('water', 1), ('thirsty', 1), ('invest', 1), ('substance', 1), ('h', 1), ('whore', 1), ('valentino', 1), ('murderous', 1), ('divine', 1), ('scare', 1), ('bandi', 1), ('barbie', 1), ('rumba', 1), ('id', 1), ('faldi', 1), ('corillo', 1), ('expert', 1), ('arrives', 1), ('destroys', 1), ('extreme', 1), ('ok', 1), ('vary', 1), ('dizque', 1), ('probleic', 1), ('collect', 1), ('tax', 1), ('wife', 1), ('lend', 1), ('bother', 1), ('doll', 1), ('cobels', 1), ('compare', 1), ('lower', 1), ('climb', 1), ('calloway', 1), ('julia', 1), ('miko', 1), ('brr', 1), ('mauro', 1), ('happiness', 1), ('misery', 1), ('kidney', 1), ('margiel', 1), ('illness', 1), ('remedy', 1), ('hennessy', 1), ('penalty', 1), ('magical', 1), ('foresight', 1), ('sleepin', 1), ('courtside', 1), ('eatin', 1), ('pop', 1), ('revamp', 1), ('vibe', 1), ('si', 1), ('feature', 1), ('sidekick', 1), ('boo', 1), ('wig', 1), ('opps', 1), ('fiendin', 1), ('extremist', 1), ('demon', 1), ('horse', 1), ('cite', 1), ('source', 1), ('fame', 1), ('toe', 1), ('sleeve', 1), ('adventure', 1), ('gravity', 1), ('centered', 1), ('waisted', 1), ('silence', 1), ('guide', 1), ('goosebump', 1), ('raise', 1), ('finger', 1), ('tongue', 1), ('adore', 1), ('hardest', 1), ('warm', 1), ('pour', 1), ('jeremy', 1), ('freedman', 1), ('jesse', 1), ('rutherford', 1), ('zachary', 1), ('abel', 1), ('llc', 1), ('testify', 1), ('juggin', 1), ('mobbin', 1), ('schemin', 1), ('lootin', 1), ('dreamin', 1), ('droptop', 1), ('bob', 1), ('argument', 1), ('remind', 1), ('nonviolent', 1), ('smash', 1), ('grow', 1), ('nice', 1), ('madness', 1), ('tie', 1), ('magazine', 1), ('rumor', 1), ('fly', 1), ('weekend', 1), ('crystal', 1), ('stolen', 1), ('queen', 1), ('wait', 1), ('storm', 1), ('thorn', 1), ('darling', 1), ('dressed', 1), ('withdrawal', 1), ('road', 1), ('overdrive', 1), ('walking', 1), ('cell', 1), ('bit', 1), ('jumping', 1), ('winning', 1), ('ames', 1), ('divide', 1), ('path', 1), ('carpet', 1), ('stain', 1), ('totito', 1), ('compliant', 1), ('daring', 1), ('popola', 1), ('tranquilita', 1), ('steal', 1), ('wicked', 1), ('dembow', 1), ('pussy', 1), ('dm', 1), ('tteonado', 1), ('jwo', 1), ('oneulkkajiman', 1), ('soak', 1), ('nal', 1), ('jeogsyeo', 1), ('bamsaedolog', 1), ('morning', 1), ('achwihaeseo', 1), ('oji', 1), ('faded', 1), ('noisy', 1), ('sikkeleoun', 1), ('huimihaejin', 1), ('obvious', 1), ('ppeonhan', 1), ('igsughaejyeo', 1), ('ga', 1), ('nega', 1), ('aldeon', 1), ('naleul', 1), ('chajien', 1), ('meolli', 1), ('geolkka', 1), ('geoul', 1), ('bichin', 1), ('micheyeoga', 1), ('straighten', 1), ('soldier', 1), ('hailie', 1), ('sad', 1), ('wit', 1), ('wipe', 1), ('uncle', 1), ('swirl', 1), ('whirl', 1), ('twirl', 1), ('puzzled', 1), ('daze', 1), ('confusin', 1), ('sheltered', 1), ('somehow', 1), ('backfire', 1), ('growin', 1), ('plan', 1), ('teenager', 1), ('meant', 1), ('control', 1), ('destiny', 1), ('heh', 1), ('present', 1), ('tree', 1), ('robbed', 1), ('block', 1), ('savin', 1), ('jar', 1), ('piggy', 1), ('bank', 1), ('college', 1), ('dollar', 1), ('stole', 1), ('seemed', 1), ('startin', 1), ('arguin', 1), ('chalmers', 1), ('flat', 1), ('mile', 1), ('novara', 1), ('cd', 1), ('dre', 1), ('seein', 1), ('papa', 1), ('rolling', 1), ('stone', 1), ('developed', 1), ('witness', 1), ('firsthand', 1), ('proud', 1), ('grown', 1), ('sister', 1), ('shh', 1), ('outro', 1), ('birdie', 1), ('jeweler', 1), ('karat', 1), ('haha', 1), ('raye', 1), ('shake', 1), ('escapism', 1), ('sleazin', 1), ('teasin', 1), ('drippin', 1), ('twelve', 1), ('ordered', 1), ('context', 1), ('position', 1), ('fact', 1), ('simple', 1), ('mission', 1), ('black', 1), ('dress', 1), ('toke', 1), ('joint', 1), ('blowin', 1), ('steam', 1), ('dead', 1), ('sweaty', 1), ('cake', 1), ('dark', 1), ('lately', 1), ('excuse', 1), ('half', 1), ('trippin', 1), ('actin', 1), ('anythin', 1), ('peace', 1), ('numb', 1), ('toast', 1), ('escape', 1), ('sunset', 1), ('maze', 1), ('lipstick', 1), ('smudged', 1), ('modern', 1), ('art', 1), ('drivin', 1), ('speedin', 1), ('highway', 1), ('mixin', 1), ('spillin', 1), ('stranger', 1), ('poundin', 1), ('satisfaction', 1), ('castle', 1), ('pretend', 1), ('forbidden', 1), ('paradise', 1), ('loved', 1), ('truly', 1), ('stupidity', 1), ('talked', 1), ('convincing', 1), ('flinching', 1), ('mesmerizing', 1), ('paralyzing', 1), ('fucked', 1), ('thrill', 1), ('figure', 1), ('age', 1), ('bathroom', 1), ('forge', 1), ('quality', 1), ('telephone', 1), ('sounding', 1), ('customer', 1), ('paper', 1), ('enjoy', 1), ('whether', 1), ('wrong', 1), ('lying', 1), ('viejo', 1), ('rodes', 1), ('silver', 1), ('lv', 1), ('flying', 1), ('carnal', 1), ('fart', 1), ('stun', 1), ('hassan', 1), ('emilio', 1), ('kabande', 1), ('laija', 1), ('jesus', 1), ('roberto', 1), ('garcia', 1), ('laijia', 1), ('nathanahel', 1), ('ruben', 1), ('cano', 1), ('monge', 1), ('downtown', 1), ('warner', 1), ('chappell', 1), ('inc', 1), ('tyler', 1), ('creator', 1), ('kali', 1), ('uchis', 1), ('relocate', 1), ('fantasy', 1), ('reality', 1), ('count', 1), ('sheep', 1), ('exist', 1), ('behind', 1), ('infatuation', 1), ('translatin', 1), ('chasin', 1), ('alcoholic', 1), ('cheek', 1), ('iced', 1), ('bumblebee', 1), ('bakery', 1), ('pie', 1), ('chencho', 1), ('corleone', 1), ('porto', 1), ('bonito', 1), ('guagua', 1), ('bellaca', 1), ('presume', 1), ('lune', 1), ('selfie', 1), ('tighten', 1), ('frikitona', 1), ('trio', 1), ('boot', 1), ('waoh', 1), ('summary', 1), ('chest', 1), ('dumped', 1), ('b', 1), ('uff', 1), ('listened', 1), ('rbd', 1), ('thc', 1), ('cbd', 1), ('mami', 1), ('limit', 1), ('merit', 1), ('levite', 1), ('arise', 1), ('able', 1), ('content', 1), ('agree', 1), ('mai', 1), ('pleased', 1), ('fixed', 1), ('confidence', 1), ('confesses', 1), ('interested', 1), ('naughty', 1), ('newjeans', 1), ('nould', 1), ('scary', 1), ('battled', 1), ('mercedes', 1), ('amg', 1), ('class', 1), ('dreamed', 1), ('ea', 1), ('flag', 1), ('yayay', 1), ('nata', 1), ('chau', 1), ('ayay', 1), ('mazatlan', 1), ('port', 1), ('dividing', 1), ('particular', 1), ('jet', 1), ('anywhere', 1), ('uncovering', 1), ('ticket', 1), ('ice', 1), ('everywhere', 1), ('nike', 1), ('tennis', 1), ('thug', 1), ('enlighten', 1), ('dear', 1), ('complacent', 1), ('died', 1), ('patiently', 1), ('arrive', 1)]\n"
     ]
    }
   ]
  },
  {
   "cell_type": "markdown",
   "source": [
    "# SENTIMENTAL ANALYSIS"
   ],
   "metadata": {
    "id": "Nd5iQP4BpHYZ"
   }
  },
  {
   "cell_type": "code",
   "source": [
    "from textblob import TextBlob\n",
    "\n",
    "\n",
    "def analyze_sentiment(lyric):\n",
    "    analysis = TextBlob(lyric)\n",
    "    return analysis.sentiment\n",
    "\n",
    "\n",
    "# Analyze the sentiment of each song\n",
    "sentiment_results = [analyze_sentiment(lyric) for lyric in translated_lyrics]\n",
    "\n",
    "# Display the sentiment analysis results\n",
    "data_polarity = []\n",
    "data_subjectivity = []\n",
    "\n",
    "for sentiment in sentiment_results:\n",
    "    # print(f\"Song {i + 1}: Polarity = {sentiment.polarity}, Subjectivity = {sentiment.subjectivity}\")\n",
    "    data_polarity.append(sentiment.polarity)\n",
    "    data_subjectivity.append(sentiment.subjectivity)\n",
    "\n",
    "song_list_df['Polarity'] = data_polarity\n",
    "song_list_df['Subjectivity'] = data_subjectivity\n"
   ],
   "metadata": {
    "colab": {
     "base_uri": "https://localhost:8080/"
    },
    "id": "jd5hbOHOpSO3",
    "executionInfo": {
     "status": "ok",
     "timestamp": 1705937920379,
     "user_tz": -60,
     "elapsed": 883,
     "user": {
      "displayName": "Kamila Fido",
      "userId": "11048561443493888987"
     }
    },
    "outputId": "8038edaa-d0b9-42bd-c42c-a0d8d7a30880",
    "ExecuteTime": {
     "end_time": "2024-01-26T13:17:45.808743300Z",
     "start_time": "2024-01-26T13:17:45.618739Z"
    }
   },
   "execution_count": 7,
   "outputs": []
  },
  {
   "cell_type": "code",
   "outputs": [
    {
     "data": {
      "text/plain": "                                    title              artist  Polarity  \\\n0                                 Flowers         Miley Cyrus  0.485994   \n1                               Kill Bill                 SZA  0.209480   \n2                               As It Was        Harry Styles  0.053846   \n3                                   Seven           Jung Kook  0.700000   \n4                         Ella Baila Sola      Eslabon Armado  0.216845   \n5                            Cruel Summer        Taylor Swift -0.104993   \n6                                 Creepin        Metro Boomin  0.165833   \n7                               Calm Down                Rema  0.051976   \n8   Shakira: Bzrp Music Sessions, Vol. 53            Bizarrap  0.112083   \n9                               Anti-Hero        Taylor Swift  0.039394   \n10                       I Wanna Be Yours      Arctic Monkeys -0.086667   \n11                                    TQG             KAROL G  0.129619   \n12                                La Bebe           Yng Lvcas  0.092904   \n13                        I'm Good (Blue)        David Guetta  0.463786   \n14                            Die For You          The Weeknd  0.122995   \n15                              un x100to      Grupo Frontera  0.042391   \n16                                 Unholy           Sam Smith  0.053283   \n17                             La Bachata       Manuel Turizo  0.205357   \n18                     Boy's a liar Pt. 2      PinkPantheress  0.336998   \n19                               Daylight       David Kushner -0.076852   \n20                           Another Love           Tom Odell  0.361667   \n21                                Starboy          The Weeknd  0.188124   \n22                             Yandel 150              Yandel  0.155766   \n23                      Cupid - Twin Ver.         FIFTY FIFTY  0.056500   \n24                        I Ain't Worried         OneRepublic  0.190000   \n25                           Here With Me                d4vd  0.238880   \n26                             Last Night       Morgan Wallen  0.054674   \n27                            golden hour                JVKE  0.116919   \n28                      Until I Found You     Stephen Sanchez  0.500000   \n29                                   LALA         Myke Towers  0.079339   \n30  Quevedo: Bzrp Music Sessions, Vol. 52            Bizarrap  0.087204   \n31                                Hey Mor               Ozuna -0.069444   \n32                             CLASSY 101                Feid  0.002377   \n33                     Paint The Town Red            Doja Cat  0.122366   \n34                        Sweater Weather   The Neighbourhood -0.100366   \n35                                 Snooze                 SZA  0.144133   \n36                            Blank Space        Taylor Swift -0.026124   \n37                        Blinding Lights          The Weeknd  0.037500   \n38                         WHERE SHE GOES           Bad Bunny  0.148214   \n39                             Like Crazy               Jimin  0.367000   \n40                            Mockingbird              Eminem -0.008498   \n41                              Escapism.                RAYE -0.079508   \n42                                vampire      Olivia Rodrigo -0.072591   \n43                                    PRC          Peso Pluma  0.023509   \n44                          See You Again  Tyler, The Creator  0.186599   \n45                        Me Porto Bonito           Bad Bunny  0.254769   \n46                                    OMG            NewJeans  0.097864   \n47                                    AMG       Natanael Cano  0.353190   \n48                      Romantic Homicide                d4vd -0.205134   \n\n    Subjectivity  \n0       0.555602  \n1       0.364384  \n2       0.216026  \n3       0.600000  \n4       0.558333  \n5       0.559264  \n6       0.352500  \n7       0.483127  \n8       0.499722  \n9       0.412121  \n10      0.345000  \n11      0.477224  \n12      0.355766  \n13      0.464609  \n14      0.609712  \n15      0.510145  \n16      0.513384  \n17      0.378571  \n18      0.602122  \n19      0.473148  \n20      0.595556  \n21      0.480583  \n22      0.368719  \n23      0.471000  \n24      0.495000  \n25      0.408482  \n26      0.224282  \n27      0.501263  \n28      0.600000  \n29      0.380325  \n30      0.483728  \n31      0.335714  \n32      0.687531  \n33      0.492355  \n34      0.656995  \n35      0.568240  \n36      0.621759  \n37      0.597222  \n38      0.657143  \n39      0.604667  \n40      0.490353  \n41      0.373409  \n42      0.642645  \n43      0.372632  \n44      0.529633  \n45      0.588974  \n46      0.566298  \n47      0.408917  \n48      0.413616  ",
      "text/html": "<div>\n<style scoped>\n    .dataframe tbody tr th:only-of-type {\n        vertical-align: middle;\n    }\n\n    .dataframe tbody tr th {\n        vertical-align: top;\n    }\n\n    .dataframe thead th {\n        text-align: right;\n    }\n</style>\n<table border=\"1\" class=\"dataframe\">\n  <thead>\n    <tr style=\"text-align: right;\">\n      <th></th>\n      <th>title</th>\n      <th>artist</th>\n      <th>Polarity</th>\n      <th>Subjectivity</th>\n    </tr>\n  </thead>\n  <tbody>\n    <tr>\n      <th>0</th>\n      <td>Flowers</td>\n      <td>Miley Cyrus</td>\n      <td>0.485994</td>\n      <td>0.555602</td>\n    </tr>\n    <tr>\n      <th>1</th>\n      <td>Kill Bill</td>\n      <td>SZA</td>\n      <td>0.209480</td>\n      <td>0.364384</td>\n    </tr>\n    <tr>\n      <th>2</th>\n      <td>As It Was</td>\n      <td>Harry Styles</td>\n      <td>0.053846</td>\n      <td>0.216026</td>\n    </tr>\n    <tr>\n      <th>3</th>\n      <td>Seven</td>\n      <td>Jung Kook</td>\n      <td>0.700000</td>\n      <td>0.600000</td>\n    </tr>\n    <tr>\n      <th>4</th>\n      <td>Ella Baila Sola</td>\n      <td>Eslabon Armado</td>\n      <td>0.216845</td>\n      <td>0.558333</td>\n    </tr>\n    <tr>\n      <th>5</th>\n      <td>Cruel Summer</td>\n      <td>Taylor Swift</td>\n      <td>-0.104993</td>\n      <td>0.559264</td>\n    </tr>\n    <tr>\n      <th>6</th>\n      <td>Creepin</td>\n      <td>Metro Boomin</td>\n      <td>0.165833</td>\n      <td>0.352500</td>\n    </tr>\n    <tr>\n      <th>7</th>\n      <td>Calm Down</td>\n      <td>Rema</td>\n      <td>0.051976</td>\n      <td>0.483127</td>\n    </tr>\n    <tr>\n      <th>8</th>\n      <td>Shakira: Bzrp Music Sessions, Vol. 53</td>\n      <td>Bizarrap</td>\n      <td>0.112083</td>\n      <td>0.499722</td>\n    </tr>\n    <tr>\n      <th>9</th>\n      <td>Anti-Hero</td>\n      <td>Taylor Swift</td>\n      <td>0.039394</td>\n      <td>0.412121</td>\n    </tr>\n    <tr>\n      <th>10</th>\n      <td>I Wanna Be Yours</td>\n      <td>Arctic Monkeys</td>\n      <td>-0.086667</td>\n      <td>0.345000</td>\n    </tr>\n    <tr>\n      <th>11</th>\n      <td>TQG</td>\n      <td>KAROL G</td>\n      <td>0.129619</td>\n      <td>0.477224</td>\n    </tr>\n    <tr>\n      <th>12</th>\n      <td>La Bebe</td>\n      <td>Yng Lvcas</td>\n      <td>0.092904</td>\n      <td>0.355766</td>\n    </tr>\n    <tr>\n      <th>13</th>\n      <td>I'm Good (Blue)</td>\n      <td>David Guetta</td>\n      <td>0.463786</td>\n      <td>0.464609</td>\n    </tr>\n    <tr>\n      <th>14</th>\n      <td>Die For You</td>\n      <td>The Weeknd</td>\n      <td>0.122995</td>\n      <td>0.609712</td>\n    </tr>\n    <tr>\n      <th>15</th>\n      <td>un x100to</td>\n      <td>Grupo Frontera</td>\n      <td>0.042391</td>\n      <td>0.510145</td>\n    </tr>\n    <tr>\n      <th>16</th>\n      <td>Unholy</td>\n      <td>Sam Smith</td>\n      <td>0.053283</td>\n      <td>0.513384</td>\n    </tr>\n    <tr>\n      <th>17</th>\n      <td>La Bachata</td>\n      <td>Manuel Turizo</td>\n      <td>0.205357</td>\n      <td>0.378571</td>\n    </tr>\n    <tr>\n      <th>18</th>\n      <td>Boy's a liar Pt. 2</td>\n      <td>PinkPantheress</td>\n      <td>0.336998</td>\n      <td>0.602122</td>\n    </tr>\n    <tr>\n      <th>19</th>\n      <td>Daylight</td>\n      <td>David Kushner</td>\n      <td>-0.076852</td>\n      <td>0.473148</td>\n    </tr>\n    <tr>\n      <th>20</th>\n      <td>Another Love</td>\n      <td>Tom Odell</td>\n      <td>0.361667</td>\n      <td>0.595556</td>\n    </tr>\n    <tr>\n      <th>21</th>\n      <td>Starboy</td>\n      <td>The Weeknd</td>\n      <td>0.188124</td>\n      <td>0.480583</td>\n    </tr>\n    <tr>\n      <th>22</th>\n      <td>Yandel 150</td>\n      <td>Yandel</td>\n      <td>0.155766</td>\n      <td>0.368719</td>\n    </tr>\n    <tr>\n      <th>23</th>\n      <td>Cupid - Twin Ver.</td>\n      <td>FIFTY FIFTY</td>\n      <td>0.056500</td>\n      <td>0.471000</td>\n    </tr>\n    <tr>\n      <th>24</th>\n      <td>I Ain't Worried</td>\n      <td>OneRepublic</td>\n      <td>0.190000</td>\n      <td>0.495000</td>\n    </tr>\n    <tr>\n      <th>25</th>\n      <td>Here With Me</td>\n      <td>d4vd</td>\n      <td>0.238880</td>\n      <td>0.408482</td>\n    </tr>\n    <tr>\n      <th>26</th>\n      <td>Last Night</td>\n      <td>Morgan Wallen</td>\n      <td>0.054674</td>\n      <td>0.224282</td>\n    </tr>\n    <tr>\n      <th>27</th>\n      <td>golden hour</td>\n      <td>JVKE</td>\n      <td>0.116919</td>\n      <td>0.501263</td>\n    </tr>\n    <tr>\n      <th>28</th>\n      <td>Until I Found You</td>\n      <td>Stephen Sanchez</td>\n      <td>0.500000</td>\n      <td>0.600000</td>\n    </tr>\n    <tr>\n      <th>29</th>\n      <td>LALA</td>\n      <td>Myke Towers</td>\n      <td>0.079339</td>\n      <td>0.380325</td>\n    </tr>\n    <tr>\n      <th>30</th>\n      <td>Quevedo: Bzrp Music Sessions, Vol. 52</td>\n      <td>Bizarrap</td>\n      <td>0.087204</td>\n      <td>0.483728</td>\n    </tr>\n    <tr>\n      <th>31</th>\n      <td>Hey Mor</td>\n      <td>Ozuna</td>\n      <td>-0.069444</td>\n      <td>0.335714</td>\n    </tr>\n    <tr>\n      <th>32</th>\n      <td>CLASSY 101</td>\n      <td>Feid</td>\n      <td>0.002377</td>\n      <td>0.687531</td>\n    </tr>\n    <tr>\n      <th>33</th>\n      <td>Paint The Town Red</td>\n      <td>Doja Cat</td>\n      <td>0.122366</td>\n      <td>0.492355</td>\n    </tr>\n    <tr>\n      <th>34</th>\n      <td>Sweater Weather</td>\n      <td>The Neighbourhood</td>\n      <td>-0.100366</td>\n      <td>0.656995</td>\n    </tr>\n    <tr>\n      <th>35</th>\n      <td>Snooze</td>\n      <td>SZA</td>\n      <td>0.144133</td>\n      <td>0.568240</td>\n    </tr>\n    <tr>\n      <th>36</th>\n      <td>Blank Space</td>\n      <td>Taylor Swift</td>\n      <td>-0.026124</td>\n      <td>0.621759</td>\n    </tr>\n    <tr>\n      <th>37</th>\n      <td>Blinding Lights</td>\n      <td>The Weeknd</td>\n      <td>0.037500</td>\n      <td>0.597222</td>\n    </tr>\n    <tr>\n      <th>38</th>\n      <td>WHERE SHE GOES</td>\n      <td>Bad Bunny</td>\n      <td>0.148214</td>\n      <td>0.657143</td>\n    </tr>\n    <tr>\n      <th>39</th>\n      <td>Like Crazy</td>\n      <td>Jimin</td>\n      <td>0.367000</td>\n      <td>0.604667</td>\n    </tr>\n    <tr>\n      <th>40</th>\n      <td>Mockingbird</td>\n      <td>Eminem</td>\n      <td>-0.008498</td>\n      <td>0.490353</td>\n    </tr>\n    <tr>\n      <th>41</th>\n      <td>Escapism.</td>\n      <td>RAYE</td>\n      <td>-0.079508</td>\n      <td>0.373409</td>\n    </tr>\n    <tr>\n      <th>42</th>\n      <td>vampire</td>\n      <td>Olivia Rodrigo</td>\n      <td>-0.072591</td>\n      <td>0.642645</td>\n    </tr>\n    <tr>\n      <th>43</th>\n      <td>PRC</td>\n      <td>Peso Pluma</td>\n      <td>0.023509</td>\n      <td>0.372632</td>\n    </tr>\n    <tr>\n      <th>44</th>\n      <td>See You Again</td>\n      <td>Tyler, The Creator</td>\n      <td>0.186599</td>\n      <td>0.529633</td>\n    </tr>\n    <tr>\n      <th>45</th>\n      <td>Me Porto Bonito</td>\n      <td>Bad Bunny</td>\n      <td>0.254769</td>\n      <td>0.588974</td>\n    </tr>\n    <tr>\n      <th>46</th>\n      <td>OMG</td>\n      <td>NewJeans</td>\n      <td>0.097864</td>\n      <td>0.566298</td>\n    </tr>\n    <tr>\n      <th>47</th>\n      <td>AMG</td>\n      <td>Natanael Cano</td>\n      <td>0.353190</td>\n      <td>0.408917</td>\n    </tr>\n    <tr>\n      <th>48</th>\n      <td>Romantic Homicide</td>\n      <td>d4vd</td>\n      <td>-0.205134</td>\n      <td>0.413616</td>\n    </tr>\n  </tbody>\n</table>\n</div>"
     },
     "execution_count": 8,
     "metadata": {},
     "output_type": "execute_result"
    }
   ],
   "source": [
    "song_list_df"
   ],
   "metadata": {
    "collapsed": false,
    "ExecuteTime": {
     "end_time": "2024-01-26T13:17:45.869798600Z",
     "start_time": "2024-01-26T13:17:45.811947800Z"
    }
   },
   "execution_count": 8
  },
  {
   "cell_type": "code",
   "source": [
    "# Display the results\n",
    "print(f\"Average Polarity: {song_list_df['Polarity'].mean()}\")  #-1 super negative, 1-positive\n",
    "print(f\"Average Subjectivity: {song_list_df['Subjectivity'].mean()}\")  #0 very objective, 1 - very subjective\n"
   ],
   "metadata": {
    "colab": {
     "base_uri": "https://localhost:8080/"
    },
    "id": "TV_L8DBZq8QZ",
    "executionInfo": {
     "status": "ok",
     "timestamp": 1705937928886,
     "user_tz": -60,
     "elapsed": 241,
     "user": {
      "displayName": "Kamila Fido",
      "userId": "11048561443493888987"
     }
    },
    "outputId": "9129770d-2777-4469-e974-a27b075a79f5",
    "ExecuteTime": {
     "end_time": "2024-01-26T13:17:45.871840400Z",
     "start_time": "2024-01-26T13:17:45.842836500Z"
    }
   },
   "execution_count": 9,
   "outputs": [
    {
     "name": "stdout",
     "output_type": "stream",
     "text": [
      "Average Polarity: 0.13100412292720068\n",
      "Average Subjectivity: 0.48873063729257266\n"
     ]
    }
   ]
  },
  {
   "cell_type": "code",
   "source": [
    "# import pandas as pd\n",
    "print(sentiment_results[0])"
   ],
   "metadata": {
    "colab": {
     "base_uri": "https://localhost:8080/"
    },
    "id": "-zkrnJwP1Oas",
    "executionInfo": {
     "status": "ok",
     "timestamp": 1705938204135,
     "user_tz": -60,
     "elapsed": 238,
     "user": {
      "displayName": "Kamila Fido",
      "userId": "11048561443493888987"
     }
    },
    "outputId": "f526a565-dac5-46e0-ee16-d9ba17cb8226",
    "ExecuteTime": {
     "end_time": "2024-01-26T13:17:45.985341200Z",
     "start_time": "2024-01-26T13:17:45.860334200Z"
    }
   },
   "execution_count": 10,
   "outputs": [
    {
     "name": "stdout",
     "output_type": "stream",
     "text": [
      "Sentiment(polarity=0.48599439775910364, subjectivity=0.5556022408963588)\n"
     ]
    }
   ]
  },
  {
   "cell_type": "markdown",
   "source": [
    "# Topic analysis (Latent Dirichlet Allocation (LDA))"
   ],
   "metadata": {
    "id": "yYVV-9d1uflW"
   }
  },
  {
   "cell_type": "code",
   "source": [
    "import gensim\n",
    "from gensim import corpora\n",
    "from nltk.stem import WordNetLemmatizer\n",
    "from nltk.tokenize import word_tokenize\n",
    "from nltk.corpus import stopwords\n"
   ],
   "metadata": {
    "id": "l0S0geN3uk7g",
    "executionInfo": {
     "status": "ok",
     "timestamp": 1705938346905,
     "user_tz": -60,
     "elapsed": 598,
     "user": {
      "displayName": "Kamila Fido",
      "userId": "11048561443493888987"
     }
    },
    "ExecuteTime": {
     "end_time": "2024-01-26T13:17:46.164220Z",
     "start_time": "2024-01-26T13:17:45.873052600Z"
    }
   },
   "execution_count": 11,
   "outputs": []
  },
  {
   "cell_type": "code",
   "source": [
    "def preprocess(text):\n",
    "    lemmatizer = WordNetLemmatizer()\n",
    "    stop_words = set(stopwords.words('english'))\n",
    "    words = word_tokenize(text.lower())\n",
    "\n",
    "    # Filter out stopwords and non-alphabetic words, and lemmatize the remaining words\n",
    "    filtered_words = [lemmatizer.lemmatize(word) for word in words if word.isalpha() and word not in stop_words]\n",
    "\n",
    "    return filtered_words"
   ],
   "metadata": {
    "id": "_K1UIi4ovVfR",
    "executionInfo": {
     "status": "ok",
     "timestamp": 1705938347807,
     "user_tz": -60,
     "elapsed": 6,
     "user": {
      "displayName": "Kamila Fido",
      "userId": "11048561443493888987"
     }
    },
    "ExecuteTime": {
     "end_time": "2024-01-26T13:17:46.165262500Z",
     "start_time": "2024-01-26T13:17:46.051805600Z"
    }
   },
   "execution_count": 12,
   "outputs": []
  },
  {
   "cell_type": "code",
   "source": [
    "\n",
    "# Assuming translated_lyrics is a list of songs\n",
    "documents = [preprocess(lyric) for lyric in translated_lyrics]\n",
    "\n",
    "# Create a dictionary representation of the documents\n",
    "dictionary = corpora.Dictionary(documents)\n",
    "\n",
    "# Convert dictionary to a bag-of-words corpus\n",
    "corpus = [dictionary.doc2bow(doc) for doc in documents]\n",
    "\n",
    "# Number of topics\n",
    "num_topics = 5\n",
    "\n",
    "# Build the LDA model\n",
    "lda_model = gensim.models.ldamodel.LdaModel(corpus=corpus, num_topics=num_topics, id2word=dictionary, passes=15)\n",
    "\n",
    "# Number of words to display per topic\n",
    "words_per_topic = 2\n",
    "\n",
    "# Display the topics with limited number of words\n",
    "for idx, topic in lda_model.show_topics(num_topics=num_topics, num_words=words_per_topic, formatted=False):\n",
    "    topic_words = \", \".join([word for word, _ in topic])\n",
    "    print(f\"Topic {idx}: {topic_words}\")\n",
    "\n"
   ],
   "metadata": {
    "colab": {
     "base_uri": "https://localhost:8080/"
    },
    "id": "LkEUhjxKu_Rq",
    "executionInfo": {
     "status": "ok",
     "timestamp": 1705938354233,
     "user_tz": -60,
     "elapsed": 1118,
     "user": {
      "displayName": "Kamila Fido",
      "userId": "11048561443493888987"
     }
    },
    "outputId": "6f589edf-60b6-4886-fd3d-9f77a8a45f13",
    "ExecuteTime": {
     "end_time": "2024-01-26T13:17:46.899033100Z",
     "start_time": "2024-01-26T13:17:46.063120700Z"
    }
   },
   "execution_count": 13,
   "outputs": [
    {
     "name": "stdout",
     "output_type": "stream",
     "text": [
      "Topic 0: whoa, love\n",
      "Topic 1: baby, know\n",
      "Topic 2: na, wan\n",
      "Topic 3: like, know\n",
      "Topic 4: oh, okay\n"
     ]
    }
   ]
  },
  {
   "cell_type": "markdown",
   "source": [
    "# Text modeling (GloVe)"
   ],
   "metadata": {
    "id": "nGHaUMppxp2R"
   }
  },
  {
   "cell_type": "code",
   "source": [
    "import gensim.downloader as api\n",
    "\n",
    "# Load a pre-trained Word2Vec model (small model for demonstration)\n",
    "word_vectors = api.load(\"glove-wiki-gigaword-50\")\n"
   ],
   "metadata": {
    "colab": {
     "base_uri": "https://localhost:8080/"
    },
    "id": "gKSuGsVvylRW",
    "executionInfo": {
     "status": "ok",
     "timestamp": 1705938445670,
     "user_tz": -60,
     "elapsed": 64915,
     "user": {
      "displayName": "Kamila Fido",
      "userId": "11048561443493888987"
     }
    },
    "outputId": "a426dddf-694c-484c-ea02-91fd56a7b261",
    "ExecuteTime": {
     "end_time": "2024-01-26T13:18:01.238777100Z",
     "start_time": "2024-01-26T13:17:46.894955100Z"
    }
   },
   "execution_count": 14,
   "outputs": []
  },
  {
   "cell_type": "code",
   "source": [
    "all_words"
   ],
   "metadata": {
    "id": "uKXTuYnpziEF",
    "ExecuteTime": {
     "end_time": "2024-01-26T13:18:01.297160200Z",
     "start_time": "2024-01-26T13:18:01.240333500Z"
    }
   },
   "execution_count": 15,
   "outputs": [
    {
     "data": {
      "text/plain": "['good',\n 'gold',\n 'kinda',\n 'dream',\n 'ca',\n 'sold',\n 'right',\n 'built',\n 'home',\n 'watched',\n 'burn',\n 'mm',\n 'wan',\n 'na',\n 'leave',\n 'wan',\n 'na',\n 'lie',\n 'started',\n 'cry',\n 'remembered',\n 'buy',\n 'flower',\n 'write',\n 'name',\n 'sand',\n 'talk',\n 'hour',\n 'say',\n 'thing',\n 'understand',\n 'take',\n 'dancing',\n 'hold',\n 'hand',\n 'yeah',\n 'love',\n 'better',\n 'love',\n 'better',\n 'love',\n 'better',\n 'baby',\n 'love',\n 'better',\n 'love',\n 'better',\n 'baby',\n 'paint',\n 'nail',\n 'cherry',\n 'red',\n 'match',\n 'rose',\n 'left',\n 'remorse',\n 'regret',\n 'forgive',\n 'every',\n 'word',\n 'said',\n 'ooh',\n 'wan',\n 'na',\n 'leave',\n 'baby',\n 'wan',\n 'na',\n 'fight',\n 'started',\n 'cry',\n 'remembered',\n 'buy',\n 'flower',\n 'write',\n 'name',\n 'sand',\n 'talk',\n 'hour',\n 'yeah',\n 'say',\n 'thing',\n 'understand',\n 'take',\n 'dancing',\n 'yeah',\n 'hold',\n 'hand',\n 'yeah',\n 'love',\n 'better',\n 'love',\n 'better',\n 'love',\n 'better',\n 'baby',\n 'love',\n 'better',\n 'love',\n 'better',\n 'baby',\n 'love',\n 'better',\n 'love',\n 'better',\n 'baby',\n 'love',\n 'better',\n 'oh',\n 'wan',\n 'na',\n 'leave',\n 'wan',\n 'na',\n 'fight',\n 'started',\n 'cry',\n 'remembered',\n 'buy',\n 'flower',\n 'oh',\n 'write',\n 'name',\n 'sand',\n 'mm',\n 'talk',\n 'hour',\n 'yeah',\n 'say',\n 'thing',\n 'understand',\n 'never',\n 'take',\n 'dancing',\n 'yeah',\n 'hold',\n 'hand',\n 'yeah',\n 'love',\n 'better',\n 'yeah',\n 'love',\n 'better',\n 'love',\n 'better',\n 'love',\n 'better',\n 'baby',\n 'oh',\n 'love',\n 'better',\n 'love',\n 'better',\n 'baby',\n 'love',\n 'better',\n 'love',\n 'better',\n 'baby',\n 'love',\n 'better',\n 'still',\n 'fan',\n 'even',\n 'though',\n 'salty',\n 'hate',\n 'see',\n 'broad',\n 'know',\n 'happy',\n 'hate',\n 'see',\n 'happy',\n 'one',\n 'mature',\n 'mature',\n 'mature',\n 'got',\n 'therapist',\n 'tell',\n 'men',\n 'want',\n 'none',\n 'want',\n 'one',\n 'might',\n 'might',\n 'kill',\n 'ex',\n 'best',\n 'idea',\n 'new',\n 'next',\n 'get',\n 'might',\n 'kill',\n 'ex',\n 'still',\n 'love',\n 'though',\n 'rather',\n 'jail',\n 'alone',\n 'get',\n 'sense',\n 'lost',\n 'cause',\n 'get',\n 'sense',\n 'might',\n 'really',\n 'love',\n 'text',\n 'evidence',\n 'text',\n 'evidence',\n 'tried',\n 'ration',\n 'murder',\n 'crime',\n 'passion',\n 'damn',\n 'reach',\n 'farmer',\n 'market',\n 'perfect',\n 'peach',\n 'basement',\n 'home',\n 'invasion',\n 'facedown',\n 'got',\n 'mature',\n 'mature',\n 'mature',\n 'got',\n 'therapist',\n 'tell',\n 'men',\n 'want',\n 'none',\n 'want',\n 'one',\n 'might',\n 'might',\n 'kill',\n 'ex',\n 'best',\n 'idea',\n 'new',\n 'next',\n 'get',\n 'might',\n 'kill',\n 'ex',\n 'still',\n 'love',\n 'though',\n 'rather',\n 'jail',\n 'alone',\n 'love',\n 'love',\n 'drug',\n 'drug',\n 'sober',\n 'u',\n 'oh',\n 'love',\n 'love',\n 'drug',\n 'drug',\n 'sober',\n 'know',\n 'u',\n 'kill',\n 'as',\n 'tonight',\n 'oh',\n 'killed',\n 'ex',\n 'best',\n 'idea',\n 'idea',\n 'killed',\n 'girlfriend',\n 'next',\n 'get',\n 'killed',\n 'ex',\n 'still',\n 'love',\n 'though',\n 'rather',\n 'hell',\n 'alone',\n 'back',\n 'back',\n 'want',\n 'hold',\n 'palm',\n 'hand',\n 'leave',\n 'say',\n 'everything',\n 'get',\n 'way',\n 'seems',\n 'replaced',\n 'one',\n 'stay',\n 'oh',\n 'world',\n 'u',\n 'know',\n 'world',\n 'u',\n 'know',\n 'know',\n 'answer',\n 'phone',\n 'harry',\n 'good',\n 'alone',\n 'home',\n 'floor',\n 'kind',\n 'pill',\n 'bell',\n 'help',\n 'daddy',\n 'life',\n 'want',\n 'know',\n 'well',\n 'oh',\n 'world',\n 'u',\n 'know',\n 'world',\n 'u',\n 'know',\n 'know',\n 'go',\n 'home',\n 'get',\n 'ahead',\n 'internet',\n 'wan',\n 'na',\n 'talk',\n 'way',\n 'leave',\n 'america',\n 'two',\n 'kid',\n 'follow',\n 'wan',\n 'na',\n 'talk',\n 'first',\n 'hey',\n 'know',\n 'david',\n 'guetta',\n 'got',\n 'ta',\n 'feeling',\n 'david',\n 'guetta',\n 'fmif',\n 'remix',\n 'edit',\n 'got',\n 'ta',\n 'feeling',\n 'tonight',\n 'gon',\n 'na',\n 'good',\n 'night',\n 'tonight',\n 'gon',\n 'na',\n 'good',\n 'night',\n 'tonight',\n 'gon',\n 'na',\n 'good',\n 'good',\n 'night',\n 'feeling',\n 'tonight',\n 'gon',\n 'na',\n 'good',\n 'night',\n 'tonight',\n 'gon',\n 'na',\n 'good',\n 'night',\n 'tonight',\n 'gon',\n 'na',\n 'good',\n 'good',\n 'night',\n 'feeling',\n 'tonight',\n 'gon',\n 'na',\n 'good',\n 'night',\n 'tonight',\n 'gon',\n 'na',\n 'good',\n 'night',\n 'tonight',\n 'gon',\n 'na',\n 'good',\n 'good',\n 'night',\n 'feeling',\n 'tonight',\n 'gon',\n 'na',\n 'good',\n 'night',\n 'tonight',\n 'gon',\n 'na',\n 'good',\n 'night',\n 'tonight',\n 'gon',\n 'na',\n 'good',\n 'good',\n 'night',\n 'feeling',\n 'tonight',\n 'gon',\n 'na',\n 'good',\n 'night',\n 'tonight',\n 'gon',\n 'na',\n 'good',\n 'night',\n 'tonight',\n 'gon',\n 'na',\n 'good',\n 'good',\n 'night',\n 'got',\n 'ta',\n 'feeling',\n 'tonight',\n 'gon',\n 'na',\n 'good',\n 'night',\n 'tonight',\n 'gon',\n 'na',\n 'good',\n 'night',\n 'tonight',\n 'gon',\n 'na',\n 'good',\n 'good',\n 'night',\n 'feeling',\n 'tonight',\n 'gon',\n 'na',\n 'good',\n 'night',\n 'tonight',\n 'gon',\n 'na',\n 'good',\n 'night',\n 'tonight',\n 'gon',\n 'na',\n 'good',\n 'good',\n 'night',\n 'feeling',\n 'feeling',\n 'feeling',\n 'feeling',\n 'feeling',\n 'feeling',\n 'feeling',\n 'feeling',\n 'got',\n 'ta',\n 'feeling',\n 'feeling',\n 'feeling',\n 'armed',\n 'link',\n 'pen',\n 'weight',\n 'dance',\n 'alone',\n 'compa',\n 'think',\n 'morra',\n 'one',\n 'dancing',\n 'alone',\n 'like',\n 'pa',\n 'bella',\n 'know',\n 'good',\n 'everyone',\n 'looking',\n 'approach',\n 'throw',\n 'whole',\n 'verb',\n 'take',\n 'drink',\n 'without',\n 'peros',\n 'temptation',\n 'told',\n 'going',\n 'conquer',\n 'family',\n 'day',\n 'mine',\n 'told',\n 'crazy',\n 'like',\n 'vato',\n 'like',\n 'act',\n 'go',\n 'mikha',\n 'pure',\n 'double',\n 'p',\n 'old',\n 'thus',\n 'noma',\n 'compa',\n 'pedro',\n 'pure',\n 'armed',\n 'link',\n 'pa',\n 'plebit',\n 'vato',\n 'varo',\n 'speaking',\n 'heart',\n 'fulfill',\n 'everything',\n 'grabbed',\n 'catchy',\n 'hand',\n 'company',\n 'even',\n 'believe',\n 'passed',\n 'body',\n 'swear',\n 'god',\n 'perfect',\n 'belt',\n 'model',\n 'eye',\n 'beginning',\n 'fell',\n 'love',\n 'liked',\n 'like',\n 'fever',\n 'dream',\n 'high',\n 'quiet',\n 'night',\n 'know',\n 'caught',\n 'oh',\n 'yeah',\n 'right',\n 'want',\n 'bad',\n 'bad',\n 'boy',\n 'shiny',\n 'toy',\n 'price',\n 'know',\n 'bought',\n 'oh',\n 'yeah',\n 'right',\n 'want',\n 'killing',\n 'slow',\n 'window',\n 'always',\n 'waiting',\n 'waiting',\n 'devil',\n 'roll',\n 'dice',\n 'angel',\n 'roll',\n 'eye',\n 'kill',\n 'make',\n 'want',\n 'new',\n 'shape',\n 'body',\n 'blue',\n 'feeling',\n 'got',\n 'cruel',\n 'summer',\n 'cool',\n 'tell',\n 'rule',\n 'breakable',\n 'heaven',\n 'ooh',\n 'cruel',\n 'summer',\n 'hang',\n 'head',\n 'low',\n 'glow',\n 'vending',\n 'machine',\n 'dying',\n 'oh',\n 'yeah',\n 'right',\n 'want',\n 'say',\n 'screw',\n 'trying',\n 'time',\n 'trying',\n 'oh',\n 'yeah',\n 'right',\n 'want',\n 'cut',\n 'headlight',\n 'knife',\n 'always',\n 'waiting',\n 'cut',\n 'bone',\n 'devil',\n 'roll',\n 'dice',\n 'angel',\n 'roll',\n 'eye',\n 'bleed',\n 'last',\n 'know',\n 'oh',\n 'new',\n 'shape',\n 'body',\n 'blue',\n 'feeling',\n 'got',\n 'cruel',\n 'summer',\n 'cool',\n 'tell',\n 'rule',\n 'breakable',\n 'heaven',\n 'cruel',\n 'summer',\n 'drunk',\n 'back',\n 'car',\n 'cried',\n 'like',\n 'baby',\n 'coming',\n 'home',\n 'bar',\n 'oh',\n 'said',\n 'fine',\n 'true',\n 'wan',\n 'na',\n 'keep',\n 'secret',\n 'keep',\n 'snuck',\n 'garden',\n 'gate',\n 'every',\n 'night',\n 'summer',\n 'seal',\n 'fate',\n 'oh',\n 'scream',\n 'whatever',\n 'worth',\n 'love',\n 'worst',\n 'thing',\n 'ever',\n 'heard',\n 'look',\n 'grinning',\n 'like',\n 'devil',\n 'new',\n 'shape',\n 'body',\n 'blue',\n 'feeling',\n 'got',\n 'cruel',\n 'summer',\n 'cool',\n 'tell',\n 'rule',\n 'breakable',\n 'heaven',\n 'cruel',\n 'summer',\n 'drunk',\n 'back',\n 'car',\n 'cried',\n 'like',\n 'baby',\n 'coming',\n 'home',\n 'bar',\n 'oh',\n 'said',\n 'fine',\n 'true',\n 'wan',\n 'na',\n 'keep',\n 'secret',\n 'keep',\n 'snuck',\n 'garden',\n 'gate',\n 'every',\n 'night',\n 'summer',\n 'seal',\n 'fate',\n 'oh',\n 'scream',\n 'whatever',\n 'worth',\n 'love',\n 'worst',\n 'thing',\n 'ever',\n 'heard',\n 'yeah',\n 'yeah',\n 'yeah',\n 'yeah',\n 'metro',\n 'boomin',\n 'weeknd',\n 'savage',\n 'ca',\n 'believe',\n 'man',\n 'metro',\n 'boomin',\n 'want',\n 'nigga',\n 'somebody',\n 'said',\n 'saw',\n 'person',\n 'kissin',\n 'would',\n 'never',\n 'ask',\n 'kept',\n 'wan',\n 'na',\n 'know',\n 'playin',\n 'keep',\n 'low',\n 'heart',\n 'ca',\n 'take',\n 'anymore',\n 'creepin',\n 'please',\n 'let',\n 'show',\n 'oh',\n 'baby',\n 'wan',\n 'na',\n 'know',\n 'think',\n 'hold',\n 'lookin',\n 'eye',\n 'ca',\n 'believe',\n 'need',\n 'know',\n 'truth',\n 'baby',\n 'keep',\n 'wan',\n 'na',\n 'know',\n 'playin',\n 'keep',\n 'low',\n 'heart',\n 'ca',\n 'take',\n 'anymore',\n 'creepin',\n 'please',\n 'let',\n 'show',\n 'oh',\n 'baby',\n 'wan',\n 'na',\n 'know',\n 'touch',\n 'better',\n 'touch',\n 'better',\n 'watch',\n 'fall',\n 'asleep',\n 'watch',\n 'fall',\n 'asleep',\n 'show',\n 'thing',\n 'used',\n 'better',\n 'way',\n 'better',\n 'way',\n 'baby',\n 'say',\n 'say',\n 'go',\n 'thing',\n 'hey',\n 'come',\n 'back',\n 'come',\n 'back',\n 'whoa',\n 'whoa',\n 'whoa',\n 'crushin',\n 'cuffin',\n 'like',\n 'precinct',\n 'go',\n 'housewife',\n 'sneaky',\n 'link',\n 'got',\n 'ridin',\n 'type',\n 'benzes',\n 'rover',\n 'girl',\n 'used',\n 'ride',\n 'rinky',\n 'dink',\n 'one',\n 'put',\n 'eliantte',\n 'god',\n 'fashion',\n 'nova',\n 'model',\n 'put',\n 'runway',\n 'god',\n 'rockin',\n 'coach',\n 'bag',\n 'got',\n 'side',\n 'bitch',\n 'frisco',\n 'call',\n 'got',\n 'girl',\n 'still',\n 'feel',\n 'alone',\n 'god',\n 'playin',\n 'mean',\n 'home',\n 'ai',\n 'home',\n 'god',\n 'havin',\n 'nightmare',\n 'goin',\n 'phone',\n 'ca',\n 'even',\n 'record',\n 'got',\n 'zone',\n 'wan',\n 'na',\n 'know',\n 'playin',\n 'keep',\n 'low',\n 'heart',\n 'ca',\n 'take',\n 'anymore',\n 'creepin',\n 'please',\n 'let',\n 'show',\n 'oh',\n 'baby',\n 'wan',\n 'na',\n 'know',\n 'playin',\n 'keep',\n 'low',\n 'heart',\n 'ca',\n 'take',\n 'anymore',\n 'creepin',\n 'please',\n 'let',\n 'show',\n 'oh',\n 'baby',\n 'wan',\n 'na',\n 'know',\n 'creepin',\n 'let',\n 'find',\n 'god',\n 'get',\n 'hotel',\n 'never',\n 'bring',\n 'house',\n 'god',\n 'better',\n 'way',\n 'baby',\n 'say',\n 'gon',\n 'na',\n 'thing',\n 'come',\n 'back',\n 'baby',\n ...]"
     },
     "execution_count": 15,
     "metadata": {},
     "output_type": "execute_result"
    }
   ]
  },
  {
   "cell_type": "code",
   "source": [
    "import numpy as np\n",
    "from sklearn.cluster import KMeans\n",
    "\n",
    "# Assuming 'all_words' is your list of words\n",
    "word_vecs = []\n",
    "for word in all_words:\n",
    "    if word in word_vectors:\n",
    "        word_vecs.append(word_vectors[word])\n",
    "\n",
    "# Convert to NumPy array for clustering\n",
    "word_vecs = np.array(word_vecs)\n",
    "\n",
    "# Number of clusters (topics)\n",
    "num_clusters = 5\n",
    "\n",
    "# Clustering with KMeans\n",
    "kmeans = KMeans(n_clusters=num_clusters, random_state=0).fit(word_vecs)\n",
    "\n",
    "# Get cluster assignments for words\n",
    "clusters = kmeans.labels_\n",
    "\n",
    "centroids = kmeans.cluster_centers_\n"
   ],
   "metadata": {
    "colab": {
     "base_uri": "https://localhost:8080/"
    },
    "id": "g2cUGz5fypPH",
    "executionInfo": {
     "status": "ok",
     "timestamp": 1705938447649,
     "user_tz": -60,
     "elapsed": 2043,
     "user": {
      "displayName": "Kamila Fido",
      "userId": "11048561443493888987"
     }
    },
    "outputId": "6629eed1-12bb-42c1-ad7c-53d42d895a94",
    "ExecuteTime": {
     "end_time": "2024-01-26T13:18:01.750122300Z",
     "start_time": "2024-01-26T13:18:01.277272600Z"
    }
   },
   "execution_count": 16,
   "outputs": []
  },
  {
   "cell_type": "code",
   "source": [
    "from scipy.spatial import distance\n",
    "\n",
    "\n",
    "# Assuming 'all_words' contains words that have been used in the clustering\n",
    "# 'word_vecs' contains the corresponding vectors\n",
    "# 'clusters' contains the cluster assignment for each word in 'all_words'\n",
    "\n",
    "def find_representative_word(cluster_id, word_vecs, cluster_center, words):\n",
    "    min_dist = float('inf')\n",
    "    representative_word = None\n",
    "    for word, vec in zip(words, word_vecs):\n",
    "        dist = distance.euclidean(vec, cluster_center)\n",
    "        if dist < min_dist:\n",
    "            min_dist = dist\n",
    "            representative_word = word\n",
    "    return representative_word\n",
    "\n",
    "\n",
    "representative_words = []\n",
    "for i, centroid in enumerate(centroids):\n",
    "    # Find the representative word for each cluster\n",
    "    representative_word = find_representative_word(i, word_vecs, centroid, all_words)\n",
    "    representative_words.append(representative_word)\n",
    "\n",
    "# Display representative word for each cluster\n",
    "for i, word in enumerate(representative_words):\n",
    "    print(f\"Topic {i + 1}: {word}\")\n"
   ],
   "metadata": {
    "colab": {
     "base_uri": "https://localhost:8080/"
    },
    "id": "C2T8q97iy9nE",
    "executionInfo": {
     "status": "ok",
     "timestamp": 1705938453830,
     "user_tz": -60,
     "elapsed": 589,
     "user": {
      "displayName": "Kamila Fido",
      "userId": "11048561443493888987"
     }
    },
    "outputId": "798d1e61-3728-4ad2-cac8-0362272b6f15",
    "ExecuteTime": {
     "end_time": "2024-01-26T13:18:02.016969700Z",
     "start_time": "2024-01-26T13:18:01.738776100Z"
    }
   },
   "execution_count": 17,
   "outputs": [
    {
     "name": "stdout",
     "output_type": "stream",
     "text": [
      "Topic 1: say\n",
      "Topic 2: shot\n",
      "Topic 3: true\n",
      "Topic 4: never\n",
      "Topic 5: na\n"
     ]
    }
   ]
  },
  {
   "cell_type": "markdown",
   "source": [
    "# One topic one song"
   ],
   "metadata": {
    "id": "uncrio-01LEC"
   }
  },
  {
   "cell_type": "code",
   "source": [
    "def vectorize_song(song_lyrics, model):\n",
    "    vecs = []\n",
    "    for word in preprocess(song_lyrics):\n",
    "        if word in model:\n",
    "            vecs.append(model[word])\n",
    "    return vecs\n",
    "\n",
    "\n",
    "from sklearn.cluster import KMeans\n",
    "from scipy.spatial import distance\n",
    "\n",
    "\n",
    "def find_dominant_topic(word_vecs, words):\n",
    "    if not word_vecs:\n",
    "        return \"No dominant topic\"\n",
    "\n",
    "    # Apply KMeans with a small number of clusters\n",
    "    n_init_value = 10\n",
    "    kmeans = KMeans(n_clusters=1, random_state=0, n_init=n_init_value).fit(word_vecs)\n",
    "    centroid = kmeans.cluster_centers_[0]\n",
    "\n",
    "    # Find the word closest to the centroid\n",
    "    min_dist = float('inf')\n",
    "    representative_word = None\n",
    "    for word, vec in zip(words, word_vecs):\n",
    "        dist = distance.euclidean(vec, centroid)\n",
    "        if dist < min_dist:\n",
    "            min_dist = dist\n",
    "            representative_word = word\n",
    "\n",
    "    return representative_word\n",
    "\n",
    "\n",
    "# Process each song\n",
    "topics_per_song = []\n",
    "\n",
    "for song in translated_lyrics:\n",
    "    preprocessed_words = preprocess_and_remove_stopwords(song)\n",
    "    song_vecs = [word_vectors[word] for word in preprocessed_words if word in word_vectors]\n",
    "    dominant_topic = find_dominant_topic(song_vecs, preprocessed_words)\n",
    "    topics_per_song.append(dominant_topic)\n",
    "\n",
    "song_list_df['Topic'] = topics_per_song"
   ],
   "metadata": {
    "colab": {
     "base_uri": "https://localhost:8080/"
    },
    "id": "ErQEAokI1KJ4",
    "executionInfo": {
     "status": "ok",
     "timestamp": 1705938475820,
     "user_tz": -60,
     "elapsed": 5415,
     "user": {
      "displayName": "Kamila Fido",
      "userId": "11048561443493888987"
     }
    },
    "outputId": "be775ee2-f9e1-4915-efba-863965efab40",
    "ExecuteTime": {
     "end_time": "2024-01-26T13:18:02.671623900Z",
     "start_time": "2024-01-26T13:18:02.025524700Z"
    }
   },
   "execution_count": 18,
   "outputs": []
  },
  {
   "cell_type": "code",
   "outputs": [
    {
     "name": "stdout",
     "output_type": "stream",
     "text": [
      "Song 1 potential hooks:\n",
      "   Can love me better\n",
      "   I can love me better, baby\n",
      "   Started to cry, but then remembered I\n",
      "   Yeah, I can love me better than you can\n",
      "   I can buy myself flowers\n",
      "   Write my name in the sand\n",
      "   Say things you don't understand\n",
      "   I didn't wanna fight\n",
      "   I can take myself dancing, yeah\n",
      "   I can hold my own hand\n",
      "Proportion of hooks in the song: 0.58\n",
      "Song 2 potential hooks:\n",
      "   I might kill my ex\n",
      "   How\\'d I get here?\n",
      "   I\\'m so mature, I\\'m so mature\n",
      "   I\\'m so mature I got me a therapist to tell me there\\'s other men\n",
      "   I don\\'t want none, I just want you\n",
      "   Not the best idea\n",
      "   His new girlfriend\\'s next\n",
      "   I still love him though\n",
      "   Rather be in jail than alone\n",
      "   I did it all for love (love)\n",
      "   I did all of this sober\n",
      "   I just killed my ex\n",
      "Proportion of hooks in the song: 0.54\n",
      "Song 3 potential hooks:\n",
      "   You know it\\'s not the same as it was\n",
      "   In this world, it\\'s just us\n",
      "   As it was, as it was\n",
      "   You know it\\'s not the same\n",
      "Proportion of hooks in the song: 0.39\n",
      "Song 4 potential hooks:\n",
      "   that tonight's gonna be a good night\n",
      "   that tonight's gonna be a good, good night\n",
      "   A feeling\n",
      "Proportion of hooks in the song: 0.84\n",
      "Song 5 potential hooks:\n",
      "Proportion of hooks in the song: 0.00\n",
      "Song 6 potential hooks:\n",
      "   It\\'s a cruel summer\n",
      "   It\\'s blue, the feeling I\\'ve got\n",
      "   And it\\'s ooh-oh-oh\n",
      "   It\\'s cool, that\\'s what I tell \\'em\n",
      "   No rules in breakable heaven\n",
      "   With you\n",
      "   Devils roll the dice, angels roll their eyes\n",
      "   But ooh-oh-oh\n",
      "   I\\'m drunk in the back of the car\n",
      "   And I cried like a baby coming home from the bar (oh)\n",
      "   Said, \"I\\'m fine,\" but it wasn\\'t true\n",
      "   I don\\'t wanna keep secrets just to keep you\n",
      "   And I snuck in through the garden gate\n",
      "   Every night that summer just to seal my fate (oh)\n",
      "   And I scream, \"For whatever it\\'s worth\n",
      "   I love you, ain\\'t that the worst thing you ever heard?\"\n",
      "Proportion of hooks in the song: 0.67\n",
      "Song 7 potential hooks:\n",
      "   If you're playin' me, keep it on the low\n",
      "   'Cause my heart can't take it anymore\n",
      "   And if you're creepin', please, don't let it show\n",
      "   Oh, baby, I don't wanna know\n",
      "   I don't wanna know\n",
      "Proportion of hooks in the song: 0.33\n",
      "Song 8 potential hooks:\n",
      "   You got me like whoa-whoa-whoa-whoa-whoa-whoa-whoa-whoa-whoa\n",
      "   Baby, calm down, calm down\n",
      "   Girl, this your body e put my heart for lockdown\n",
      "   For lockdown, oh, lockdown\n",
      "   Girl, you sweet like Fanta o\n",
      "   Fanta o\n",
      "   If I tell you say, \"I love you\" \n",
      "   No dey form yanga o, oh, yanga o\n",
      "   No tell me no, no, no, no\n",
      "   Whoa, whoa, whoa, whoa\n",
      "   Baby, come gimme your lo-lo-lo-lo-lo-lo-lo-lo-lo-lo-lo-lo-love\n",
      "   Shawty, come gimme your lo-lo-lo-lo-lo-lo-lo-lo-lo-lo-lo-lo-love, hmm\n",
      "Proportion of hooks in the song: 0.42\n",
      "Song 9 potential hooks:\n",
      "   I was great and that's why you're\n",
      "   Oh oh oh oh\n",
      "   (Pa 'types like tú-uh-uh-uh-uh)\n",
      "   With an equal one as Tú-UH-UH-UH-UH\n",
      "   (UH-UH-UH-UH-UH)\n",
      "   Pa 'types like tú-uh-uh-uh-uh\n",
      "   Has a good person name\n",
      "   It has a good person name (UH-UH-UH-UH-UH)\n",
      "Proportion of hooks in the song: 0.34\n",
      "Song 10 potential hooks:\n",
      "   It\\'s me, hi, I\\'m the problem, it\\'s me\n",
      "   I\\'ll stare directly at the sun but never in the mirror\n",
      "   It must be exhausting always rooting for the anti-hero\n",
      "   I wake up screaming from dreaming\n",
      "   One day I\\'ll watch as you\\'re leaving\n",
      "   (For the last time)\n",
      "   At tea time, everybody agrees\n",
      "Proportion of hooks in the song: 0.42\n",
      "Song 11 potential hooks:\n",
      "   Wanna be yours\n",
      "   I wanna be yours\n",
      "   I just wanna be yours (wanna be yours)\n",
      "   Secrets I have held in my heart\n",
      "   Are harder to hide than I thought\n",
      "   Maybe I just wanna be yours\n",
      "Proportion of hooks in the song: 0.53\n",
      "Song 12 potential hooks:\n",
      "   Tell your new baby\n",
      "   That for men I do not compete\n",
      "   Stop being pulling\n",
      "   Baby, what was it?(Was)\n",
      "   No, how are you very swallowed?(AH)\n",
      "   What are you doing looking for me (ey)\n",
      "   If you know that I errors do not repeat?\n",
      "Proportion of hooks in the song: 0.23\n",
      "Song 13 potential hooks:\n",
      "   Wants me to play music\n",
      "   Pa 'that dance the baby down\n",
      "   We drank a couple of bottles\n",
      "   And yet remembers that I did 'yesterday\n",
      "   And down the baby\n",
      "Proportion of hooks in the song: 0.37\n",
      "Song 14 potential hooks:\n",
      "   Baby, I'ma have the best fuckin' night of my life\n",
      "   And wherever it takes me, I'm down for the ride\n",
      "   Baby, don't you know I'm good, yeah, I'm feelin' alright\n",
      "   'Cause I'm good, yeah, I'm feelin' alright\n",
      "   Don't you know I'm good, yeah, I'm feelin' alright\n",
      "   Oh-na-na-na-na-na\n",
      "Proportion of hooks in the song: 0.58\n",
      "Song 15 potential hooks:\n",
      "   Baby, I would die for you, yeah\n",
      "   Even though we're goin' through it\n",
      "   And it makes you feel alone\n",
      "   Just know that I would die for you\n",
      "   The distance and the time between us\n",
      "   It'll never change my mind\n",
      "   You know what I'm thinkin', see it in your eyes\n",
      "   You hate that you want me, hate it when you cry\n",
      "   I can't walk away, oh\n",
      "   'Cause, baby, I would die for you\n",
      "   I would die for you, I would lie for you\n",
      "   Keep it real with you, I would kill for you\n",
      "   My baby\n",
      "Proportion of hooks in the song: 0.58\n",
      "Song 16 potential hooks:\n",
      "   And I will use it just to tell you how much I feel\n",
      "   That if they see me with another on an album, it is just wasting time\n",
      "   Baby, what do you lie to you?\n",
      "   I have 1% left\n",
      "Proportion of hooks in the song: 0.26\n",
      "Song 17 potential hooks:\n",
      "   Mummy don't know daddy's getting hot\n",
      "   At the Body Shop\n",
      "   Doin' somethin' unholy\n",
      "   Yeah, she put it down slowly\n",
      "   Oh-ee-oh-ee-oh, he left his kids at\n",
      "   Ho-ee-oh-ee-ome so he can get that\n",
      "   Oh-oh-oh-ee-oh-ee-ee-oh (unholy)\n",
      "Proportion of hooks in the song: 0.39\n",
      "Song 18 potential hooks:\n",
      "   Hearing the songs you dedicated to me one day\n",
      "   I would tell you to come back but that is not requested\n",
      "   I'm driving on the streets you kissed me\n",
      "   I better ask God to take care of me\n",
      "   Because I'm driving on the streets you kissed me\n",
      "   I better ask God to take care of me, huh\n",
      "Proportion of hooks in the song: 0.43\n",
      "Song 19 potential hooks:\n",
      "   Good eno-o-ough\n",
      "   The boy\\'s a liar\n",
      "   He doesn\\'t see ya\n",
      "   You\\'re not lookin\\' at me, boy\n",
      "   The, the boy\\'s a liar\n",
      "Proportion of hooks in the song: 0.50\n",
      "Song 20 potential hooks:\n",
      "   Oh, I love it and I hate it at the same time\n",
      "   From the daylight, runnin' from the daylight\n",
      "   You and I drink the poison from the same vine\n",
      "   Hidin' all of our sins from the daylight\n",
      "   (Ooh)\n",
      "   There's darkness in the distance\n",
      "Proportion of hooks in the song: 0.61\n",
      "Song 21 potential hooks:\n",
      "   On another love, another love\n",
      "   All my tears have been used up\n",
      "   But all my tears have been used up\n",
      "   All my tears have been used up, up\n",
      "   But I sang 'em all to another heart\n",
      "Proportion of hooks in the song: 0.57\n",
      "Song 22 potential hooks:\n",
      "   Look what you've done\n",
      "   I'm a motherfuckin' starboy\n",
      "   House so empty, need a centerpiece\n",
      "   Twenty racks a table cut from ebony\n",
      "   Cut that ivory into skinny pieces\n",
      "   Then she clean it with her face, man, I love my baby, ah\n",
      "   You talkin' money, need a hearing aid\n",
      "   You talkin' 'bout me, I don't see the shade\n",
      "   Switch up my style, I take any lane\n",
      "   I switch up my cup, I kill any pain\n",
      "Proportion of hooks in the song: 0.63\n",
      "Song 23 potential hooks:\n",
      "   The party is more bastard if you get loose\n",
      "   And while I shut up\n",
      "   I see everything you never tell me\n",
      "   Baby, don't make you \\ ', you are under\n",
      "   I know to \\ 'what you hide \\'\n",
      "   Give it down that this ass responds\n",
      "   You and I vamo \\ 'to make more than one night\n",
      "Proportion of hooks in the song: 0.42\n",
      "Song 24 potential hooks:\n",
      "   I gave a second chance to Cupid\n",
      "   But now I'm left here feeling stupid\n",
      "   Oh, the way he makes me feel that love isn't real\n",
      "   Cupid is so dumb\n",
      "   (Oh, why? Oh, why?)\n",
      "   Oh, I wish I'd find a lover that could hold me (hold me)\n",
      "   Now I'm crying in my room\n",
      "   So skeptical of love (say what you say, but I want it more)\n",
      "   But still I want it more, more, more\n",
      "Proportion of hooks in the song: 0.60\n",
      "Song 25 potential hooks:\n",
      "   I ain't worried 'bout it right now\n",
      "   I ain't worried 'bout it\n",
      "   Keeping dreams alive, 1999, heroes\n",
      "   Swimmin' in the floods, dancing on the clouds below\n",
      "   But time is running out, no need to take it slow\n",
      "   I'm stepping to you toe-to-toe\n",
      "   I should be scared, honey, maybe so\n",
      "   But I ain't worried 'bout it right now\n",
      "   I ain't worried 'bout it, hey\n",
      "   (Yeah-yeah-yeah, Becky)\n",
      "   'Tamo chillin', relajao', ya seteamo' el ambiente\n",
      "   No se escucha lo que dicen los demás\n",
      "   Música en alta y living el presente\n",
      "   Porque sé que el tiempo no va a regresar\n",
      "   Hoy conmigo te puedes soltar (ey)\n",
      "   Dicen que el mundo se va a acabar\n",
      "   Pues antes que se acabe, vamo' a perrear\n",
      "   Vamos a perrear\n",
      "   Chill relajá' (hey), contigo debajo 'el sol\n",
      "   No estoy preocupá', en las nubes tú y yo\n",
      "   I ain't worried\n",
      "   Oh, no, no\n",
      "   (Hey)\n",
      "Proportion of hooks in the song: 0.96\n",
      "Song 26 potential hooks:\n",
      "   As long as I'm with you, I've got a smile on my face\n",
      "   Save your tears, it'll be okay\n",
      "   Oh, oh, oh, oh, oh\n",
      "   I can't describe, oh, oh\n",
      "Proportion of hooks in the song: 0.35\n",
      "Song 27 potential hooks:\n",
      "   No way it was our last night (last night)\n",
      "   But baby, baby, somethin's tellin' me this ain't over yet\n",
      "   I can't remember everything we said but we said it all\n",
      "   You told me that you wish I was somebody you never met\n",
      "Proportion of hooks in the song: 0.41\n",
      "Song 28 potential hooks:\n",
      "   I was all alone with the love of my life\n",
      "   She\\'s got glitter for skin\n",
      "   My radiant beam in the night\n",
      "   I don\\'t need no light to see you\n",
      "   Shine\n",
      "   It\\'s your golden hour (oh)\n",
      "   You slow down time\n",
      "   In your golden hour (oh)\n",
      "   Sittin\\' in the car, listening to Blonde\n",
      "   Fallin\\' for each other\n",
      "   Pink and orange skies, feelin\\' super childish\n",
      "   No Donald Glover\n",
      "   Missed call from my mother\n",
      "   Like, \"Where you at tonight?\" Got no alibi\n",
      "   She\\'s got glow on her face\n",
      "   A glorious look in her eyes\n",
      "   My angel of light\n",
      "Proportion of hooks in the song: 0.68\n",
      "Song 29 potential hooks:\n",
      "   I would never fall in love again until I found her\n",
      "   I said, \"I would never fall unless it\\'s you I fall into\"\n",
      "   I was lost within the darkness, but then I found her\n",
      "   I found you\n",
      "   I\\'ll never let you go again like I did\n",
      "   Oh, I used to say\n",
      "Proportion of hooks in the song: 0.73\n",
      "Song 30 potential hooks:\n",
      "   La-la-la-la-la-la\n",
      "   You want mommy (la-la-la-la-la-la)\n",
      "   His eye turns \\ '(la-la-la-la-la-la-la)\n",
      "   I look at her and relat (la-la-la-la-la-la)\n",
      "   The red \\ 'lipstick (la-la-la-la-la-La\n",
      "   That loose waist (la-la-la-la-la-la)\n",
      "   Baby, if I take you (la-la-la-la-la-la)\n",
      "   I upload you to the height (la-la-la-la-la-la)\n",
      "   You tell me and pick you (la-la-la-la-la-la)\n",
      "Proportion of hooks in the song: 0.30\n",
      "Song 31 potential hooks:\n",
      "   stay\n",
      "   I have the possesses in mind \\ '\n",
      "   I don't want anything anymore\n",
      "   Not with you\n",
      "   And we went in a\n",
      "   Start \\ 'at one\n",
      "   And with the fast note\n",
      "   They gave us the tre \\ '\n",
      "   WE PERIRE ALL NIGHT\n",
      "   I'm praying to God\n",
      "   Pa \\ 'repeat it another sees \\'\n",
      "   And we fell asleep \\ 'at die \\'\n",
      "   That nights without you hurt\n",
      "   And all the groans \\ '\n",
      "   That the night without you ow-e-e-Len\n",
      "   And everything I did \\ '\n",
      "Proportion of hooks in the song: 0.56\n",
      "Song 32 potential hooks:\n",
      "   What I did 'I don't want to forget it, I want to repeat it, baby\n",
      "   But I could not since you left\n",
      "   What did you do to me?\n",
      "   Hey, ma ', how do I get you from here?\n",
      "   With another, but he doesn't know the same (no)\n",
      "   What am I going to lie to you?(I'm going to lie to you)\n",
      "   I walk with ass', but I think of you\n",
      "   If I get to the album and think about you\n",
      "   What I did 'I wanted to erase it\n",
      "   A slow and inside the end\n",
      "   Woh\n",
      "Proportion of hooks in the song: 0.38\n",
      "Song 33 potential hooks:\n",
      "   Nothing of the romantic\n",
      "   You look face, Bitchy, Classy, in four fantastic\n",
      "   You touching you, I crazy about entering\n",
      "   You know what I like\n",
      "   Keep cucano that I do not vo \\ 'a fantastic\n",
      "   I'm going to charge you the fine\n",
      "   You have a face that you like Freaky and Nasty\n",
      "   More than problematic\n",
      "   WHOA\n",
      "Proportion of hooks in the song: 0.34\n",
      "Song 34 potential hooks:\n",
      "   (Walk on by)\n",
      "   I'd rather be famous instead\n",
      "   I let all that get to my head\n",
      "   I don't care, I paint the town red\n",
      "   Mm, she the devil\n",
      "   She a bad lil' bitch, she a rebel\n",
      "   She put her foot to the pedal\n",
      "   It'll take a whole lot for me to settle\n",
      "   Bitch, I said what I said\n",
      "   Yeah, bitch, I said what I said\n",
      "Proportion of hooks in the song: 0.60\n",
      "Song 35 potential hooks:\n",
      "   For you here\n",
      "   Both your hands in the holes of my sweater\n",
      "   'Cause it's too cold\n",
      "   And now, so let me hold\n",
      "   One love, two mouths\n",
      "   One love, one house\n",
      "   No shirt, no blouse\n",
      "   Just us, you find out\n",
      "   Whoa, whoa, whoa\n",
      "   Whoa, whoa, whoa, whoa\n",
      "   Whoa, whoa\n",
      "Proportion of hooks in the song: 0.51\n",
      "Song 36 potential hooks:\n",
      "   You just too important\n",
      "   I can't lose when I'm with you\n",
      "   How can I snooze and miss the moment?\n",
      "   Nobody do body like you do\n",
      "   Nobody do body like you do, you do\n",
      "   Main one ridin'\n",
      "   How you frontin' on me and I'm the main one tryin'?\n",
      "   How you blame it on me and you the main one lyin'?\n",
      "   How you threatenin' to leave and I'm the main one cryin'?\n",
      "Proportion of hooks in the song: 0.53\n",
      "Song 37 potential hooks:\n",
      "   Got a long list of ex lovers\n",
      "   They\\'ll tell you I\\'m insane\n",
      "   So it\\'s gonna be forever\n",
      "   Or it\\'s gonna go down in flames\n",
      "   If the high was worth the pain\n",
      "   \\'Cause you know I love the players\n",
      "   And you love the game\n",
      "   We\\'ll take this way too far\n",
      "   It\\'ll leave you breathless, mm\n",
      "   Or with a nasty scar\n",
      "   But I\\'ve got a blank space, baby\n",
      "   And I\\'ll write your name\n",
      "   I could show you incredible things\n",
      "   You can tell me when it\\'s over, mm\n",
      "   Boys only want love if it\\'s torture\n",
      "   Don\\'t say I didn\\'t, say I didn\\'t warn ya\n",
      "Proportion of hooks in the song: 0.60\n",
      "Song 38 potential hooks:\n",
      "   I said, ooh, I'm blinded by the lights\n",
      "   No, I can't sleep until I feel your touch\n",
      "   Hey, hey, hey\n",
      "   No one's around to judge me (oh)\n",
      "   I can't see clearly when you're gone\n",
      "   I said, ooh, I'm drowning in the night\n",
      "   Oh, when I'm like this, you're the one I trust\n",
      "Proportion of hooks in the song: 0.56\n",
      "Song 39 potential hooks:\n",
      "   I know it was a night Na 'Má'\n",
      "   That is not repeated again\n",
      "   What I lost in another\n",
      "   Your pride does not want to talk to me\n",
      "   Then 'vamo' to compete, to see, he\n",
      "   Baby, tell me the truth\n",
      "   If you forgot about me\n",
      "Proportion of hooks in the song: 0.35\n",
      "Song 40 potential hooks:\n",
      "   Hmm-hmm, yeah, yeah\n",
      "   I'm Rather Be Lost in the Lights, Lost in the Lights\n",
      "   Give Me a Good Ride\n",
      "   (OH, I'm Fallin ', I'm Fallin', I'm Fallin ')\n",
      "   Oh, it's gon 'be a good night\n",
      "   (OH, I'm Fallin ') Forever, you and i\n",
      "   There's not a bad thing here tonight\n",
      "   YEAH, I know, you know, I know (OOH)\n",
      "   I'm out of my mind, hold the end of this night\n",
      "   I'm out of my mind, I bam-ui kkeut-eul jab-ajwo\n",
      "   Every night, you spin me up high\n",
      "   Maeil BAM, you spin me up high\n",
      "   The moon with you, let me have a taste\n",
      "   NEOLEUL PUM-EUN DAL, Let ME HAVE a Taste\n",
      "   HMM-HMM (Forever, You and I)\n",
      "   I'm Feelin's so alive, Wasting Time\n",
      "   This will break me, this is Gonna Break Me (Break Me)\n",
      "   NO, Don't You Wake Me (WAKE ME)\n",
      "   I Wanna Stay in this Dream\n",
      "   Don't save me, Don't you try to save me (save me)\n",
      "   I need a way We (WAY WE)\n",
      "   I need a way we can dream on (Dream ON)\n",
      "Proportion of hooks in the song: 0.76\n",
      "Song 41 potential hooks:\n",
      "   [Chorus]\n",
      "   Now hush, little baby, don't you cry\n",
      "   Everything's gonna be alright\n",
      "   Stiffen that upper lip up, little lady, I told ya\n",
      "   Daddy's here to hold ya through the night\n",
      "   I know Mommy's not here right now and we don't know why\n",
      "   We feel how we feel inside\n",
      "   It may seem a little crazy, pretty baby\n",
      "   But I promise Mama's gon' be alright\n",
      "Proportion of hooks in the song: 0.19\n",
      "Song 42 potential hooks:\n",
      "   I don't wanna feel how I did last night\n",
      "   Doctor, doctor, have mercy on me\n",
      "   You're askin' me my symptoms, doctor\n",
      "   Just a heart broke bitch\n",
      "   High heels six inch\n",
      "   In the back of the nightclub, sippin' champagne\n",
      "   I don't trust any of these bitches I'm with\n",
      "   In the back of the taxi sniffin' cocaine\n",
      "   Drunk calls, drunk texts, drunk tears, drunk sex\n",
      "   I was lookin' for a man who was on the same page\n",
      "   Now it's back to the intro, back to the bar\n",
      "   To the Bentley, to the hotel, to my old ways\n",
      "   'Cause I don't wanna feel how I did last night\n",
      "   Doctor, doctor, anything, please\n",
      "   Take this pain away\n",
      "   I don't wanna feel\n",
      "Proportion of hooks in the song: 0.42\n",
      "Song 43 potential hooks:\n",
      "   But you make the worst one look fine\n",
      "   I should've known it was strange\n",
      "   You only come out at night\n",
      "   I used to think I was smart\n",
      "   But you made me look so naïve\n",
      "   The way you sold me for parts\n",
      "   As you sunk your teeth into me, oh\n",
      "   Bloodsucker, famefucker\n",
      "   Bleeding me dry like a goddamn vampire\n",
      "   I've made some real big mistakes\n",
      "Proportion of hooks in the song: 0.57\n",
      "Song 44 potential hooks:\n",
      "   There is no slope, I can't fail\n",
      "   I'm always ready to cross\n",
      "   Dust, wheels and also glass\n",
      "   And well lined the packages van\n",
      "Proportion of hooks in the song: 0.31\n",
      "Song 45 potential hooks:\n",
      "   Okay, okay, okay, okay\n",
      "   I don't know if I'ma see you again\n",
      "   Okay, okay, okay, oh\n",
      "   You live in my dream state\n",
      "   20/20, 20/20 vision\n",
      "   Cupid hit me, Cupid hit me with precision\n",
      "   I wonder if you look both ways\n",
      "   When you cross my mind\n",
      "   I said, I said\n",
      "   I'm sick of, sick of, sick of, sick of chasing\n",
      "   You're the one that's always running through my daydream, I\n",
      "   Can I get a kiss? (Can I?)\n",
      "   I said I'm 'bout to go to war ('bout to)\n",
      "Proportion of hooks in the song: 0.49\n",
      "Song 46 potential hooks:\n",
      "   But for you I take away\n",
      "   I ported beautiful\n",
      "   Pa 'that to' the world see\n",
      "   How rich you are ', what you are'\n",
      "   With you I have to squeeze\n",
      "   And on the street I am loose\n",
      "   If you ask me '\n",
      "Proportion of hooks in the song: 0.22\n",
      "Song 47 potential hooks:\n",
      "   (The Keep on Asking ME, \"Who is he?\")\n",
      "   He \\ 's the one that \\' s live in my system, baby\n",
      "   Oh my, oh my god expected me\n",
      "   I was real hoping that he will come through\n",
      "   Oh my, oh my god\n",
      "   NO, I can Never Let Him Go\n",
      "   It wasn't meaningful until I knew you\n",
      "   Baby\n",
      "   Run at any time away or at any time\n",
      "   You appear without a busy measure\n",
      "   Does this make sense?I ask\n",
      "   You are\n",
      "   Asking All The Time About What I SHOULD Do\n",
      "   You only remember Twenty-Four\n",
      "   I'm lucky, I'm really I know, I know\n",
      "   My heart is endless I know, I know\n",
      "   I \\ 'M Going Crazy, Right?\n",
      "   BABE, BABY\n",
      "Proportion of hooks in the song: 0.61\n",
      "Song 48 potential hooks:\n",
      "   Pure very good morrita, mounted on my truck\n",
      "Proportion of hooks in the song: 0.07\n",
      "Song 49 potential hooks:\n",
      "Proportion of hooks in the song: 0.00\n"
     ]
    }
   ],
   "source": [
    "def analyze_repetition_and_hooks(lyrics_list):\n",
    "    hooks_analysis = []\n",
    "\n",
    "    for song in lyrics_list:\n",
    "        # Split the song into lines\n",
    "        lines = song.split('\\n')\n",
    "        line_count = {}\n",
    "\n",
    "        # Count the occurrence of each line\n",
    "        for line in lines:\n",
    "            if line.strip() == \"\":  # Skip empty lines\n",
    "                continue\n",
    "            line_count.setdefault(line, 0)\n",
    "            line_count[line] += 1\n",
    "\n",
    "        # Find lines with highest repetition (potential hooks)\n",
    "        sorted_lines = sorted(line_count.items(), key=lambda x: x[1], reverse=True)\n",
    "        potential_hooks = [line for line, count in sorted_lines if count > 1]  # Threshold of more than 1 repetition\n",
    "\n",
    "        # Calculate the proportion of hooks\n",
    "        total_lines = len([line for line in lines if line.strip() != \"\"])\n",
    "        hook_lines = sum(count for line, count in sorted_lines if count > 1 and line.strip() != \"\")\n",
    "        proportion_of_hooks = hook_lines / total_lines if total_lines > 0 else 0\n",
    "\n",
    "        hooks_analysis.append({\n",
    "            'potential_hooks': potential_hooks,\n",
    "            'proportion_of_hooks': proportion_of_hooks\n",
    "        })\n",
    "\n",
    "    return hooks_analysis\n",
    "\n",
    "\n",
    "# Apply the analysis\n",
    "repetition_and_hooks = analyze_repetition_and_hooks(translated_lyrics)\n",
    "\n",
    "# Display results\n",
    "for i, song_analysis in enumerate(repetition_and_hooks):\n",
    "    print(f\"Song {i + 1} potential hooks:\")\n",
    "    for hook in song_analysis['potential_hooks']:\n",
    "        print(f\"   {hook}\")\n",
    "    print(f\"Proportion of hooks in the song: {song_analysis['proportion_of_hooks']:.2f}\")\n"
   ],
   "metadata": {
    "colab": {
     "base_uri": "https://localhost:8080/"
    },
    "id": "jxt5DDp55H1m",
    "executionInfo": {
     "status": "ok",
     "timestamp": 1705938486136,
     "user_tz": -60,
     "elapsed": 378,
     "user": {
      "displayName": "Kamila Fido",
      "userId": "11048561443493888987"
     }
    },
    "outputId": "f7121a09-9320-47ae-8af7-dd0dbec5668c",
    "ExecuteTime": {
     "end_time": "2024-01-26T13:18:02.739685400Z",
     "start_time": "2024-01-26T13:18:02.671623900Z"
    }
   },
   "execution_count": 19
  },
  {
   "cell_type": "code",
   "outputs": [],
   "source": [
    "song_list_df.to_csv('analysis_results.csv', index=False)"
   ],
   "metadata": {
    "collapsed": false,
    "ExecuteTime": {
     "end_time": "2024-01-26T13:25:38.134289200Z",
     "start_time": "2024-01-26T13:25:38.063677700Z"
    }
   },
   "execution_count": 33
  },
  {
   "cell_type": "code",
   "outputs": [
    {
     "data": {
      "text/plain": "                                    title              artist  Polarity  \\\n0                                 Flowers         Miley Cyrus  0.485994   \n1                               Kill Bill                 SZA  0.209480   \n2                               As It Was        Harry Styles  0.053846   \n3                                   Seven           Jung Kook  0.700000   \n4                         Ella Baila Sola      Eslabon Armado  0.216845   \n5                            Cruel Summer        Taylor Swift -0.104993   \n6                                 Creepin        Metro Boomin  0.165833   \n7                               Calm Down                Rema  0.051976   \n8   Shakira: Bzrp Music Sessions, Vol. 53            Bizarrap  0.112083   \n9                               Anti-Hero        Taylor Swift  0.039394   \n10                       I Wanna Be Yours      Arctic Monkeys -0.086667   \n11                                    TQG             KAROL G  0.129619   \n12                                La Bebe           Yng Lvcas  0.092904   \n13                        I'm Good (Blue)        David Guetta  0.463786   \n14                            Die For You          The Weeknd  0.122995   \n15                              un x100to      Grupo Frontera  0.042391   \n16                                 Unholy           Sam Smith  0.053283   \n17                             La Bachata       Manuel Turizo  0.205357   \n18                     Boy's a liar Pt. 2      PinkPantheress  0.336998   \n19                               Daylight       David Kushner -0.076852   \n20                           Another Love           Tom Odell  0.361667   \n21                                Starboy          The Weeknd  0.188124   \n22                             Yandel 150              Yandel  0.155766   \n23                      Cupid - Twin Ver.         FIFTY FIFTY  0.056500   \n24                        I Ain't Worried         OneRepublic  0.190000   \n25                           Here With Me                d4vd  0.238880   \n26                             Last Night       Morgan Wallen  0.054674   \n27                            golden hour                JVKE  0.116919   \n28                      Until I Found You     Stephen Sanchez  0.500000   \n29                                   LALA         Myke Towers  0.079339   \n30  Quevedo: Bzrp Music Sessions, Vol. 52            Bizarrap  0.087204   \n31                                Hey Mor               Ozuna -0.069444   \n32                             CLASSY 101                Feid  0.002377   \n33                     Paint The Town Red            Doja Cat  0.122366   \n34                        Sweater Weather   The Neighbourhood -0.100366   \n35                                 Snooze                 SZA  0.144133   \n36                            Blank Space        Taylor Swift -0.026124   \n37                        Blinding Lights          The Weeknd  0.037500   \n38                         WHERE SHE GOES           Bad Bunny  0.148214   \n39                             Like Crazy               Jimin  0.367000   \n40                            Mockingbird              Eminem -0.008498   \n41                              Escapism.                RAYE -0.079508   \n42                                vampire      Olivia Rodrigo -0.072591   \n43                                    PRC          Peso Pluma  0.023509   \n44                          See You Again  Tyler, The Creator  0.186599   \n45                        Me Porto Bonito           Bad Bunny  0.254769   \n46                                    OMG            NewJeans  0.097864   \n47                                    AMG       Natanael Cano  0.353190   \n48                      Romantic Homicide                d4vd -0.205134   \n\n    Subjectivity        Topic  \n0       0.555602         good  \n1       0.364384       though  \n2       0.216026          way  \n3       0.600000          got  \n4       0.558333        alone  \n5       0.559264       coming  \n6       0.352500        thing  \n7       0.483127         come  \n8       0.499722         well  \n9       0.412121         come  \n10      0.345000           na  \n11      0.477224      already  \n12      0.355766      tonight  \n13      0.464609         come  \n14      0.609712  communicate  \n15      0.510145         turn  \n16      0.513384        watch  \n17      0.378571         come  \n18      0.602122         even  \n19      0.473148          try  \n20      0.595556          one  \n21      0.480583         king  \n22      0.368719      gafitas  \n23      0.471000          way  \n24      0.495000          hey  \n25      0.408482           go  \n26      0.224282       really  \n27      0.501263        alone  \n28      0.600000        never  \n29      0.380325         turn  \n30      0.483728         come  \n31      0.335714          put  \n32      0.687531      imagine  \n33      0.492355      instead  \n34      0.656995        touch  \n35      0.568240         like  \n36      0.621759        table  \n37      0.597222         gone  \n38      0.657143          see  \n39      0.604667           go  \n40      0.490353         gone  \n41      0.373409        leave  \n42      0.642645         come  \n43      0.372632       carnal  \n44      0.529633    precision  \n45      0.588974         want  \n46      0.566298       hoping  \n47      0.408917          eah  \n48      0.413616         even  ",
      "text/html": "<div>\n<style scoped>\n    .dataframe tbody tr th:only-of-type {\n        vertical-align: middle;\n    }\n\n    .dataframe tbody tr th {\n        vertical-align: top;\n    }\n\n    .dataframe thead th {\n        text-align: right;\n    }\n</style>\n<table border=\"1\" class=\"dataframe\">\n  <thead>\n    <tr style=\"text-align: right;\">\n      <th></th>\n      <th>title</th>\n      <th>artist</th>\n      <th>Polarity</th>\n      <th>Subjectivity</th>\n      <th>Topic</th>\n    </tr>\n  </thead>\n  <tbody>\n    <tr>\n      <th>0</th>\n      <td>Flowers</td>\n      <td>Miley Cyrus</td>\n      <td>0.485994</td>\n      <td>0.555602</td>\n      <td>good</td>\n    </tr>\n    <tr>\n      <th>1</th>\n      <td>Kill Bill</td>\n      <td>SZA</td>\n      <td>0.209480</td>\n      <td>0.364384</td>\n      <td>though</td>\n    </tr>\n    <tr>\n      <th>2</th>\n      <td>As It Was</td>\n      <td>Harry Styles</td>\n      <td>0.053846</td>\n      <td>0.216026</td>\n      <td>way</td>\n    </tr>\n    <tr>\n      <th>3</th>\n      <td>Seven</td>\n      <td>Jung Kook</td>\n      <td>0.700000</td>\n      <td>0.600000</td>\n      <td>got</td>\n    </tr>\n    <tr>\n      <th>4</th>\n      <td>Ella Baila Sola</td>\n      <td>Eslabon Armado</td>\n      <td>0.216845</td>\n      <td>0.558333</td>\n      <td>alone</td>\n    </tr>\n    <tr>\n      <th>5</th>\n      <td>Cruel Summer</td>\n      <td>Taylor Swift</td>\n      <td>-0.104993</td>\n      <td>0.559264</td>\n      <td>coming</td>\n    </tr>\n    <tr>\n      <th>6</th>\n      <td>Creepin</td>\n      <td>Metro Boomin</td>\n      <td>0.165833</td>\n      <td>0.352500</td>\n      <td>thing</td>\n    </tr>\n    <tr>\n      <th>7</th>\n      <td>Calm Down</td>\n      <td>Rema</td>\n      <td>0.051976</td>\n      <td>0.483127</td>\n      <td>come</td>\n    </tr>\n    <tr>\n      <th>8</th>\n      <td>Shakira: Bzrp Music Sessions, Vol. 53</td>\n      <td>Bizarrap</td>\n      <td>0.112083</td>\n      <td>0.499722</td>\n      <td>well</td>\n    </tr>\n    <tr>\n      <th>9</th>\n      <td>Anti-Hero</td>\n      <td>Taylor Swift</td>\n      <td>0.039394</td>\n      <td>0.412121</td>\n      <td>come</td>\n    </tr>\n    <tr>\n      <th>10</th>\n      <td>I Wanna Be Yours</td>\n      <td>Arctic Monkeys</td>\n      <td>-0.086667</td>\n      <td>0.345000</td>\n      <td>na</td>\n    </tr>\n    <tr>\n      <th>11</th>\n      <td>TQG</td>\n      <td>KAROL G</td>\n      <td>0.129619</td>\n      <td>0.477224</td>\n      <td>already</td>\n    </tr>\n    <tr>\n      <th>12</th>\n      <td>La Bebe</td>\n      <td>Yng Lvcas</td>\n      <td>0.092904</td>\n      <td>0.355766</td>\n      <td>tonight</td>\n    </tr>\n    <tr>\n      <th>13</th>\n      <td>I'm Good (Blue)</td>\n      <td>David Guetta</td>\n      <td>0.463786</td>\n      <td>0.464609</td>\n      <td>come</td>\n    </tr>\n    <tr>\n      <th>14</th>\n      <td>Die For You</td>\n      <td>The Weeknd</td>\n      <td>0.122995</td>\n      <td>0.609712</td>\n      <td>communicate</td>\n    </tr>\n    <tr>\n      <th>15</th>\n      <td>un x100to</td>\n      <td>Grupo Frontera</td>\n      <td>0.042391</td>\n      <td>0.510145</td>\n      <td>turn</td>\n    </tr>\n    <tr>\n      <th>16</th>\n      <td>Unholy</td>\n      <td>Sam Smith</td>\n      <td>0.053283</td>\n      <td>0.513384</td>\n      <td>watch</td>\n    </tr>\n    <tr>\n      <th>17</th>\n      <td>La Bachata</td>\n      <td>Manuel Turizo</td>\n      <td>0.205357</td>\n      <td>0.378571</td>\n      <td>come</td>\n    </tr>\n    <tr>\n      <th>18</th>\n      <td>Boy's a liar Pt. 2</td>\n      <td>PinkPantheress</td>\n      <td>0.336998</td>\n      <td>0.602122</td>\n      <td>even</td>\n    </tr>\n    <tr>\n      <th>19</th>\n      <td>Daylight</td>\n      <td>David Kushner</td>\n      <td>-0.076852</td>\n      <td>0.473148</td>\n      <td>try</td>\n    </tr>\n    <tr>\n      <th>20</th>\n      <td>Another Love</td>\n      <td>Tom Odell</td>\n      <td>0.361667</td>\n      <td>0.595556</td>\n      <td>one</td>\n    </tr>\n    <tr>\n      <th>21</th>\n      <td>Starboy</td>\n      <td>The Weeknd</td>\n      <td>0.188124</td>\n      <td>0.480583</td>\n      <td>king</td>\n    </tr>\n    <tr>\n      <th>22</th>\n      <td>Yandel 150</td>\n      <td>Yandel</td>\n      <td>0.155766</td>\n      <td>0.368719</td>\n      <td>gafitas</td>\n    </tr>\n    <tr>\n      <th>23</th>\n      <td>Cupid - Twin Ver.</td>\n      <td>FIFTY FIFTY</td>\n      <td>0.056500</td>\n      <td>0.471000</td>\n      <td>way</td>\n    </tr>\n    <tr>\n      <th>24</th>\n      <td>I Ain't Worried</td>\n      <td>OneRepublic</td>\n      <td>0.190000</td>\n      <td>0.495000</td>\n      <td>hey</td>\n    </tr>\n    <tr>\n      <th>25</th>\n      <td>Here With Me</td>\n      <td>d4vd</td>\n      <td>0.238880</td>\n      <td>0.408482</td>\n      <td>go</td>\n    </tr>\n    <tr>\n      <th>26</th>\n      <td>Last Night</td>\n      <td>Morgan Wallen</td>\n      <td>0.054674</td>\n      <td>0.224282</td>\n      <td>really</td>\n    </tr>\n    <tr>\n      <th>27</th>\n      <td>golden hour</td>\n      <td>JVKE</td>\n      <td>0.116919</td>\n      <td>0.501263</td>\n      <td>alone</td>\n    </tr>\n    <tr>\n      <th>28</th>\n      <td>Until I Found You</td>\n      <td>Stephen Sanchez</td>\n      <td>0.500000</td>\n      <td>0.600000</td>\n      <td>never</td>\n    </tr>\n    <tr>\n      <th>29</th>\n      <td>LALA</td>\n      <td>Myke Towers</td>\n      <td>0.079339</td>\n      <td>0.380325</td>\n      <td>turn</td>\n    </tr>\n    <tr>\n      <th>30</th>\n      <td>Quevedo: Bzrp Music Sessions, Vol. 52</td>\n      <td>Bizarrap</td>\n      <td>0.087204</td>\n      <td>0.483728</td>\n      <td>come</td>\n    </tr>\n    <tr>\n      <th>31</th>\n      <td>Hey Mor</td>\n      <td>Ozuna</td>\n      <td>-0.069444</td>\n      <td>0.335714</td>\n      <td>put</td>\n    </tr>\n    <tr>\n      <th>32</th>\n      <td>CLASSY 101</td>\n      <td>Feid</td>\n      <td>0.002377</td>\n      <td>0.687531</td>\n      <td>imagine</td>\n    </tr>\n    <tr>\n      <th>33</th>\n      <td>Paint The Town Red</td>\n      <td>Doja Cat</td>\n      <td>0.122366</td>\n      <td>0.492355</td>\n      <td>instead</td>\n    </tr>\n    <tr>\n      <th>34</th>\n      <td>Sweater Weather</td>\n      <td>The Neighbourhood</td>\n      <td>-0.100366</td>\n      <td>0.656995</td>\n      <td>touch</td>\n    </tr>\n    <tr>\n      <th>35</th>\n      <td>Snooze</td>\n      <td>SZA</td>\n      <td>0.144133</td>\n      <td>0.568240</td>\n      <td>like</td>\n    </tr>\n    <tr>\n      <th>36</th>\n      <td>Blank Space</td>\n      <td>Taylor Swift</td>\n      <td>-0.026124</td>\n      <td>0.621759</td>\n      <td>table</td>\n    </tr>\n    <tr>\n      <th>37</th>\n      <td>Blinding Lights</td>\n      <td>The Weeknd</td>\n      <td>0.037500</td>\n      <td>0.597222</td>\n      <td>gone</td>\n    </tr>\n    <tr>\n      <th>38</th>\n      <td>WHERE SHE GOES</td>\n      <td>Bad Bunny</td>\n      <td>0.148214</td>\n      <td>0.657143</td>\n      <td>see</td>\n    </tr>\n    <tr>\n      <th>39</th>\n      <td>Like Crazy</td>\n      <td>Jimin</td>\n      <td>0.367000</td>\n      <td>0.604667</td>\n      <td>go</td>\n    </tr>\n    <tr>\n      <th>40</th>\n      <td>Mockingbird</td>\n      <td>Eminem</td>\n      <td>-0.008498</td>\n      <td>0.490353</td>\n      <td>gone</td>\n    </tr>\n    <tr>\n      <th>41</th>\n      <td>Escapism.</td>\n      <td>RAYE</td>\n      <td>-0.079508</td>\n      <td>0.373409</td>\n      <td>leave</td>\n    </tr>\n    <tr>\n      <th>42</th>\n      <td>vampire</td>\n      <td>Olivia Rodrigo</td>\n      <td>-0.072591</td>\n      <td>0.642645</td>\n      <td>come</td>\n    </tr>\n    <tr>\n      <th>43</th>\n      <td>PRC</td>\n      <td>Peso Pluma</td>\n      <td>0.023509</td>\n      <td>0.372632</td>\n      <td>carnal</td>\n    </tr>\n    <tr>\n      <th>44</th>\n      <td>See You Again</td>\n      <td>Tyler, The Creator</td>\n      <td>0.186599</td>\n      <td>0.529633</td>\n      <td>precision</td>\n    </tr>\n    <tr>\n      <th>45</th>\n      <td>Me Porto Bonito</td>\n      <td>Bad Bunny</td>\n      <td>0.254769</td>\n      <td>0.588974</td>\n      <td>want</td>\n    </tr>\n    <tr>\n      <th>46</th>\n      <td>OMG</td>\n      <td>NewJeans</td>\n      <td>0.097864</td>\n      <td>0.566298</td>\n      <td>hoping</td>\n    </tr>\n    <tr>\n      <th>47</th>\n      <td>AMG</td>\n      <td>Natanael Cano</td>\n      <td>0.353190</td>\n      <td>0.408917</td>\n      <td>eah</td>\n    </tr>\n    <tr>\n      <th>48</th>\n      <td>Romantic Homicide</td>\n      <td>d4vd</td>\n      <td>-0.205134</td>\n      <td>0.413616</td>\n      <td>even</td>\n    </tr>\n  </tbody>\n</table>\n</div>"
     },
     "execution_count": 36,
     "metadata": {},
     "output_type": "execute_result"
    }
   ],
   "source": [
    "song_list_df"
   ],
   "metadata": {
    "collapsed": false,
    "ExecuteTime": {
     "end_time": "2024-01-26T15:05:58.720482900Z",
     "start_time": "2024-01-26T15:05:58.678965400Z"
    }
   },
   "execution_count": 36
  }
 ]
}
